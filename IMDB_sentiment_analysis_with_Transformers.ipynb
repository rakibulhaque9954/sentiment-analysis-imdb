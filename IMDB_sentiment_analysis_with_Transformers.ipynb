{
  "cells": [
    {
      "cell_type": "markdown",
      "metadata": {
        "id": "view-in-github",
        "colab_type": "text"
      },
      "source": [
        "<a href=\"https://colab.research.google.com/github/rakibulhaque9954/sentiment-analysis-imdb/blob/main/IMDB_sentiment_analysis_with_Transformers.ipynb\" target=\"_parent\"><img src=\"https://colab.research.google.com/assets/colab-badge.svg\" alt=\"Open In Colab\"/></a>"
      ]
    },
    {
      "cell_type": "markdown",
      "metadata": {
        "id": "VGgjjqp2_ZzA"
      },
      "source": [
        "# Acknowledgement"
      ]
    },
    {
      "cell_type": "markdown",
      "metadata": {
        "id": "Ojkq8lGs_ezj"
      },
      "source": [
        "**Based on research by members of Google Brain, Google Research, Univerity of Toronto**<br>\n",
        "Paper Link: https://arxiv.org/pdf/1706.03762.pdf\n"
      ]
    },
    {
      "cell_type": "markdown",
      "metadata": {
        "id": "YkeasEue5qIo"
      },
      "source": [
        "# Imports"
      ]
    },
    {
      "cell_type": "code",
      "execution_count": 1,
      "metadata": {
        "id": "Vt93_FwG0cLc"
      },
      "outputs": [],
      "source": [
        "import tensorflow as tf### models\n",
        "import numpy as np### math computations\n",
        "import matplotlib.pyplot as plt### plotting bar chart\n",
        "import sklearn### machine learning library\n",
        "import cv2## image processing\n",
        "from sklearn.metrics import confusion_matrix, roc_curve### metrics\n",
        "import seaborn as sns### visualizations\n",
        "import datetime\n",
        "import pathlib\n",
        "import io\n",
        "import os\n",
        "import re\n",
        "import string\n",
        "import time\n",
        "from numpy import random\n",
        "import tensorflow_datasets as tfds\n",
        "import tensorflow_probability as tfp\n",
        "from keras.models import Model\n",
        "from keras.layers import Layer\n",
        "from keras.layers import (Dense,Flatten,SimpleRNN,InputLayer,Conv1D,Bidirectional,GRU,LSTM,BatchNormalization,Dropout,Input, Embedding,TextVectorization)\n",
        "from keras.losses import BinaryCrossentropy,CategoricalCrossentropy, SparseCategoricalCrossentropy\n",
        "from keras.metrics import Accuracy,TopKCategoricalAccuracy, CategoricalAccuracy, SparseCategoricalAccuracy\n",
        "from keras.optimizers import Adam\n",
        "from keras.layers import MultiHeadAttention, LayerNormalization\n",
        "from google.colab import drive\n",
        "from google.colab import files\n",
        "from tensorboard.plugins import projector"
      ]
    },
    {
      "cell_type": "markdown",
      "metadata": {
        "id": "yHoYbLZ0Vd1Z"
      },
      "source": [
        "# Data Preparation"
      ]
    },
    {
      "cell_type": "code",
      "source": [
        "BATCH_SIZE = 64"
      ],
      "metadata": {
        "id": "x3cqwQplr1ut"
      },
      "execution_count": 33,
      "outputs": []
    },
    {
      "cell_type": "code",
      "source": [
        "train_ds, val_ds, test_ds=tfds.load('imdb_reviews', split=['train', 'test[:50%]', 'test[50%:]'],as_supervised=True)"
      ],
      "metadata": {
        "id": "Eon6J020r0rg"
      },
      "execution_count": 72,
      "outputs": []
    },
    {
      "cell_type": "code",
      "source": [
        "for review,label in train_ds.take(1):\n",
        "  print(\"Review:\",review.numpy())\n",
        "  print(\"Label:\",label.numpy())\n"
      ],
      "metadata": {
        "colab": {
          "base_uri": "https://localhost:8080/"
        },
        "id": "fuL515g9sAvS",
        "outputId": "e526d3a7-f157-414d-f1fd-8e1a44d19e96"
      },
      "execution_count": 34,
      "outputs": [
        {
          "output_type": "stream",
          "name": "stdout",
          "text": [
            "Review: b\"This was an absolutely terrible movie. Don't be lured in by Christopher Walken or Michael Ironside. Both are great actors, but this must simply be their worst role in history. Even their great acting could not redeem this movie's ridiculous storyline. This movie is an early nineties US propaganda piece. The most pathetic scenes were those when the Columbian rebels were making their cases for revolutions. Maria Conchita Alonso appeared phony, and her pseudo-love affair with Walken was nothing but a pathetic emotional plug in a movie that was devoid of any real meaning. I am disappointed that there are movies like this, ruining actor's like Christopher Walken's good name. I could barely sit through it.\"\n",
            "Label: 0\n"
          ]
        }
      ]
    },
    {
      "cell_type": "markdown",
      "source": [
        "## Standardization"
      ],
      "metadata": {
        "id": "N7Gd5WJws1f9"
      }
    },
    {
      "cell_type": "code",
      "source": [
        "def standardization(input_data):\n",
        "    '''\n",
        "    Input: raw reviews\n",
        "    output: standardized reviews\n",
        "    '''\n",
        "    lowercase=tf.strings.lower(input_data)\n",
        "    no_tag=tf.strings.regex_replace(lowercase,\"<[^>]+>\",\"\")\n",
        "    output=tf.strings.regex_replace(no_tag,\"[%s]\"%re.escape(string.punctuation),\"\")\n",
        "\n",
        "    return output"
      ],
      "metadata": {
        "id": "11HtyoiUsEVT"
      },
      "execution_count": 35,
      "outputs": []
    },
    {
      "cell_type": "code",
      "source": [
        "standardization(tf.constant(\"<u>In the movie?, </u>man called Tévèz, went to a friend’s pl**ce and they had a tensed discussion. I don’t love this movie! would you?<br> <br /><br />T\"))"
      ],
      "metadata": {
        "colab": {
          "base_uri": "https://localhost:8080/"
        },
        "id": "B0hHJ4zKsJxg",
        "outputId": "b682da5e-e30d-4d93-87b4-e88aac4fddf3"
      },
      "execution_count": 36,
      "outputs": [
        {
          "output_type": "execute_result",
          "data": {
            "text/plain": [
              "<tf.Tensor: shape=(), dtype=string, numpy=b'in the movie man called t\\xc3\\xa9v\\xc3\\xa8z went to a friend\\xe2\\x80\\x99s plce and they had a tensed discussion i don\\xe2\\x80\\x99t love this movie would you t'>"
            ]
          },
          "metadata": {},
          "execution_count": 36
        }
      ]
    },
    {
      "cell_type": "markdown",
      "source": [
        "## Vectorization"
      ],
      "metadata": {
        "id": "0Q5f_61hs5MX"
      }
    },
    {
      "cell_type": "code",
      "source": [
        "VOCAB_SIZE=10000\n",
        "SEQUENCE_LENGTH=250\n",
        "EMBEDDING_DIM=300"
      ],
      "metadata": {
        "id": "iHUeO5WnsLdB"
      },
      "execution_count": 37,
      "outputs": []
    },
    {
      "cell_type": "code",
      "source": [
        "vectorize_layer=TextVectorization(\n",
        "    standardize=standardization,\n",
        "    max_tokens=VOCAB_SIZE,\n",
        "    output_mode='int',\n",
        "    output_sequence_length=SEQUENCE_LENGTH\n",
        ")"
      ],
      "metadata": {
        "id": "Th37witGsNlf"
      },
      "execution_count": 38,
      "outputs": []
    },
    {
      "cell_type": "code",
      "source": [
        "training_data=train_ds.map(lambda x,y:x)### input x and y and outputx\n",
        "vectorize_layer.adapt(training_data)#### adapt the vectorize_layer to the training data"
      ],
      "metadata": {
        "id": "Qx-bgWi-sP_J"
      },
      "execution_count": 39,
      "outputs": []
    },
    {
      "cell_type": "code",
      "source": [
        "len(vectorize_layer.get_vocabulary())"
      ],
      "metadata": {
        "colab": {
          "base_uri": "https://localhost:8080/"
        },
        "id": "wJHbQ_e0sRXH",
        "outputId": "7560397b-988a-4b77-a42c-28ba754b30a8"
      },
      "execution_count": 11,
      "outputs": [
        {
          "output_type": "execute_result",
          "data": {
            "text/plain": [
              "10000"
            ]
          },
          "metadata": {},
          "execution_count": 11
        }
      ]
    },
    {
      "cell_type": "code",
      "source": [
        "def vectorizer(review,label):\n",
        "    return vectorize_layer(review),label"
      ],
      "metadata": {
        "id": "pLHK9RHNsSvp"
      },
      "execution_count": 40,
      "outputs": []
    },
    {
      "cell_type": "code",
      "source": [
        "train_dataset=train_ds.map(vectorizer)\n",
        "val_dataset=val_ds.map(vectorizer)"
      ],
      "metadata": {
        "id": "TeAN2rhSsWVL"
      },
      "execution_count": 41,
      "outputs": []
    },
    {
      "cell_type": "code",
      "source": [
        "vectorize_layer.get_vocabulary()[0:10]"
      ],
      "metadata": {
        "colab": {
          "base_uri": "https://localhost:8080/"
        },
        "id": "TP8ZkU8isXLo",
        "outputId": "58dfb264-3192-4ec9-f016-9a579bd21bf9"
      },
      "execution_count": 14,
      "outputs": [
        {
          "output_type": "execute_result",
          "data": {
            "text/plain": [
              "['', '[UNK]', 'the', 'and', 'a', 'of', 'to', 'is', 'in', 'it']"
            ]
          },
          "metadata": {},
          "execution_count": 14
        }
      ]
    },
    {
      "cell_type": "code",
      "source": [
        "for review,label in train_dataset.take(1):\n",
        "  print(\"Review:\",review)\n",
        "  print(\"Label:\",label.numpy())\n"
      ],
      "metadata": {
        "colab": {
          "base_uri": "https://localhost:8080/"
        },
        "id": "3fCdgsnCsbxk",
        "outputId": "501c12e9-c19b-4c83-bb60-3315064b7dad"
      },
      "execution_count": 15,
      "outputs": [
        {
          "output_type": "stream",
          "name": "stdout",
          "text": [
            "Review: tf.Tensor(\n",
            "[  10   13   33  411  384   17   89   26    1    8   32 1337 3521   40\n",
            "  491    1  192   22   84  149   18   10  215  317   26   64  239  212\n",
            "    8  484   54   64   84  111   95   21 5502   10   91  637  737   10\n",
            "   17    7   33  393 9554  169 2443  406    2   87 1205  135   65  142\n",
            "   52    2    1 7408   65  245   64 2832   16    1 2851    1    1 1415\n",
            " 4969    3   39    1 1567   15 3521   13  156   18    4 1205  881 7874\n",
            "    8    4   17   12   13 4037    5   98  145 1234   11  236  696   12\n",
            "   48   22   91   37   10 7285  149   37 1337    1   49  396   11   95\n",
            " 1148  841  140    9    0    0    0    0    0    0    0    0    0    0\n",
            "    0    0    0    0    0    0    0    0    0    0    0    0    0    0\n",
            "    0    0    0    0    0    0    0    0    0    0    0    0    0    0\n",
            "    0    0    0    0    0    0    0    0    0    0    0    0    0    0\n",
            "    0    0    0    0    0    0    0    0    0    0    0    0    0    0\n",
            "    0    0    0    0    0    0    0    0    0    0    0    0    0    0\n",
            "    0    0    0    0    0    0    0    0    0    0    0    0    0    0\n",
            "    0    0    0    0    0    0    0    0    0    0    0    0    0    0\n",
            "    0    0    0    0    0    0    0    0    0    0    0    0    0    0\n",
            "    0    0    0    0    0    0    0    0    0    0    0    0], shape=(250,), dtype=int64)\n",
            "Label: 0\n"
          ]
        }
      ]
    },
    {
      "cell_type": "markdown",
      "source": [
        "## Datasets Prefecthing and Batching"
      ],
      "metadata": {
        "id": "4Gltmc1Qs-i1"
      }
    },
    {
      "cell_type": "code",
      "source": [
        "train_dataset = train_dataset.batch(BATCH_SIZE).prefetch(tf.data.AUTOTUNE)\n",
        "val_dataset = val_dataset.batch(BATCH_SIZE).prefetch(tf.data.AUTOTUNE)"
      ],
      "metadata": {
        "id": "3Xz_0XrWshwY"
      },
      "execution_count": 42,
      "outputs": []
    },
    {
      "cell_type": "markdown",
      "metadata": {
        "id": "xrvBxtH4XDVc"
      },
      "source": [
        "# Modeling\n",
        "\n",
        "<hr>\n",
        "<h4>Model Architecture (only Encoder)</h4>\n",
        "<hr>\n",
        "<img src='https://miro.medium.com/v2/resize:fit:490/1*THykpgtL058A9EpkstnUJQ.png'>"
      ]
    },
    {
      "cell_type": "markdown",
      "metadata": {
        "id": "d65NBU1S1Vde"
      },
      "source": [
        "***Step Wise Explanation:***\n",
        "- Transformer Encoder Block: In sentiment analysis, we usually leverage the transformer encoder architecture. It excels at capturing contextual information from the input text.\n",
        "- Contextual Vectors: The encoder processes the input text and produces contextual vectors for each word or subword in the sequence. These vectors contain rich information about the words and their relationships within the context of the sentence.\n",
        "- Flattening: After obtaining the contextual vectors, you can flatten or concatenate them into a single vector representation. This helps in summarizing the entire input sequence into a fixed-size representation.\n",
        "- Fully Connected Layer: The flattened vectors are then passed through a fully connected neural network layer. This layer typically consists of multiple neurons or units.\n",
        "- Sigmoid Activation: To perform binary sentiment classification (positive/negative), a sigmoid activation function is commonly used in the output layer. It squashes the values to the range [0, 1], making it suitable for binary classification."
      ]
    },
    {
      "cell_type": "markdown",
      "metadata": {
        "id": "82vlVMX1QsJM"
      },
      "source": [
        "<h4>Inside Attention Layer</h4>\n",
        "<img src='https://production-media.paperswithcode.com/methods/35184258-10f5-4cd0-8de3-bd9bc8f88dc3.png'>"
      ]
    },
    {
      "cell_type": "markdown",
      "metadata": {
        "id": "pTCpHdYylY9t"
      },
      "source": [
        "Encoder's Role (Intra-Attention in Encoder):\n",
        "The encoder processes the input sequence and performs intra-attention.\n",
        "It produces context vectors (contextual representations) for each word in the input sequence.\n",
        "These context vectors capture information about how each word relates to others within the input sequence.\n"
      ]
    },
    {
      "cell_type": "markdown",
      "metadata": {
        "id": "hmPY5aUXXORJ"
      },
      "source": [
        "## Transformers Architecture for Sentiment Analysis\n",
        "***Similar to BERT***"
      ]
    },
    {
      "cell_type": "markdown",
      "metadata": {
        "id": "dv3t-6btPj-f"
      },
      "source": [
        "<img src=\"https://www.mihaileric.com/static/feedforward_layer_and_normalization-dfdcfbd00009f7f99eca73ae29f2dfb7-4ec3a.png\">"
      ]
    },
    {
      "cell_type": "markdown",
      "metadata": {
        "id": "NKhhYacdHlku"
      },
      "source": [
        "### Positional Encoding"
      ]
    },
    {
      "cell_type": "code",
      "execution_count": 18,
      "metadata": {
        "id": "qq2bXmPlHlCJ"
      },
      "outputs": [],
      "source": [
        "def positional_encoding(model_size, SEQUENCE_LENGTH): # d_model\n",
        "  output = []\n",
        "  for pos in range(SEQUENCE_LENGTH):\n",
        "    PE = np.zeros((model_size)) # initilizing with zeros\n",
        "    for i in range(model_size):\n",
        "      if i % 2 == 0: # even positions, sin formula is used according to paper\n",
        "        PE[i] = np.sin(pos/(10000**(i/model_size)))\n",
        "      else: # odd positions, cos formula is used as mentioned in the paper\n",
        "        PE[i] = np.cos(pos/(10000**((i-1)/model_size)))\n",
        "    output.append(tf.expand_dims(PE, axis = 0))\n",
        "\n",
        "  out = tf.concat(output, axis=0)\n",
        "  out = tf.expand_dims(out, axis=0)\n",
        "  return tf.cast(out, dtype=tf.float32)"
      ]
    },
    {
      "cell_type": "code",
      "execution_count": 19,
      "metadata": {
        "id": "KWIb_9ypKJ80",
        "colab": {
          "base_uri": "https://localhost:8080/"
        },
        "outputId": "6b8922c3-d252-4e9e-9fbb-5da0bb378ae0"
      },
      "outputs": [
        {
          "output_type": "stream",
          "name": "stdout",
          "text": [
            "(1, 32, 256)\n"
          ]
        }
      ],
      "source": [
        "print(positional_encoding(256, 32).shape)"
      ]
    },
    {
      "cell_type": "markdown",
      "metadata": {
        "id": "RwiXTKylN9Nb"
      },
      "source": [
        "### Input Embeddings"
      ]
    },
    {
      "cell_type": "code",
      "execution_count": 20,
      "metadata": {
        "id": "Fb-2bfFuN753"
      },
      "outputs": [],
      "source": [
        "class Embeddings(Layer):\n",
        "  def __init__(self, sequence_length, vocab_size, embedding_dim):\n",
        "    super(Embeddings, self).__init__()\n",
        "    self.token_embeddings = Embedding(input_dim=vocab_size, output_dim=embedding_dim)\n",
        "    self.sequence_length = sequence_length\n",
        "    self.vocab_size = vocab_size\n",
        "    self.embedding_dim = embedding_dim\n",
        "\n",
        "  def call(self, inputs):\n",
        "    embedded_tokens = self.token_embeddings(inputs)\n",
        "    embedded_positions = positional_encoding(self.embedding_dim, self.sequence_length) # PE adding here\n",
        "    return embedded_tokens + embedded_positions # final output for inputs\n",
        "\n",
        "  def compute_mask(self, inputs, mask=None):\n",
        "    return tf.math.not_equal(inputs, 0) # masking function for checking if there are pad tokens(0)\n",
        "\n"
      ]
    },
    {
      "cell_type": "markdown",
      "source": [
        "### Custom Attention Layers\n",
        "\n"
      ],
      "metadata": {
        "id": "se_d-VgdZJxt"
      }
    },
    {
      "cell_type": "markdown",
      "source": [
        "**Self Attention Layer**\n",
        "<hr>"
      ],
      "metadata": {
        "id": "OelgaGHsZQgz"
      }
    },
    {
      "cell_type": "code",
      "source": [
        "class CustomSelfAttention(Layer):\n",
        "  def __init__(self, model_size):\n",
        "    super(CustomSelfAttention, self).__init__()\n",
        "    self.model_size = model_size\n",
        "\n",
        "  def call(self, query, key, value, masking):\n",
        "    #### Compute Scores ####\n",
        "    score = tf.matmul(query, key, transpose_b=True)\n",
        "\n",
        "    #### Scaling ####\n",
        "    score = score / tf.math.sqrt(tf.cast(self.model_size, dtype=tf.float32))\n",
        "\n",
        "    #### Masking ####\n",
        "    masking = tf.cast(masking, dtype=tf.float32)\n",
        "    score -= (1.0 - masking) * 1e10\n",
        "\n",
        "    #### Attention Weights ####\n",
        "    attention_weights = tf.nn.softmax(score, axis=-1) * masking\n",
        "\n",
        "    #### Weighted Sum ####\n",
        "    head_output = tf.matmul(attention_weights, value)\n",
        "\n",
        "    #### Output ####\n",
        "    return head_output\n"
      ],
      "metadata": {
        "id": "Uk1jY3YjZOdb"
      },
      "execution_count": 21,
      "outputs": []
    },
    {
      "cell_type": "markdown",
      "source": [
        "\n",
        "**Multi-Head-Attention Layer**\n",
        "<hr>"
      ],
      "metadata": {
        "id": "WMuAEGjzZYYD"
      }
    },
    {
      "cell_type": "code",
      "source": [
        "class CustomMultiHeadAttention(Layer):\n",
        "  def __init__(self, num_heads, key_dim):\n",
        "    super(CustomMultiHeadAttention, self).__init__()\n",
        "\n",
        "    self.num_heads = num_heads\n",
        "    self.dense_q = [Dense(key_dim//num_heads) for _ in range(num_heads)]\n",
        "    self.dense_k = [Dense(key_dim//num_heads) for _ in range(num_heads)]\n",
        "    self.dense_v = [Dense(key_dim//num_heads) for _ in range(num_heads)]\n",
        "    self.dense_o = Dense(key_dim)\n",
        "    self.attention = CustomSelfAttention(key_dim)\n",
        "\n",
        "  def call(self, query, key, value, attention_mask):\n",
        "    heads = []\n",
        "\n",
        "    for i in range(self.num_heads): # for each head\n",
        "      print(f'head-{i}', self.dense_q[i](query).shape)\n",
        "      head = self.self_attention(self.dense_q[i](query), self.dense_k[i](key),\n",
        "                                 self.dense_v[i](value), attention_mask)\n",
        "\n",
        "      heads.append(head)\n",
        "    heads = tf.concat(heads, axis=2) # concatenating all heads\n",
        "    heads = self.dense_o(heads) # passing all heads through a linear layer for the final output\n",
        "    return heads\n"
      ],
      "metadata": {
        "id": "5wUWzrZ_avgB"
      },
      "execution_count": null,
      "outputs": []
    },
    {
      "cell_type": "markdown",
      "metadata": {
        "id": "dqhsy5auXVnN"
      },
      "source": [
        "### Encoder Layer"
      ]
    },
    {
      "cell_type": "code",
      "execution_count": 22,
      "metadata": {
        "id": "26gOOnLNV2iP"
      },
      "outputs": [],
      "source": [
        "class TransformerEncoder(Layer):\n",
        "  def __init__(self, embedding_dims, dense_dims, num_heads):\n",
        "    super(TransformerEncoder, self).__init__()\n",
        "    self.embedding_dims = embedding_dims\n",
        "    self.dense_dims = dense_dims\n",
        "    self.num_heads = num_heads\n",
        "    self.attention = MultiHeadAttention(num_heads=num_heads, key_dim=embedding_dims)\n",
        "\n",
        "    self.dense_proj = tf.keras.Sequential([\n",
        "        Dense(self.dense_dims, activation=\"relu\"),\n",
        "        Dense(self.embedding_dims),\n",
        "    ])\n",
        "    self.layernorm_1 = LayerNormalization()\n",
        "    self.layernorm_2 = LayerNormalization()\n",
        "    self.supports_masking = True\n",
        "\n",
        "  def call(self, inputs, mask=None):\n",
        "    # print(mask)\n",
        "    if mask is not None:\n",
        "      mask = tf.cast(mask[:, tf.newaxis, :], dtype='int32')\n",
        "      # print(mask)\n",
        "      T = tf.shape(mask)[2]\n",
        "      padding_mask = tf.repeat(mask, T, axis=1)\n",
        "      # print(padding_mask)\n",
        "\n",
        "    attention_output = self.attention(query=inputs, value=inputs, key=inputs, attention_mask=padding_mask)\n",
        "\n",
        "    proj_input = self.layernorm_1(inputs + attention_output)\n",
        "    proj_output = self.dense_proj(proj_input)\n",
        "    return self.layernorm_2(proj_input + proj_output)"
      ]
    },
    {
      "cell_type": "code",
      "execution_count": null,
      "metadata": {
        "id": "xvMJ79aMWUsJ"
      },
      "outputs": [],
      "source": [
        "##### Test for Encoder #####\n",
        "# test_input = tf.random.uniform((1, 10, 256))\n",
        "# test_mask = tf.cast(tf.random.uniform((1, 10)) > 0.5, tf.int32)\n",
        "# encoder = TransformerEncoder(embedding_dims=256, dense_dims=512, num_heads=8)(output_embed)\n",
        "# print(encoder.shape)\n"
      ]
    },
    {
      "cell_type": "markdown",
      "metadata": {
        "id": "D1l831Exqv7s"
      },
      "source": [
        "### Full Transfomers Model for sentiment classification"
      ]
    },
    {
      "cell_type": "code",
      "execution_count": 27,
      "metadata": {
        "id": "8-ybmslsa6SZ"
      },
      "outputs": [],
      "source": [
        "EMBEDDING_DIMS = 128\n",
        "NUM_HEADS = 8\n",
        "NUM_LAYERS = 1\n",
        "NUM_EPOCHS = 10\n",
        "LATENT_DIMS = 1024"
      ]
    },
    {
      "cell_type": "code",
      "execution_count": 28,
      "metadata": {
        "id": "mHQAwl21oYHK",
        "colab": {
          "base_uri": "https://localhost:8080/"
        },
        "outputId": "cf42d83f-410f-4157-d14c-e3b096cfde3e"
      },
      "outputs": [
        {
          "output_type": "stream",
          "name": "stdout",
          "text": [
            "Model: \"sentiment_transformer\"\n",
            "_________________________________________________________________\n",
            " Layer (type)                Output Shape              Param #   \n",
            "=================================================================\n",
            " input_1 (InputLayer)        [(None, None)]            0         \n",
            "                                                                 \n",
            " embeddings_2 (Embeddings)   (None, 250, 128)          1280000   \n",
            "                                                                 \n",
            " transformer_encoder_1 (Tra  (None, 250, 128)          791296    \n",
            " nsformerEncoder)                                                \n",
            "                                                                 \n",
            " flatten_1 (Flatten)         (None, 32000)             0         \n",
            "                                                                 \n",
            " dense_5 (Dense)             (None, 1)                 32001     \n",
            "                                                                 \n",
            "=================================================================\n",
            "Total params: 2103297 (8.02 MB)\n",
            "Trainable params: 2103297 (8.02 MB)\n",
            "Non-trainable params: 0 (0.00 Byte)\n",
            "_________________________________________________________________\n"
          ]
        }
      ],
      "source": [
        "encoder_inputs = Input(shape=(None,), dtype='int64', name='input')\n",
        "embeddings = Embeddings(SEQUENCE_LENGTH, VOCAB_SIZE, EMBEDDING_DIMS)\n",
        "x = embeddings(encoder_inputs)\n",
        "\n",
        "\n",
        "\n",
        "for _ in range(NUM_LAYERS): # there can be N number of layers as mentioned by paper\n",
        "  x = TransformerEncoder(EMBEDDING_DIMS, LATENT_DIMS, NUM_HEADS)(x)\n",
        "\n",
        "x = Flatten()(x) # flattening all the contextual vectors\n",
        "\n",
        "output = Dense(1, activation='sigmoid')(x) # classification\n",
        "\n",
        "sentiment_transformer = tf.keras.Model(encoder_inputs, output, name='sentiment_transformer')\n",
        "\n",
        "sentiment_transformer.summary()"
      ]
    },
    {
      "cell_type": "markdown",
      "metadata": {
        "id": "vNl7CPS0dcUY"
      },
      "source": [
        "# Training"
      ]
    },
    {
      "cell_type": "markdown",
      "metadata": {
        "id": "tnXEaY5usBks"
      },
      "source": [
        "## BLEU Metric"
      ]
    },
    {
      "cell_type": "code",
      "execution_count": 43,
      "metadata": {
        "id": "Sn2pQG6frq4E"
      },
      "outputs": [],
      "source": [
        "class BLEU(tf.keras.metrics.Metric):\n",
        "    def __init__(self,name='bleu_score'):\n",
        "        super(BLEU,self).__init__()\n",
        "        self.bleu_score=0\n",
        "\n",
        "    def update_state(self,y_true,y_pred,sample_weight=None):\n",
        "      y_pred=tf.argmax(y_pred,-1)\n",
        "      self.bleu_score=0\n",
        "      for i,j in zip(y_pred,y_true):\n",
        "        tf.autograph.experimental.set_loop_options()\n",
        "\n",
        "        total_words=tf.math.count_nonzero(i)\n",
        "        total_matches=0\n",
        "        for word in i:\n",
        "          if word==0:\n",
        "            break\n",
        "          for q in range(len(j)):\n",
        "            if j[q]==0:\n",
        "              break\n",
        "            if word==j[q]:\n",
        "              total_matches+=1\n",
        "              j=tf.boolean_mask(j,[False if y==q else True for y in range(len(j))])\n",
        "              break\n",
        "\n",
        "        self.bleu_score+=total_matches/total_words\n",
        "\n",
        "    def result(self):\n",
        "        return self.bleu_score/BATCH_SIZE"
      ]
    },
    {
      "cell_type": "markdown",
      "source": [
        "## Compilation and Fitting"
      ],
      "metadata": {
        "id": "7ijzzKjsZ6bD"
      }
    },
    {
      "cell_type": "code",
      "execution_count": 47,
      "metadata": {
        "id": "nyfhZadAsGCI"
      },
      "outputs": [],
      "source": [
        "sentiment_transformer.compile(\n",
        "    loss=tf.keras.losses.BinaryCrossentropy(),\n",
        "    optimizer=tf.keras.optimizers.Adam(learning_rate=1e-4),\n",
        "    metrics=['accuracy'],\n",
        ")\n",
        "\n"
      ]
    },
    {
      "cell_type": "code",
      "execution_count": 48,
      "metadata": {
        "id": "5da6zVwPsYzq",
        "colab": {
          "base_uri": "https://localhost:8080/"
        },
        "outputId": "dac5f31d-ba6a-4864-b345-e58febf95590"
      },
      "outputs": [
        {
          "output_type": "stream",
          "name": "stdout",
          "text": [
            "Epoch 1/10\n",
            "391/391 [==============================] - 56s 122ms/step - loss: 0.7194 - accuracy: 0.5190 - val_loss: 0.7033 - val_accuracy: 0.4967\n",
            "Epoch 2/10\n",
            "391/391 [==============================] - 32s 82ms/step - loss: 0.7030 - accuracy: 0.5260 - val_loss: 0.6960 - val_accuracy: 0.4978\n",
            "Epoch 3/10\n",
            "391/391 [==============================] - 33s 84ms/step - loss: 0.6915 - accuracy: 0.5461 - val_loss: 0.6939 - val_accuracy: 0.5010\n",
            "Epoch 4/10\n",
            "391/391 [==============================] - 33s 85ms/step - loss: 0.6739 - accuracy: 0.5764 - val_loss: 0.7104 - val_accuracy: 0.4974\n",
            "Epoch 5/10\n",
            "391/391 [==============================] - 33s 85ms/step - loss: 0.5391 - accuracy: 0.7245 - val_loss: 0.4843 - val_accuracy: 0.7629\n",
            "Epoch 6/10\n",
            "391/391 [==============================] - 33s 85ms/step - loss: 0.3405 - accuracy: 0.8530 - val_loss: 0.5077 - val_accuracy: 0.7694\n",
            "Epoch 7/10\n",
            "391/391 [==============================] - 33s 85ms/step - loss: 0.2842 - accuracy: 0.8824 - val_loss: 0.3738 - val_accuracy: 0.8358\n",
            "Epoch 8/10\n",
            "391/391 [==============================] - 33s 85ms/step - loss: 0.2484 - accuracy: 0.8984 - val_loss: 0.3560 - val_accuracy: 0.8460\n",
            "Epoch 9/10\n",
            "391/391 [==============================] - 33s 85ms/step - loss: 0.2130 - accuracy: 0.9133 - val_loss: 0.3824 - val_accuracy: 0.8444\n",
            "Epoch 10/10\n",
            "391/391 [==============================] - 33s 85ms/step - loss: 0.1982 - accuracy: 0.9216 - val_loss: 0.4257 - val_accuracy: 0.8373\n"
          ]
        }
      ],
      "source": [
        "history = sentiment_transformer.fit(\n",
        "    train_dataset,\n",
        "    epochs=10,\n",
        "    validation_data=val_dataset)"
      ]
    },
    {
      "cell_type": "code",
      "source": [
        "sentiment_transformer.save('transformer.hdf5')"
      ],
      "metadata": {
        "id": "dco-2a-QfMUS"
      },
      "execution_count": null,
      "outputs": []
    },
    {
      "cell_type": "markdown",
      "metadata": {
        "id": "MgsxM6FRu7Uy"
      },
      "source": [
        "# Testing and Evaluation"
      ]
    },
    {
      "cell_type": "markdown",
      "source": [
        "## Model loss and accuracy plots"
      ],
      "metadata": {
        "id": "a6RaruE8sDYa"
      }
    },
    {
      "cell_type": "code",
      "execution_count": 49,
      "metadata": {
        "id": "ne1Lhnn9mTPW",
        "colab": {
          "base_uri": "https://localhost:8080/",
          "height": 472
        },
        "outputId": "0445ddda-0175-425e-8584-b061c8b30838"
      },
      "outputs": [
        {
          "output_type": "display_data",
          "data": {
            "text/plain": [
              "<Figure size 640x480 with 1 Axes>"
            ],
            "image/png": "[encoded data removed]"
          },
          "metadata": {}
        }
      ],
      "source": [
        "plt.plot(history.history['loss'])\n",
        "plt.plot(history.history['val_loss'])\n",
        "plt.title('Model Loss and Validation Loss')\n",
        "plt.xlabel('Epoch')\n",
        "plt.ylabel('Loss')\n",
        "plt.legend(['Train', 'Val'])\n",
        "plt.show()\n"
      ]
    },
    {
      "cell_type": "code",
      "source": [
        "plt.plot(history.history['accuracy'])\n",
        "plt.plot(history.history['val_accuracy'])\n",
        "plt.title('Model Accuracy and Validation Accuracy')\n",
        "plt.xlabel('Epoch')\n",
        "plt.ylabel('Accuracu')\n",
        "plt.legend(['Train', 'Val'])\n",
        "plt.show()\n"
      ],
      "metadata": {
        "colab": {
          "base_uri": "https://localhost:8080/",
          "height": 472
        },
        "id": "nR7XhF9-VzEc",
        "outputId": "aab9929a-dae6-4b1c-d7ca-1753d6e3f1a0"
      },
      "execution_count": 50,
      "outputs": [
        {
          "output_type": "display_data",
          "data": {
            "text/plain": [
              "<Figure size 640x480 with 1 Axes>"
            ],
            "image/png": "[encoded data removed]"
          },
          "metadata": {}
        }
      ]
    },
    {
      "cell_type": "markdown",
      "source": [
        "##Evaluation"
      ],
      "metadata": {
        "id": "0K4qP_j2sHVQ"
      }
    },
    {
      "cell_type": "code",
      "source": [
        "test_dataset=test_ds.map(vectorizer) # vectorizing\n",
        "test_dataset=test_dataset.batch(BATCH_SIZE) # batching\n",
        "sentiment_transformer.evaluate(test_dataset)"
      ],
      "metadata": {
        "id": "CzldWzDNsJ7a",
        "colab": {
          "base_uri": "https://localhost:8080/"
        },
        "outputId": "5fcdd645-af25-4baf-8505-c60ca391d6b5"
      },
      "execution_count": 73,
      "outputs": [
        {
          "output_type": "stream",
          "name": "stdout",
          "text": [
            "196/196 [==============================] - 6s 27ms/step - loss: 0.4266 - accuracy: 0.8346\n"
          ]
        },
        {
          "output_type": "execute_result",
          "data": {
            "text/plain": [
              "[0.4265553951263428, 0.8346400260925293]"
            ]
          },
          "metadata": {},
          "execution_count": 73
        }
      ]
    },
    {
      "cell_type": "markdown",
      "source": [
        "# Testing"
      ],
      "metadata": {
        "id": "7abAsLb8WSPN"
      }
    },
    {
      "cell_type": "code",
      "source": [
        "test_data = tf.data.Dataset.from_tensor_slices([[\"this movie looks very interesting, i love the fact that the actors do a great job in showing how people lived in the 18th century, which wasn't very good at all. But atleast this movie recreates this scenes! \"],\n",
        "                                              [\"very good start, but movie started becoming uninteresting at some point though initially i thought it would have been much more fun. There was too much background noise, so in all i didn't like this movie \"],])\n"
      ],
      "metadata": {
        "id": "OmwR5gYwWL6I"
      },
      "execution_count": 65,
      "outputs": []
    },
    {
      "cell_type": "code",
      "source": [
        "def vectorizer_test(review):\n",
        "  return vectorize_layer(review)\n",
        "\n",
        "test_dataset = test_data.map(vectorizer_test)\n",
        "\n",
        "\n"
      ],
      "metadata": {
        "id": "lszAB9ElWVXQ"
      },
      "execution_count": 66,
      "outputs": []
    },
    {
      "cell_type": "code",
      "source": [
        "for review in test_dataset:\n",
        "  if sentiment_transformer.predict(review) > 0.6:\n",
        "    print(\"Positive\", sentiment_transformer.predict(review))\n",
        "  else:\n",
        "    print(\"Negative\", sentiment_transformer.predict(review))\n",
        "\n"
      ],
      "metadata": {
        "colab": {
          "base_uri": "https://localhost:8080/"
        },
        "id": "-1Uo1v8yWkHq",
        "outputId": "33761fc5-56f4-4976-8743-1e4bd2c38647"
      },
      "execution_count": 67,
      "outputs": [
        {
          "output_type": "stream",
          "name": "stdout",
          "text": [
            "1/1 [==============================] - 0s 20ms/step\n",
            "1/1 [==============================] - 0s 19ms/step\n",
            "Positive [[0.989176]]\n",
            "1/1 [==============================] - 0s 19ms/step\n",
            "1/1 [==============================] - 0s 18ms/step\n",
            "Negative [[0.12883693]]\n"
          ]
        }
      ]
    },
    {
      "cell_type": "markdown",
      "source": [
        "# Evaluation Metrics"
      ],
      "metadata": {
        "id": "mbW-elmvYKC9"
      }
    },
    {
      "cell_type": "code",
      "source": [
        "y_true = []\n",
        "y_pred = []\n",
        "\n",
        "for X_batch, y_batch in test_dataset:\n",
        "    y_true.extend(y_batch)\n",
        "    y_pred_batch = sentiment_transformer.predict(X_batch)\n",
        "    y_pred.extend(np.round(y_pred_batch).flatten())\n",
        "\n",
        "y_true = np.array(y_true)\n",
        "y_pred = np.array(y_pred)"
      ],
      "metadata": {
        "id": "sdqrr_GgaTFv"
      },
      "execution_count": null,
      "outputs": []
    },
    {
      "cell_type": "code",
      "source": [
        "from sklearn.metrics import confusion_matrix, classification_report\n",
        "import seaborn as sns\n",
        "import matplotlib.pyplot as plt\n",
        "\n",
        "cm = confusion_matrix(y_true, y_pred)\n",
        "\n",
        "plt.figure(figsize=(6,6))\n",
        "sns.heatmap(cm, annot=True, fmt=\"d\")\n",
        "plt.ylabel('True label')\n",
        "plt.xlabel('Predicted label')\n",
        "plt.show()\n"
      ],
      "metadata": {
        "colab": {
          "base_uri": "https://localhost:8080/",
          "height": 542
        },
        "id": "i1uRHyOXaZ9h",
        "outputId": "e30923ba-8fe9-4721-f149-dd96e6f3ce51"
      },
      "execution_count": 77,
      "outputs": [
        {
          "output_type": "display_data",
          "data": {
            "text/plain": [
              "<Figure size 600x600 with 2 Axes>"
            ],
            "image/png": "[encoded data removed]"
          },
          "metadata": {}
        }
      ]
    },
    {
      "cell_type": "code",
      "source": [
        "print(classification_report(y_true, y_pred))"
      ],
      "metadata": {
        "colab": {
          "base_uri": "https://localhost:8080/"
        },
        "id": "HRuSVo8Hajio",
        "outputId": "26d90386-e2d9-4978-92a3-322f56caeb5d"
      },
      "execution_count": 78,
      "outputs": [
        {
          "output_type": "stream",
          "name": "stdout",
          "text": [
            "              precision    recall  f1-score   support\n",
            "\n",
            "           0       0.84      0.83      0.83      6209\n",
            "           1       0.83      0.84      0.84      6291\n",
            "\n",
            "    accuracy                           0.83     12500\n",
            "   macro avg       0.83      0.83      0.83     12500\n",
            "weighted avg       0.83      0.83      0.83     12500\n",
            "\n"
          ]
        }
      ]
    },
    {
      "cell_type": "markdown",
      "source": [
        "***More training and Hyperparams tuning can definitely increase the accuracy and can lead to a better and more accurate model.***"
      ],
      "metadata": {
        "id": "sUkZxcUxbDAs"
      }
    }
  ],
  "metadata": {
    "accelerator": "GPU",
    "colab": {
      "collapsed_sections": [
        "yHoYbLZ0Vd1Z"
      ],
      "machine_shape": "hm",
      "provenance": [],
      "gpuType": "T4",
      "mount_file_id": "1bU7GhF23xWvpCyve3p8sX7aqbg235nCJ",
      "authorship_tag": "ABX9TyORYBk5TJDTiB+kpzE6/heo",
      "include_colab_link": true
    },
    "kernelspec": {
      "display_name": "Python 3",
      "name": "python3"
    },
    "language_info": {
      "name": "python"
    }
  },
  "nbformat": 4,
  "nbformat_minor": 0
}