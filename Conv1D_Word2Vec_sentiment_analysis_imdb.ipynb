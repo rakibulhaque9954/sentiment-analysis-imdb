{
  "nbformat": 4,
  "nbformat_minor": 0,
  "metadata": {
    "colab": {
      "provenance": [],
      "machine_shape": "hm",
      "gpuType": "T4",
      "collapsed_sections": [
        "FYj_ZSYbMMJI",
        "ng4XRWttqXUe"
      ],
      "mount_file_id": "1diXdpbXHgqquC5GXhT10YgRnDrzsUfFK",
      "authorship_tag": "ABX9TyMPfvYPoctIAlAZd+Q1IMsN",
      "include_colab_link": true
    },
    "kernelspec": {
      "name": "python3",
      "display_name": "Python 3"
    },
    "language_info": {
      "name": "python"
    },
    "accelerator": "GPU"
  },
  "cells": [
    {
      "cell_type": "markdown",
      "metadata": {
        "id": "view-in-github",
        "colab_type": "text"
      },
      "source": [
        "<a href=\"https://colab.research.google.com/github/rakibulhaque9954/sentiment-analysis-imdb/blob/main/Conv1D_Word2Vec_sentiment_analysis_imdb.ipynb\" target=\"_parent\"><img src=\"https://colab.research.google.com/assets/colab-badge.svg\" alt=\"Open In Colab\"/></a>"
      ]
    },
    {
      "cell_type": "markdown",
      "source": [
        "# Imports\n"
      ],
      "metadata": {
        "id": "EYZxBAmIMD0W"
      }
    },
    {
      "cell_type": "code",
      "execution_count": 1,
      "metadata": {
        "id": "HG7kdrkYLkac"
      },
      "outputs": [],
      "source": [
        "import tensorflow as tf### models\n",
        "import numpy as np### math computations\n",
        "import matplotlib.pyplot as plt### plotting bar chart\n",
        "import sklearn### machine learning library\n",
        "import cv2\n",
        "from sklearn.metrics import confusion_matrix, roc_curve### metrics\n",
        "import seaborn as sns### visualizations\n",
        "import datetime\n",
        "import pathlib\n",
        "import io\n",
        "import os\n",
        "import re\n",
        "import string\n",
        "import time\n",
        "from numpy import random\n",
        "import gensim.downloader as api\n",
        "from PIL import Image\n",
        "import tensorflow_datasets as tfds\n",
        "import tensorflow_probability as tfp\n",
        "from keras.models import Model\n",
        "from keras.layers import Layer\n",
        "from keras.layers import (Dense,Flatten,SimpleRNN,InputLayer,Conv1D,Bidirectional,GRU,LSTM,BatchNormalization,Dropout,Input, Embedding,TextVectorization)\n",
        "from keras.losses import BinaryCrossentropy,CategoricalCrossentropy, SparseCategoricalCrossentropy\n",
        "from keras.metrics import Accuracy,TopKCategoricalAccuracy, CategoricalAccuracy, SparseCategoricalAccuracy\n",
        "from keras.optimizers import Adam\n",
        "from google.colab import drive\n",
        "from google.colab import files\n",
        "from tensorboard.plugins import projector"
      ]
    },
    {
      "cell_type": "markdown",
      "source": [
        "# Data Preparation"
      ],
      "metadata": {
        "id": "FYj_ZSYbMMJI"
      }
    },
    {
      "cell_type": "code",
      "source": [
        "train_dataset, val_dataset, test_dataset = tfds.load('imdb_reviews', split=['train', 'test[:50%]', 'test[50%:]'], as_supervised=True)\n"
      ],
      "metadata": {
        "id": "hNc_MclFMQO7"
      },
      "execution_count": 74,
      "outputs": []
    },
    {
      "cell_type": "code",
      "source": [
        "for review, label in train_dataset.take(10):\n",
        "  print(\"Review\", review)\n",
        "  print(\"Label\", label.numpy())\n",
        "\n"
      ],
      "metadata": {
        "colab": {
          "base_uri": "https://localhost:8080/"
        },
        "id": "TTF2nzXHMnNO",
        "outputId": "5243b896-4b22-427d-a57e-a55cf3a9d07c"
      },
      "execution_count": 3,
      "outputs": [
        {
          "output_type": "stream",
          "name": "stdout",
          "text": [
            "Review tf.Tensor(b\"This was an absolutely terrible movie. Don't be lured in by Christopher Walken or Michael Ironside. Both are great actors, but this must simply be their worst role in history. Even their great acting could not redeem this movie's ridiculous storyline. This movie is an early nineties US propaganda piece. The most pathetic scenes were those when the Columbian rebels were making their cases for revolutions. Maria Conchita Alonso appeared phony, and her pseudo-love affair with Walken was nothing but a pathetic emotional plug in a movie that was devoid of any real meaning. I am disappointed that there are movies like this, ruining actor's like Christopher Walken's good name. I could barely sit through it.\", shape=(), dtype=string)\n",
            "Label 0\n",
            "Review tf.Tensor(b'I have been known to fall asleep during films, but this is usually due to a combination of things including, really tired, being warm and comfortable on the sette and having just eaten a lot. However on this occasion I fell asleep because the film was rubbish. The plot development was constant. Constantly slow and boring. Things seemed to happen, but with no explanation of what was causing them or why. I admit, I may have missed part of the film, but i watched the majority of it and everything just seemed to happen of its own accord without any real concern for anything else. I cant recommend this film at all.', shape=(), dtype=string)\n",
            "Label 0\n",
            "Review tf.Tensor(b'Mann photographs the Alberta Rocky Mountains in a superb fashion, and Jimmy Stewart and Walter Brennan give enjoyable performances as they always seem to do. <br /><br />But come on Hollywood - a Mountie telling the people of Dawson City, Yukon to elect themselves a marshal (yes a marshal!) and to enforce the law themselves, then gunfighters battling it out on the streets for control of the town? <br /><br />Nothing even remotely resembling that happened on the Canadian side of the border during the Klondike gold rush. Mr. Mann and company appear to have mistaken Dawson City for Deadwood, the Canadian North for the American Wild West.<br /><br />Canadian viewers be prepared for a Reefer Madness type of enjoyable howl with this ludicrous plot, or, to shake your head in disgust.', shape=(), dtype=string)\n",
            "Label 0\n",
            "Review tf.Tensor(b'This is the kind of film for a snowy Sunday afternoon when the rest of the world can go ahead with its own business as you descend into a big arm-chair and mellow for a couple of hours. Wonderful performances from Cher and Nicolas Cage (as always) gently row the plot along. There are no rapids to cross, no dangerous waters, just a warm and witty paddle through New York life at its best. A family film in every sense and one that deserves the praise it received.', shape=(), dtype=string)\n",
            "Label 1\n",
            "Review tf.Tensor(b'As others have mentioned, all the women that go nude in this film are mostly absolutely gorgeous. The plot very ably shows the hypocrisy of the female libido. When men are around they want to be pursued, but when no \"men\" are around, they become the pursuers of a 14 year old boy. And the boy becomes a man really fast (we should all be so lucky at this age!). He then gets up the courage to pursue his true love.', shape=(), dtype=string)\n",
            "Label 1\n",
            "Review tf.Tensor(b\"This is a film which should be seen by anybody interested in, effected by, or suffering from an eating disorder. It is an amazingly accurate and sensitive portrayal of bulimia in a teenage girl, its causes and its symptoms. The girl is played by one of the most brilliant young actresses working in cinema today, Alison Lohman, who was later so spectacular in 'Where the Truth Lies'. I would recommend that this film be shown in all schools, as you will never see a better on this subject. Alison Lohman is absolutely outstanding, and one marvels at her ability to convey the anguish of a girl suffering from this compulsive disorder. If barometers tell us the air pressure, Alison Lohman tells us the emotional pressure with the same degree of accuracy. Her emotional range is so precise, each scene could be measured microscopically for its gradations of trauma, on a scale of rising hysteria and desperation which reaches unbearable intensity. Mare Winningham is the perfect choice to play her mother, and does so with immense sympathy and a range of emotions just as finely tuned as Lohman's. Together, they make a pair of sensitive emotional oscillators vibrating in resonance with one another. This film is really an astonishing achievement, and director Katt Shea should be proud of it. The only reason for not seeing it is if you are not interested in people. But even if you like nature films best, this is after all animal behaviour at the sharp edge. Bulimia is an extreme version of how a tormented soul can destroy her own body in a frenzy of despair. And if we don't sympathise with people suffering from the depths of despair, then we are dead inside.\", shape=(), dtype=string)\n",
            "Label 1\n",
            "Review tf.Tensor(b'Okay, you have:<br /><br />Penelope Keith as Miss Herringbone-Tweed, B.B.E. (Backbone of England.) She\\'s killed off in the first scene - that\\'s right, folks; this show has no backbone!<br /><br />Peter O\\'Toole as Ol\\' Colonel Cricket from The First War and now the emblazered Lord of the Manor.<br /><br />Joanna Lumley as the ensweatered Lady of the Manor, 20 years younger than the colonel and 20 years past her own prime but still glamourous (Brit spelling, not mine) enough to have a toy-boy on the side. It\\'s alright, they have Col. Cricket\\'s full knowledge and consent (they guy even comes \\'round for Christmas!) Still, she\\'s considerate of the colonel enough to have said toy-boy her own age (what a gal!)<br /><br />David McCallum as said toy-boy, equally as pointlessly glamourous as his squeeze. Pilcher couldn\\'t come up with any cover for him within the story, so she gave him a hush-hush job at the Circus.<br /><br />and finally:<br /><br />Susan Hampshire as Miss Polonia Teacups, Venerable Headmistress of the Venerable Girls\\' Boarding-School, serving tea in her office with a dash of deep, poignant advice for life in the outside world just before graduation. Her best bit of advice: \"I\\'ve only been to Nancherrow (the local Stately Home of England) once. I thought it was very beautiful but, somehow, not part of the real world.\" Well, we can\\'t say they didn\\'t warn us.<br /><br />Ah, Susan - time was, your character would have been running the whole show. They don\\'t write \\'em like that any more. Our loss, not yours.<br /><br />So - with a cast and setting like this, you have the re-makings of \"Brideshead Revisited,\" right?<br /><br />Wrong! They took these 1-dimensional supporting roles because they paid so well. After all, acting is one of the oldest temp-jobs there is (YOU name another!)<br /><br />First warning sign: lots and lots of backlighting. They get around it by shooting outdoors - \"hey, it\\'s just the sunlight!\"<br /><br />Second warning sign: Leading Lady cries a lot. When not crying, her eyes are moist. That\\'s the law of romance novels: Leading Lady is \"dewy-eyed.\"<br /><br />Henceforth, Leading Lady shall be known as L.L.<br /><br />Third warning sign: L.L. actually has stars in her eyes when she\\'s in love. Still, I\\'ll give Emily Mortimer an award just for having to act with that spotlight in her eyes (I wonder . did they use contacts?)<br /><br />And lastly, fourth warning sign: no on-screen female character is \"Mrs.\" She\\'s either \"Miss\" or \"Lady.\"<br /><br />When all was said and done, I still couldn\\'t tell you who was pursuing whom and why. I couldn\\'t even tell you what was said and done.<br /><br />To sum up: they all live through World War II without anything happening to them at all.<br /><br />OK, at the end, L.L. finds she\\'s lost her parents to the Japanese prison camps and baby sis comes home catatonic. Meanwhile (there\\'s always a \"meanwhile,\") some young guy L.L. had a crush on (when, I don\\'t know) comes home from some wartime tough spot and is found living on the street by Lady of the Manor (must be some street if SHE\\'s going to find him there.) Both war casualties are whisked away to recover at Nancherrow (SOMEBODY has to be \"whisked away\" SOMEWHERE in these romance stories!)<br /><br />Great drama.', shape=(), dtype=string)\n",
            "Label 0\n",
            "Review tf.Tensor(b'The film is based on a genuine 1950s novel.<br /><br />Journalist Colin McInnes wrote a set of three \"London novels\": \"Absolute Beginners\", \"City of Spades\" and \"Mr Love and Justice\". I have read all three. The first two are excellent. The last, perhaps an experiment that did not come off. But McInnes\\'s work is highly acclaimed; and rightly so. This musical is the novelist\\'s ultimate nightmare - to see the fruits of one\\'s mind being turned into a glitzy, badly-acted, soporific one-dimensional apology of a film that says it captures the spirit of 1950s London, and does nothing of the sort.<br /><br />Thank goodness Colin McInnes wasn\\'t alive to witness it.', shape=(), dtype=string)\n",
            "Label 0\n",
            "Review tf.Tensor(b'I really love the sexy action and sci-fi films of the sixties and its because of the actress\\'s that appeared in them. They found the sexiest women to be in these films and it didn\\'t matter if they could act (Remember \"Candy\"?). The reason I was disappointed by this film was because it wasn\\'t nostalgic enough. The story here has a European sci-fi film called \"Dragonfly\" being made and the director is fired. So the producers decide to let a young aspiring filmmaker (Jeremy Davies) to complete the picture. They\\'re is one real beautiful woman in the film who plays Dragonfly but she\\'s barely in it. Film is written and directed by Roman Coppola who uses some of his fathers exploits from his early days and puts it into the script. I wish the film could have been an homage to those early films. They could have lots of cameos by actors who appeared in them. There is one actor in this film who was popular from the sixties and its John Phillip Law (Barbarella). Gerard Depardieu, Giancarlo Giannini and Dean Stockwell appear as well. I guess I\\'m going to have to continue waiting for a director to make a good homage to the films of the sixties. If any are reading this, \"Make it as sexy as you can\"! I\\'ll be waiting!', shape=(), dtype=string)\n",
            "Label 0\n",
            "Review tf.Tensor(b'Sure, this one isn\\'t really a blockbuster, nor does it target such a position. \"Dieter\" is the first name of a quite popular German musician, who is either loved or hated for his kind of acting and thats exactly what this movie is about. It is based on the autobiography \"Dieter Bohlen\" wrote a few years ago but isn\\'t meant to be accurate on that. The movie is filled with some sexual offensive content (at least for American standard) which is either amusing (not for the other \"actors\" of course) or dumb - it depends on your individual kind of humor or on you being a \"Bohlen\"-Fan or not. Technically speaking there isn\\'t much to criticize. Speaking of me I find this movie to be an OK-movie.', shape=(), dtype=string)\n",
            "Label 0\n"
          ]
        }
      ]
    },
    {
      "cell_type": "code",
      "source": [
        "def standardization(input_data):\n",
        "  \"\"\"Input: Raw Data(review, etc)\n",
        "     Output: Standardized Data(review, etc)\n",
        "     conversion to lower case for data regualrity,\n",
        "     removal of html tags,\n",
        "     regex means regularization text,\n",
        "     removal of punctuations,\n",
        "     removal of special characters,\n",
        "     remove accented characters,\n",
        "     stemming for example: discussion, discussed, discussing are the same word from the root discuss\n",
        "     lemmatization for example: tensed when reduced to stem its tens which makes no sense, thats why lemmatization\n",
        "     is used to provide the base for of the word, in this case tensed is turned into a lemma which is tense(again this two methods\n",
        "     have their own use cases depending on the scenario)\n",
        "  \"\"\"\n",
        "  lower_case = tf.strings.lower(input_data)\n",
        "  html_tags = tf.strings.regex_replace(lower_case, '<[^>]+>', ' ')\n",
        "  output = tf.strings.regex_replace(html_tags, '[%s]' % re.escape(string.punctuation), ' ')\n",
        "\n",
        "\n",
        "  return output\n",
        "\n",
        "\n"
      ],
      "metadata": {
        "id": "notqOavfM-_2"
      },
      "execution_count": 4,
      "outputs": []
    },
    {
      "cell_type": "code",
      "source": [
        "standardization(tf.constant(\"<u>Okay,</u> you have:<br /><br />Penelope Keith as Miss Herringbone-Tweed, B.B.E. (Backbone of England.) She\\'s killed off in the first scene - that\\'s right, folks; this show has no backbone!<br /><br />Peter O\\'Toole as Ol\\' Colonel Cricket from The First War and now the emblazered Lord of the Manor.<br /><br />Joanna Lumley as the ensweatered Lady of the Manor, 20 years younger than the colonel and 20 years past her own prime but still glamourous (Brit spelling, not mine) enough to have a toy-boy on the side. It\\'s alright, they have Col.\"))"
      ],
      "metadata": {
        "colab": {
          "base_uri": "https://localhost:8080/"
        },
        "id": "NMoFbeyCS610",
        "outputId": "e6cf0a05-a8d2-44d3-dc3b-e52458a2a5a4"
      },
      "execution_count": 5,
      "outputs": [
        {
          "output_type": "execute_result",
          "data": {
            "text/plain": [
              "<tf.Tensor: shape=(), dtype=string, numpy=b' okay   you have   penelope keith as miss herringbone tweed  b b e   backbone of england   she s killed off in the first scene   that s right  folks  this show has no backbone   peter o toole as ol  colonel cricket from the first war and now the emblazered lord of the manor   joanna lumley as the ensweatered lady of the manor  20 years younger than the colonel and 20 years past her own prime but still glamourous  brit spelling  not mine  enough to have a toy boy on the side  it s alright  they have col '>"
            ]
          },
          "metadata": {},
          "execution_count": 5
        }
      ]
    },
    {
      "cell_type": "markdown",
      "source": [
        "#Tokenization and Numericalization(Text Vectorization)"
      ],
      "metadata": {
        "id": "JCXWQH3fsprM"
      }
    },
    {
      "cell_type": "code",
      "source": [
        "VOCABULARY_SIZE = 10000 # common and important 10000 words\n",
        "SEQUENCE_LENGTH = 250 # basically length of output\n",
        "EMBEDDING_DIM = 300\n",
        "\n"
      ],
      "metadata": {
        "id": "16CO-hsFKmuj"
      },
      "execution_count": 75,
      "outputs": []
    },
    {
      "cell_type": "code",
      "source": [
        "vectorize_layer = tf.keras.layers.TextVectorization(\n",
        "    standardize=standardization,\n",
        "    max_tokens=VOCABULARY_SIZE,\n",
        "    output_mode='int',\n",
        "    output_sequence_length=SEQUENCE_LENGTH,\n",
        ")"
      ],
      "metadata": {
        "id": "5yIg4ZHMUNoF"
      },
      "execution_count": 76,
      "outputs": []
    },
    {
      "cell_type": "code",
      "source": [
        "training_data = train_dataset.map(lambda x, y: x) # takes in review, label and outputs only reviews\n",
        "vectorize_layer.adapt(training_data)\n",
        "\n"
      ],
      "metadata": {
        "id": "0n4CW2hTOPwh"
      },
      "execution_count": 77,
      "outputs": []
    },
    {
      "cell_type": "code",
      "source": [
        "print(vectorize_layer.get_vocabulary())\n",
        "print(len(vectorize_layer.get_vocabulary()))\n"
      ],
      "metadata": {
        "colab": {
          "base_uri": "https://localhost:8080/"
        },
        "id": "V4FO1oxzSw9u",
        "outputId": "5b79f818-ec52-4692-8862-c223c8a1c4f3"
      },
      "execution_count": 78,
      "outputs": [
        {
          "output_type": "stream",
          "name": "stdout",
          "text": [
            "['', '[UNK]', 'the', 'and', 'a', 'of', 'to', 'is', 'it', 'in', 'i', 'this', 'that', 's', 'was', 'as', 'for', 'with', 'movie', 'but', 'film', 't', 'you', 'on', 'not', 'he', 'are', 'his', 'have', 'be', 'one', 'all', 'at', 'they', 'by', 'an', 'who', 'so', 'from', 'like', 'there', 'her', 'or', 'just', 'about', 'out', 'if', 'has', 'what', 'some', 'good', 'can', 'more', 'she', 'when', 'very', 'up', 'time', 'no', 'even', 'my', 'would', 'which', 'story', 'only', 'really', 'see', 'their', 'had', 'we', 'were', 'me', 'well', 'than', 'much', 'get', 'bad', 'been', 'people', 'will', 'do', 'other', 'also', 'into', 'first', 'great', 'because', 'how', 'him', 'don', 'most', 'made', 'its', 'then', 'make', 'way', 'them', 'could', 'too', 'movies', 'any', 'after', 'think', 'characters', 'character', 'watch', 'two', 'films', 'seen', 'many', 'life', 'being', 'plot', 'acting', 'never', 'love', 'little', 'best', 'where', 'over', 'did', 'show', 'know', 'off', 'ever', 'man', 'does', 'here', 'better', 'your', 'end', 'still', 'these', 'say', 'scene', 'why', 'while', 'scenes', 'go', 've', 'such', 'something', 'should', 'm', 'back', 'through', 'real', 'those', 'now', 'watching', 'though', 'doesn', 'thing', 'old', 'years', 're', 'actors', 'director', 'work', '10', 'didn', 'another', 'before', 'new', 'nothing', 'funny', 'actually', 'makes', 'look', 'find', 'going', 'few', 'same', 'part', 'again', 'lot', 'every', 'world', 'cast', 'us', 'quite', 'down', 'want', 'things', 'pretty', 'young', 'seems', 'around', 'horror', 'got', 'however', 'fact', 'take', 'big', 'long', 'enough', 'thought', 'series', 'both', 'between', 'may', 'original', 'give', 'action', 'own', 'right', 'without', 'must', 'comedy', 'always', 'times', 'point', 'gets', 'family', 'role', 'come', 'isn', 'saw', 'almost', 'interesting', 'least', 'done', 'whole', 'music', 'bit', 'guy', 'script', 'd', 'far', 'making', 'feel', 'anything', 'minutes', 'last', 'might', 'since', 'll', 'performance', '2', 'girl', 'probably', 'woman', 'kind', 'tv', 'am', 'away', 'yet', 'day', 'rather', 'worst', 'fun', 'sure', 'hard', 'anyone', 'played', 'each', 'found', 'having', 'especially', 'although', 'our', 'course', 'believe', 'screen', 'comes', 'looking', 'trying', 'set', 'goes', 'book', 'looks', 'place', 'actor', 'different', 'put', 'money', 'year', 'ending', 'let', 'dvd', 'maybe', 'someone', 'true', 'once', 'sense', 'reason', 'everything', 'wasn', 'shows', 'three', 'worth', 'job', 'main', 'together', 'play', 'watched', 'american', 'everyone', 'plays', '1', 'john', 'effects', 'later', 'audience', 'said', 'takes', 'instead', 'house', 'beautiful', 'seem', 'night', 'high', 'himself', 'version', 'wife', 'during', 'left', 'father', 'special', 'seeing', 'half', 'star', 'excellent', 'war', 'shot', 'idea', 'black', 'nice', 'less', 'else', 'mind', 'simply', 'read', 'second', 'fan', 'men', 'death', 'hollywood', 'poor', '3', 'help', 'completely', 'dead', 'used', 'home', 'line', 'short', 'either', 'top', 'given', 'kids', 'budget', 'try', 'classic', 'wrong', 'performances', 'women', 'enjoy', 'boring', 'need', 'use', 'rest', 'low', 'friends', 'production', 'full', 'camera', 'until', 'along', 'truly', 'video', 'awful', 'tell', 'couple', 'next', 'remember', 'stupid', 'start', 'stars', 'sex', 'perhaps', 'won', 'mean', 'came', 'recommend', 'moments', 'wonderful', 'school', 'episode', 'small', 'face', 'understand', 'terrible', 'playing', 'getting', 'written', 'early', 'name', 'doing', 'style', 'often', 'keep', 'perfect', 'person', 'human', 'others', 'definitely', 'gives', 'itself', 'boy', 'lost', 'live', 'lines', 'become', 'dialogue', 'head', 'piece', 'finally', 'case', 'yes', 'felt', 'mother', 'supposed', 'liked', 'children', 'couldn', 'title', 'cinema', 'white', 'absolutely', 'picture', 'against', 'sort', 'worse', 'went', 'certainly', 'entire', 'waste', 'killer', 'problem', 'oh', 'mr', 'hope', 'evil', 'entertaining', 'friend', 'overall', 'called', 'based', 'loved', 'fans', 'several', 'drama', 'beginning', '5', 'lives', 'care', 'direction', 'dark', 'already', 'becomes', 'laugh', 'example', '4', 'under', 'despite', 'seemed', 'throughout', 'turn', 'son', 'unfortunately', 'wanted', '\\x96', 'michael', 'history', 'heart', 'final', 'child', 'fine', 'amazing', 'sound', 'lead', 'guess', 'humor', 'totally', 'writing', 'guys', 'quality', 'close', 'art', 'wants', 'b', 'game', 'behind', 'works', 'town', 'side', 'tries', 'days', 'viewer', 'past', 'able', 'flick', 'hand', 'genre', 'turns', 'act', 'enjoyed', 'today', 'kill', 'favorite', 'car', 'soon', 'starts', 'sometimes', 'run', 'actress', 'gave', 'eyes', 'late', 'girls', 'god', 'etc', 'directed', 'horrible', 'kid', 'city', 'brilliant', 'parts', 'blood', 'self', 'hour', 'themselves', 'stories', 'thinking', 'expect', 'stuff', 'obviously', 'decent', 'voice', 'writer', 'highly', 'fight', 'myself', 'feeling', 'daughter', 'slow', 'except', 'matter', 'type', 'age', 'anyway', 'roles', 'moment', 'killed', 'heard', 'says', 'leave', 'brother', 'took', 'strong', 'police', 'cannot', 'violence', 'hit', 'stop', 'happens', 'known', 'particularly', 'involved', 'happened', 'extremely', 'james', 'chance', 'obvious', 'told', 'murder', 'living', 'coming', 'alone', 'lack', 'experience', 'wouldn', 'hero', 'including', 'attempt', 'please', 'happen', 'gore', 'crap', 'wonder', 'cut', 'group', 'interest', 'complete', 'ago', 'none', 'score', 'husband', 'david', 'hell', 'save', 'simple', 'ok', 'looked', 'song', 'career', 'number', 'possible', 'seriously', 'annoying', 'king', 'sad', 'exactly', 'shown', 'running', 'musical', 'serious', 'yourself', 'scary', 'taken', 'whose', 'released', 'reality', 'english', 'ends', 'cinematography', 'usually', 'hours', 'opening', 'jokes', 'light', 'hilarious', 'cool', 'body', 'across', 'somewhat', 'relationship', 'usual', 'ridiculous', 'happy', 'view', 'started', 'level', 'change', 'opinion', 'novel', 'wish', 'middle', 'talking', 'taking', 'documentary', 'robert', 'ones', 'order', 'shots', 'finds', 'power', 'saying', 'female', 'room', 'huge', 'mostly', 'episodes', 'country', 'five', 'talent', 'important', 'rating', 'modern', 'earth', 'major', 'word', 'strange', 'turned', 'jack', 'call', 'single', 'apparently', 'disappointed', 'four', 'events', 'due', 'songs', 'basically', 'attention', '7', 'television', 'knows', 'comic', 'supporting', 'clearly', 'non', 'knew', 'british', 'thriller', 'paul', 'future', 'fast', '8', 'class', 'easily', 'cheap', 'silly', 'problems', 'aren', 'words', 'miss', 'tells', 'entertainment', 'local', 'rock', 'sequence', 'bring', 'beyond', 'straight', 'george', 'oscar', 'upon', 'whether', 'romantic', 'predictable', 'moving', 'similar', 'sets', 'o', 'falls', 'eye', 'review', 'mystery', 'lady', 'richard', 'talk', 'enjoyable', 'needs', 'appears', 'giving', 'within', 'ten', 'message', 'theater', 'animation', 'team', 'near', 'above', 'sister', 'sequel', 'red', 'dull', 'theme', 'stand', 'nearly', 'points', 'lee', 'bunch', 'mention', 'york', 'herself', 'haven', 'feels', 'add', 'release', 'storyline', 'ways', 'surprised', 'easy', 'using', 'named', 'lots', 'fantastic', 'begins', 'working', 'die', 'actual', 'effort', 'feature', 'tale', 'minute', 'hate', 'french', '9', 'stay', 'follow', 'viewers', 'tom', 'clear', 'elements', 'among', 'comments', 'typical', 'avoid', 'showing', 'editing', 'tried', 'sorry', 'famous', 'season', 'fall', 'check', 'peter', 'dialog', 'period', 'form', 'certain', 'soundtrack', 'filmed', 'buy', 'parents', 'general', 'weak', 'means', 'material', 'realistic', 'figure', 'somehow', 'crime', 'doubt', 'space', 'gone', 'disney', 'viewing', 'kept', 'leads', 'greatest', 'dance', 'lame', 'suspense', 'zombie', 'third', 'imagine', 'brought', 'hear', 'atmosphere', 'whatever', 'particular', 'de', 'sequences', 'america', 'move', 'indeed', 'rent', 'learn', 'eventually', 'average', 'wait', 'note', 'reviews', 'forget', 'deal', 'japanese', 'surprise', 'stage', 'sexual', 'poorly', 'okay', 'premise', 'believable', 'sit', 'possibly', 'nature', 'subject', 'decided', 'expected', 'imdb', 'truth', 'street', 'dr', 'became', 'free', 'screenplay', 'difficult', 'romance', 'killing', '20', 'joe', 'baby', 'hot', 'dog', 'nor', 'reading', 'question', 'needed', 'leaves', 'meets', 'begin', 'unless', 'directors', 'society', 'credits', 'superb', 'shame', 'otherwise', 'write', 'situation', 'meet', 'dramatic', 'memorable', 'male', 'open', 'weird', 'earlier', 'badly', 'writers', 'forced', 'dream', 'acted', 'fi', 'sci', 'laughs', 'emotional', 'older', 'jane', 'crazy', 'monster', 'beauty', 'realize', 'deep', 'comment', 'interested', 'footage', 'forward', 'fantasy', 'ask', 'whom', 'sounds', 'plus', 'mark', 'directing', 'keeps', 'features', 'development', 'e', 'mess', 'quickly', 'air', 'creepy', 'box', 'towards', 'perfectly', 'girlfriend', 'worked', 'unique', 'setting', 'cheesy', 'effect', 'total', 'plenty', 'hands', 'fire', 'bill', 'result', 'previous', 'brings', 'personal', 'incredibly', 'rate', 'doctor', 'business', 'return', 'joke', 'christmas', 'apart', 'leading', 'casting', 'admit', 'powerful', 'cop', 'background', 'appear', 'boys', '30', 'ben', 'present', 'meant', 'telling', 'battle', 'masterpiece', 'hardly', 'break', 'potential', 'create', 'era', 'secret', 'pay', 'political', 'dumb', 'gay', 'fighting', 'fails', 'twist', 'various', 'villain', 'portrayed', 'western', 'inside', 'co', '80', 'outside', 'nudity', 'william', 'reasons', 'ideas', 'front', 'missing', 'match', 'deserves', 'married', 'expecting', 'rich', 'fairly', 'talented', 'list', 'success', 'scott', 'unlike', 'c', 'spoilers', 'remake', 'manages', 'attempts', 'social', 'cute', 'odd', 'recently', 'flat', 'further', 'copy', 'sadly', 'wrote', 'agree', 'sweet', 'cold', 'crew', 'plain', 'mary', 'office', 'following', 'filmmakers', 'missed', 'public', 'mentioned', 'incredible', 'pure', 'gun', 'wasted', 'large', 'ended', 'brothers', 'produced', 'revenge', 'caught', 'members', 'la', 'filled', 'popular', 'party', 'pace', 'waiting', 'science', 'water', 'cat', 'decides', 'hold', 'considering', 'cartoon', 'spirit', 'tension', 'created', 'slightly', 'uses', '6', 'fear', 'convincing', 'familiar', 'compared', 'suddenly', 'spent', 'sees', 'neither', 'escape', 'island', 'intelligent', 'cause', 'state', 'clever', 'entirely', 'language', 'dancing', 'kills', 'credit', 'choice', 'moves', 'bored', 'band', '90', 'laughing', 'century', 'italian', 'value', 'cover', 'successful', 'visual', 'violent', 'tony', 'trouble', 'speak', 'ultimately', '15', 'singing', 'concept', 'basic', 'positive', 'zombies', 'studio', 'store', 'german', 'animated', 'exciting', 'company', 'biggest', 'force', 'runs', 'effective', 'died', 'consider', 'walk', 'recent', 'depth', 'control', 'adult', 'law', 'former', 'adventure', 'common', 'amusing', 'spend', 'portrayal', 'focus', 'rated', 'appreciate', 'pointless', 'hair', 'books', 'trash', 'younger', 'solid', 'planet', 'tone', 'impressive', 'super', 'follows', 'bizarre', 'respect', 'mad', 'college', 'van', 'impossible', 'culture', 'amount', 'smith', 'prison', 'f', 'heavy', 'win', 'weren', 'trip', 'slasher', 'producers', 'dad', 'project', 'makers', 'conclusion', 'chemistry', 'showed', 'recommended', 'fit', 'starring', 'situations', 'sick', 'jim', 'awesome', 'accent', 'steve', 'ghost', 'disturbing', 'considered', 'changed', 'u', 'somewhere', 'post', 'failed', 'cult', 'decide', 'leaving', 'honest', 'barely', '50', 'anti', 'tough', 'shooting', 'questions', 'longer', 'west', 'fiction', 'audiences', 'brain', 'fake', 'aside', 'touch', 'thanks', 'south', 'meaning', 'images', 'charming', 'computer', 'stick', 'magic', 'stewart', 'pathetic', 'literally', 'generally', 'ex', 'values', 'surprisingly', 'likes', 'involving', 'alive', 'natural', 'camp', 'immediately', 'grade', 'yeah', 'military', 'harry', 'london', 'garbage', 'detective', 'shoot', '100', 'week', 'frank', 'bought', 'normal', 'sam', 'honestly', 'fair', 'aspect', 'utterly', 'pictures', 'master', 'army', 'adaptation', 'ability', 'genius', 'pick', 'nobody', 'sitting', 'explain', 'motion', 'glad', 'appearance', 'standard', 'attack', 'drive', 'appeal', 'catch', 'personally', 'knowing', 'sexy', 'rare', 'nowhere', 'humour', 'edge', 'thank', 'channel', 'added', 'walking', 'silent', 'remains', 'purpose', 'journey', 'comedies', 'charlie', 'chase', 'twists', 'thinks', 'taste', 'naked', 'loud', 'producer', 'dreams', 'beautifully', 'unbelievable', 'touching', 'subtle', 'road', 'date', 'club', 'terrific', 'terms', 'wow', 'wild', 'mood', 'equally', '70', 'door', 'blue', 'batman', 'drawn', 'kelly', 'complex', 'mistake', 'key', 'g', 'fully', 'managed', 'pieces', 'narrative', 'lovely', 'laughable', 'government', 'themes', 'bottom', 'likely', 'climax', 'vampire', 'soldiers', 'plan', 'gang', 'disappointing', 'chris', 'soul', 'noir', 'issues', 'excuse', 'award', 'outstanding', 'surely', 'painful', 'marriage', 'justice', 'thus', 'pass', 'innocent', 'costumes', 'constantly', 'boss', 'victim', 'presented', 'christopher', 'ride', 'cinematic', 'train', 'spoiler', 'slowly', 'hey', 'finish', 'contains', 'central', 'presence', 'places', 'everybody', 'besides', 'animals', 'thrown', 'manner', 'details', 'historical', 'charles', 'stunning', 'scenery', 'photography', 'hoping', 'henry', 'charm', 'smart', 'jones', 'indian', 'church', 'allen', 'speaking', 'impression', 'paris', 'mysterious', 'loves', 'green', 'expectations', 'disappointment', 'developed', 'numbers', 'drug', 'throw', 'color', 'exception', 'woods', 'minor', 'double', 'ahead', 'track', 'festival', 'cry', 'stands', 'boyfriend', 'suppose', 'lover', 'critics', 'aspects', 'opera', 'bother', 'sent', 'r', 'hotel', 'feelings', 'emotion', 'brief', 'serial', 'building', 'acts', 'opportunity', 'mainly', 'filming', 'bruce', 'support', 'student', 'million', 'element', 'names', 'held', 'forever', 'fascinating', 'page', 'emotions', 'j', 'intended', 'available', 'twice', 'six', 'dies', 'changes', 'bar', '40', 'shock', 'compelling', 'born', 'zero', 'bed', 'likable', 'happening', 'falling', 'lived', 'hurt', 'tired', 'puts', 'jerry', 'spot', 'pain', 'image', 'giant', 'offer', 'victims', 'trailer', 'suggest', 'ray', 'confused', 'include', 'fresh', 'difference', 'adults', 'billy', 'summer', 'impact', 'hasn', 'al', 'step', 'followed', 'event', 'christian', 'arthur', 'fellow', 'alien', 'sub', 'l', 'approach', 'appeared', 'system', 'park', '11', 'putting', 'gorgeous', 'actresses', 'mix', 'laughed', 'share', 'notice', 'murders', 'martin', 'holes', 'confusing', 'porn', 'moral', 'mom', 'mediocre', 'ii', 'direct', 'content', 'supposedly', 'rape', 'race', 'lacks', 'americans', 'wall', 'flaws', 'worthy', 'tragedy', 'creative', 'students', 'relationships', 'land', 'gem', 'answer', 'agent', 'thin', 'random', 'lighting', 'helps', 'wondering', 'seven', 'proves', 'merely', 'latter', 'funniest', 'cliché', 'wise', 'paid', 'finding', 'hospital', 'flying', 'flicks', 'damn', 'stone', 'imagination', 'delivers', 'childhood', 'davis', 'ugly', 'forgotten', 'beat', 'standards', 'attractive', 'negative', 'impressed', 'ground', 'count', 'brian', 'absolute', 'jean', 'extreme', 'alan', 'thoroughly', 'stuck', 'provides', 'ms', 'seconds', 'lord', 'winning', 'tragic', 'soldier', 'seemingly', 'becoming', 'ship', 'reminded', 'queen', 'inspired', 'folks', 'addition', 'offers', 'fell', 'thats', 'lose', 'faces', 'detail', 'affair', 'williams', 'turning', 'industry', 'intense', 'afraid', 'pull', 'nasty', 'hidden', 'fashion', 'design', 'collection', 'animal', 'ed', 'teen', 'jackson', 'games', 'creature', 'shocking', 'quick', 'castle', 'artistic', 'apartment', 'shouldn', 'roll', 'bond', 'rented', 'personality', 'chinese', 'area', 'adds', 'states', 'scientist', 'ready', 'length', 'fox', 'dirty', 'angry', 'uncle', 'therefore', 'professional', 'location', 'information', 'lets', 'filmmaker', 'anymore', 'mouth', 'wars', 'news', 'listen', 'jason', 'artist', 'wooden', 'picked', 'p', 'led', 'food', 'describe', 'danny', 'favourite', 'deliver', 'onto', 'martial', 'grace', 'clothes', 'asks', '12', 'x', 'struggle', 'stephen', 'member', 'intelligence', 'wearing', 'redeeming', 'criminal', 'carry', 'captain', 'teenage', 'sleep', 'drugs', 'cross', 'compare', 'allowed', 'wonderfully', 'rip', 'necessary', 'machine', 'desperate', 'cgi', 'tears', 'helped', 'sight', 'moved', 'witch', 'trust', 'station', 'plane', 'phone', 'includes', 'deeply', 'willing', 'whatsoever', 'treat', 'sky', 'heaven', 'disaster', 'theatre', 'humans', 'commentary', 'began', 'andy', 'nightmare', 'mid', 'heroes', 'build', 'accident', 'powers', 'pop', 'epic', 'energy', 'suicide', 'realized', 'loving', 'warning', 'taylor', 'rarely', 'extra', 'douglas', 'comedic', 'teacher', 'independent', 'dying', 'devil', 'introduced', 'superior', 'johnny', 'engaging', 'suit', 'eddie', 'actions', 'unusual', 'ring', 'religious', 'arts', 'anybody', 'tim', 'remarkable', 'pre', 'pleasure', 'mental', 'apparent', 'allow', 'watchable', 'unnecessary', 'superman', 'returns', 'physical', 'grand', 'continue', 'memory', 'keaton', 'wedding', 'technical', 'skip', 'provide', 'media', 'hitler', 'england', 'absurd', 'vision', 'scared', 'normally', 'ford', 'desire', 'anywhere', 'limited', 'fred', 'brutal', 'adam', 'surprising', 'russian', 'jr', 'joan', 'finished', 'bloody', 'suspect', 'process', 'kate', 'intriguing', 'cops', '80s', '60', 'torture', 'prince', 'player', 'pilot', 'legend', 'jump', 'jeff', 'holds', 'exist', 'accept', '70s', '000', 'twenty', 'somebody', 'nicely', 'wanting', 'search', 'paced', 'horse', 'growing', 'soft', 'reminds', 'faith', 'academy', 'shakespeare', 'passion', 'pacing', 'moon', 'hated', 'gold', 'cage', 'according', 'price', 'ladies', 'dick', 'bits', 'asked', 'clichés', 'nick', 'joy', 'dressed', 'japan', 'drunk', 'tarzan', 'lovers', 'ill', 'heroine', 'deserved', 'dangerous', 'constant', 'smile', 'sat', 'originally', 'lies', 'heads', 'field', 'explanation', 'community', 'blame', 'ball', 'kevin', 'jesus', 'instance', 'higher', 'freddy', 'candy', 'river', 'ann', 'nonsense', 'mixed', 'met', 'issue', 'deserve', 'capture', 'unknown', 'players', 'gotten', 'toward', 'soap', 'plots', 'fights', 'fail', 'explained', 'record', 'radio', 'quiet', 'knowledge', 'fu', 'creating', 'accurate', 'vhs', 'starting', 'guns', 'friendship', 'european', 'whilst', 'mike', 'ice', 'humanity', 'wide', 'sucks', 'spanish', 'hadn', 'floor', 'officer', 'cable', 'realism', 'n', 'memories', 'judge', 'cars', 'lynch', 'loose', 'finest', 'eating', 'broken', 'villains', 'partner', 'monsters', 'lacking', 'gene', 'featuring', 'aware', 'saving', 'saved', 'santa', 'responsible', 'lewis', 'keeping', 'youth', 'understanding', 'treated', 'rubbish', 'mine', 'kinda', 'fat', 'empty', 'eat', 'below', 'author', 'wind', 'terribly', 'singer', 'sign', 'results', 'pulled', 'morgan', 'jimmy', 'delightful', 'cuts', 'bland', 'witty', 'vs', 'hopes', 'conflict', 'bright', 'werewolf', 'washington', 'simon', 'noticed', 'months', 'manage', 'included', 'hits', 'gary', 'forces', 'brown', 'wood', 'sing', 'screaming', 'loss', 'whenever', 'private', 'numerous', 'kong', 'fate', 'driving', 'blonde', 'streets', 'pretentious', 'concerned', 'talents', 'ordinary', 'dealing', 'bigger', 'v', 'unfunny', 'skills', 'scream', 'reviewers', 'naturally', 'finale', 'eric', 'discovered', 'dated', 'ass', 'ups', 'regular', 'psychological', 'opposite', 'morning', 'international', 'bob', 'prove', 'perspective', 'mission', 'kick', 'discover', 'bank', 'portray', 'albert', 'w', 'visit', 'shop', 'sean', 'sea', 'owner', 'loses', 'locations', 'humorous', 'anthony', 'received', 'luck', 'h', 'grant', 'gags', 'edited', 'blind', '13', 'satire', 'magnificent', 'dan', 'curious', 'continues', 'captured', 'behavior', 'survive', 'murdered', 'mrs', 'miles', 'howard', 'debut', 'context', 'calls', 'visually', 'trek', 'shallow', 'opens', 'jennifer', 'gangster', 'foot', 'existence', 'core', 'cameo', 'breaks', 'advice', 'traditional', 'luke', 'lucky', 'golden', 'deals', 'corny', 'connection', 'buddy', 'window', 'revealed', 'remembered', 'essentially', 'current', 'occasionally', 'lesson', 'identity', 'harris', 'genuine', 'frankly', 'village', 'stock', 'segment', 'national', 'dimensional', 'decade', 'african', 'thomas', 'learned', 'efforts', 'anne', 'visuals', 'versions', 'program', 'marie', 'boat', 'rob', 'grown', 'formula', 'develop', 'allows', 'welles', 'sucked', 'references', 'genuinely', 'anna', 'unexpected', 'suffering', 'study', 'logic', 'lake', 'grew', 'favor', 'desert', 'comparison', 'board', 'bear', 'vampires', 'standing', 'speed', 'reaction', 'proved', 'president', 'overly', 'meanwhile', 'ages', 'ultimate', 'sudden', 'spectacular', 'robin', 'leader', 'awkward', 'unable', 'types', 'steal', 'sheer', 'reach', 'psycho', 'parody', 'flesh', 'failure', 'brilliantly', 'travel', 'stereotypes', 'sake', 'passed', 'killers', 'frame', 'evening', 'technology', 'strength', 'sinatra', 'halloween', 'gordon', 'drew', 'creates', 'awards', 'site', 'sheriff', 'rose', 'laughter', 'hill', 'bet', 'round', 'parker', 'kung', 'delivered', 'clean', 'broadway', 'barbara', 'relief', 'crappy', 'steven', 'pair', 'model', 'insane', 'gonna', 'freedom', 'executed', 'code', 'utter', 'reviewer', 'painfully', 'flashbacks', 'emotionally', 'dreadful', 'discovers', 'decision', 'anime', 'woody', 'hunter', 'graphic', 'fault', 'families', 'driven', 'commercial', 'religion', 'ran', 'protagonist', 'native', 'majority', 'seasons', 'meeting', 'individual', 'gratuitous', 'foreign', 'entertained', 'daniel', 'caused', 'built', 'bomb', 'attitude', 'asian', 'wayne', 'victor', 'vehicle', 'underrated', 'test', 'nevertheless', 'feet', 'cash', 'treatment', 'rise', 'relate', 'obsessed', 'levels', 'k', 'generation', 'endless', 'wit', 'tape', 'range', 'practically', 'pleasant', 'gory', 'france', 'costs', 'victoria', 'described', 'classics', 'cinderella', 'chick', 'ancient', 'aged', 'winner', 'sell', 'seat', 'product', 'joseph', 'jackie', 'fly', 'exploitation', 'chosen', 'center', 'send', 'rules', 'rescue', 'irritating', 'hearing', 'fill', 'combination', 'breaking', 'angel', 'alex', '0', 'uk', 'stopped', 'excited', 'dry', 'chief', 'theaters', 'sympathetic', 'proper', 'produce', 'portrays', 'pity', 'haunting', 'fame', 'assume', 'theatrical', 'sports', 'roy', 'handsome', 'extras', 'capable', 'believes', 'asking', 'warm', 'safe', 'ruined', 'portraying', 'nancy', 'moore', 'largely', 'germany', 'contrived', 'choose', 'cares', 'unrealistic', 'recall', 'priest', 'paper', 'marry', 'learns', 'embarrassing', 'depressing', 'crowd', 'canadian', 'par', 'matt', 'louis', 'dubbed', 'appealing', 'sequels', 'ryan', 'matters', 'involves', 'hearted', 'grow', 'facts', 'contrast', 'clue', 'evidence', 'costume', 'correct', 'anderson', 'vote', 'teenager', 'strongly', 'research', 'patrick', 'nominated', 'mask', 'hunt', 'heck', 'claim', 'walter', 'hall', 'football', 'eight', 'disgusting', 'appropriate', 'talks', 'saturday', 'lousy', 'losing', 'excitement', 'cost', 'substance', 'scare', 'promise', 'fool', 'destroy', 'voices', 'training', 'thoughts', 'tedious', 'oliver', 'naive', 'market', 'factor', 'circumstances', 'universal', 'teenagers', 'robot', 'haunted', 'europe', 'com', 'united', 'satisfying', 'convinced', 'captures', 'bringing', 'bodies', 'amateurish', 'trilogy', 'tend', 'max', 'hanging', 'fits', 'che', 'baseball', 'amateur', 'welcome', 'virtually', 'tiny', 'spoil', 'rental', 'lower', 'horribly', 'hopefully', 'fairy', 'danger', 'creatures', 'asleep', 'walks', 'reporter', 'relatively', 'powell', 'north', 'murphy', 'mini', 'insult', 'till', 'steals', 'skin', 'hat', 'cowboy', 'covered', 'continuity', 'africa', 'unlikely', 'offensive', 'influence', 'drag', 'contemporary', 'category', 'witness', 'viewed', 'texas', 'target', 'semi', 'scale', 'lawyer', 'inner', 'hide', 'handled', 'fare', 'depicted', 'cutting', 'unfortunate', 'shocked', 'service', 'remain', 'kim', 'initial', 'holding', 'hitchcock', 'surreal', 'russell', 'professor', 'politics', 'believed', 'qualities', 'provided', 'presents', 'movement', '14', 'weekend', 'touches', 'structure', 'source', 'sharp', 'section', 'refreshing', 'promising', 'pile', 'peace', 'makeup', 'liners', 'designed', 'columbo', 'closer', 'australian', 'angles', 'spy', 'sisters', 'lesbian', 'forgettable', 'drop', 'display', 'deaths', 'chan', 'cartoons', 'surprises', 'repeated', 'previously', 'faced', 'edward', 'degree', 'clark', 'claims', 'caine', 'adventures', 'serves', 'ruin', 'roger', 'propaganda', 'plans', 'focused', 'enemy', 'accents', 'whoever', 'weeks', 'treasure', 'supernatural', 'speaks', 'related', 'prime', 'pacino', 'mainstream', 'highlight', 'emma', 'chose', 'cant', 'brave', 'blow', 'veteran', 'suffers', 'routine', 'rain', 'latest', 'granted', 'erotic', 'deadly', 'crash', '25', 'wilson', 'speech', 'print', 'mistakes', 'invisible', 'harsh', 'experiences', 'dollars', 'alice', 'accidentally', 'uninteresting', 'twisted', 'teens', 'sympathy', 'realizes', 'notch', 'dogs', 'colors', 'aliens', 'ted', 'security', 'nude', 'guilty', 'friday', 'draw', 'combined', 'universe', 'terror', 'struggling', 'princess', 'path', 'matrix', 'dozen', 'convince', 'mountain', 'mgm', 'gritty', 'enter', 'birth', 'atrocious', 'appreciated', 'walked', 'technically', 'sword', 'recognize', 'irish', 'gas', 'frightening', 'driver', 'committed', 'blah', 'sun', 'sarah', 'magical', 'lugosi', 'department', 'changing', 'aka', 'pitt', 'occasional', 'friendly', 'false', 'explains', 'directly', 'darkness', 'court', 'vietnam', 'variety', 'theory', 'suspenseful', 'surface', 'sullivan', 'prior', 'performed', 'paint', 'offered', 'narration', 'massive', 'legendary', 'featured', 'experienced', 'demons', 'anger', 'abuse', 'subtitles', 'reputation', 'kinds', 'johnson', 'hong', 'donald', 'crying', 'beach', 'un', 'titanic', 'sunday', 'stolen', 'statement', 'sorts', 'required', 'passing', 'network', 'nazi', 'multiple', 'junk', 'forth', 'forest', 'figures', 'everywhere', 'bourne', 'urban', 'reveal', 'remotely', 'regret', 'rachel', 'metal', 'grave', 'express', 'execution', 'exact', 'conversation', 'china', 'california', 'trapped', 'spends', 'scares', 'san', 'rule', 'revolution', 'proud', 'placed', 'melodrama', 'lonely', 'jungle', 'julia', 'jon', 'hoffman', 'hired', 'grim', 'freeman', 'fictional', 'downright', 'dean', 'belief', 'worthwhile', 'nation', 'listening', 'lifetime', 'insight', 'figured', 'effectively', 'crude', 'bus', 'bothered', 'blockbuster', 'beast', 'afternoon', 'abandoned', 'wear', 'unconvincing', 'susan', 'rough', 'lisa', 'jobs', 'happiness', 'favorites', 'branagh', 'account', 'rings', 'minds', 'mexico', 'imagery', 'idiot', 'foster', 'dragon', 'angle', 'alright', 'von', 'rights', 'pulls', 'paying', 'mexican', 'ha', 'cultural', 'buying', 'blown', 'starred', 'sir', 'scenario', 'ron', 'rolling', 'reveals', 'quest', 'productions', 'larry', 'demon', 'delivery', 'burns', 'amazed', '60s', 'views', 'tight', 'thankfully', 'stays', 'stayed', 'status', 'significant', 'shadow', 'ned', 'mature', 'handed', 'focuses', 'dude', 'christ', 'bore', 'artists', '1950', 'teeth', 'table', 'studios', 'mere', 'lights', 'interview', 'indie', 'hip', 'ghosts', 'examples', 'dress', 'device', 'cruel', 'con', 'suffer', 'skill', 'sidney', 'sensitive', 'necessarily', 'india', 'heavily', 'clichéd', 'understood', 'spite', 'sleeping', 'seek', 'position', 'murderer', 'gross', 'format', 'desperately', 'campy', 'bound', 'achieve', 'summary', 'midnight', 'initially', 'hardy', 'forgot', 'faithful', 'fabulous', 'destroyed', 'complicated', 'closing', 'beloved', 'wing', 'warner', 'stereotypical', 'renting', 'racist', 'pregnant', 'ignore', 'flight', 'facial', 'deeper', 'decades', 'breath', '17', 'suck', 'slapstick', 'raw', 'ludicrous', 'league', 'intellectual', 'helping', 'fourth', 'flashback', 'dennis', 'cell', 'answers', 'tree', 'sounded', 'settings', 'reminiscent', 'prefer', 'musicals', 'maria', 'learning', 'inept', 'expert', 'environment', 'encounter', 'elizabeth', 'drinking', 'disbelief', 'description', 'critical', 'calling', 'cabin', 'buck', 'brad', 'arms', 'truck', 'task', 'sandler', 'regarding', 'quirky', 'mildly', 'lincoln', 'julie', 'greater', 'daughters', 'criminals', 'bbc', 'amazingly', 'ain', '1980', 'wave', 'warned', 'underground', 'turkey', 'throwing', 'storytelling', 'screening', 'punch', 'leslie', 'halfway', 'funnier', 'extraordinary', 'criticism', 'claire', 'base', 'aunt', 'titles', 'praise', 'notorious', 'michelle', 'jail', 'entertain', 'depiction', 'trick', 'spoof', 'prepared', 'originality', 'kiss', 'jessica', 'extent', 'expression', 'convey', 'choices', 'touched', 'rogers', 'raised', 'lane', 'honor', 'experiment', 'east', 'comical', 'via', 'toy', 'timing', 'spoken', 'purely', 'picks', 'mirror', 'miller', 'inspiration', 'headed', 'dollar', 'chilling', 'brooks', 'bollywood', 'basis', 'weapons', 'stanley', 'shut', 'novels', 'notable', 'lie', 'lazy', 'introduction', 'graphics', 'charge', 'breathtaking', 'bat', 'throws', 'term', 'succeeds', 'strangely', 'stomach', 'serve', 'properly', 'nowadays', 'mouse', 'maker', 'locked', 'join', 'hole', 'handle', 'guard', 'everyday', 'crafted', 'burt', 'blair', 'wears', 'sitcom', 'regard', 'reference', 'ratings', 'provoking', 'pet', 'lion', 'laura', 'cooper', 'causes', 'caring', 'authentic', 'adding', 'workers', 'tracy', 'tales', 'protect', 'lesser', 'fallen', 'challenge', 'carrying', '2006', '2000', 'wins', 'westerns', 'usa', 'southern', 'sleazy', 'raise', 'obnoxious', 'nonetheless', 'jewish', 'established', 'determined', 'daily', 'bitter', 'amongst', '1970', 'sinister', 'remote', 'holmes', 'gruesome', 'escapes', 'embarrassed', 'confusion', 'cases', 'carries', 'carried', 'bettie', 'attempting', 'alas', 'tradition', 'sold', 'risk', 'replaced', 'reed', 'obsession', 'needless', 'navy', 'minded', 'mass', 'madness', 'ironic', 'interpretation', 'inspector', 'hood', 'essential', 'enjoying', 'clips', 'busy', 'arrives', 'successfully', 'stanwyck', 'seeking', 'screenwriter', 'rival', 'retarded', 'philip', 'nine', 'mansion', 'intentions', 'goofy', 'flow', 'exists', 'existent', 'carpenter', 'balance', 'angels', '2001', 'topic', 'sutherland', 'presentation', 'oddly', 'mentally', 'marvelous', 'lucy', 'legs', 'laid', 'jumps', 'jake', 'attacked', 'vacation', 'shower', 'shape', 'manager', 'jay', 'horrific', 'fortunately', 'cook', 'comedian', 'brando', 'wanna', 'upper', 'thief', 'text', 'stylish', 'stupidity', 'stops', 'served', 'patient', 'cheese', 'attacks', 'wwii', 'tongue', 'thrilling', 'sin', 'sides', 'remind', 'personalities', 'packed', 'mob', 'matthau', 'interviews', 'intensity', 'grey', 'glass', 'frequently', 'fish', 'em', 'delight', 'chair', 'bridge', 'ashamed', 'sum', 'seagal', 'poignant', 'flawed', 'contain', 'bo', 'albeit', '1950s', 'widmark', 'suspects', 'struggles', 'stranger', 'rochester', 'riding', 'pitch', 'opened', 'internet', 'hence', 'expressions', 'drives', 'bette', 'baker', '18', 'upset', 'tour', 'torn', 'spielberg', 'revolves', 'refuses', 'overcome', 'mindless', 'innocence', 'greatly', 'franchise', 'elvis', 'dinner', 'cynical', 'credibility', 'adapted', 'wishes', 'warn', 'thousands', 'storm', 'racism', 'pool', 'noble', 'lessons', 'italy', 'fbi', 'elvira', 'dubbing', 'credible', 'corner', 'catholic', 'advantage', 'wealthy', 'trite', 'tense', 'streisand', 'spin', 'snow', 'pack', 'nelson', 'hills', 'helen', 'happily', 'dentist', 'crisis', 'controversial', 'burton', 'bugs', 'broke', 'arm', 'trial', 'thrillers', 'reunion', 'pride', 'physically', 'medical', 'hundreds', 'guessing', 'countries', 'contact', 'carter', 'andrews', 'alike', 'wasting', 'technique', 'suffered', 'succeed', 'sexuality', 'performers', 'perform', 'enjoyment', 'dislike', 'chaplin', 'card', 'bag', 'whereas', 'virgin', 'uncomfortable', 'tied', 'sons', 'sings', 'shines', 'separate', 'per', 'ourselves', 'neat', 'mst3k', 'millions', 'kurt', 'hundred', 'gripping', 'glimpse', 'flash', 'ensemble', 'dancer', 'britain', 'weapon', 'shorts', 'proof', 'plastic', 'irony', 'infamous', 'holiday', 'hint', 'exceptional', 'drink', 'derek', 'courage', 'atmospheric', 'assistant', 'arnold', 'searching', 'scripts', 'ralph', 'oscars', 'month', 'knife', 'karloff', 'glory', 'curse', 'cube', 'cousin', 'connected', 'andrew', 'steps', 'sentimental', 'protagonists', 'plague', 'nose', 'lying', 'letting', 'host', 'flynn', 'dear', 'aired', 'zone', 'vincent', 'tune', 'troubled', 'suggests', 'quote', 'portrait', 'meaningful', 'massacre', 'idiotic', 'horses', 'hamlet', 'entry', 'chasing', 'cameos', 'unforgettable', 'thousand', 'stretch', 'stealing', 'stan', 'split', 'perfection', 'noted', 'lovable', 'hoped', 'hiding', 'fortune', 'develops', 'consists', 'colorful', 'burning', 'boll', 'accepted', '24', 'worlds', 'strip', 'spots', 'saves', 'redemption', 'pg', 'neighborhood', 'miscast', 'lucas', 'larger', 'hunting', 'hang', 'guts', 'gain', 'equal', 'condition', 'concert', 'chuck', 'chases', 'basement', 'attraction', 'annoyed', 'worry', 'walken', 'terrifying', 'shoots', 'roberts', 'pro', 'pie', 'pat', 'oil', 'object', 'guilt', 'glover', 'factory', 'dorothy', 'dig', 'dialogs', 'destruction', 'curtis', 'catherine', 'belongs', '16', 'thirty', 'st', 'shark', 'repeat', 'neck', 'hudson', 'eerie', 'denzel', 'boredom', 'appearing', 'ad', 'wake', 'ultra', 'trade', 'multi', 'library', 'imaginative', 'homeless', 'hanks', 'gag', 'flaw', 'expensive', 'encounters', 'dramas', 'concerns', 'competent', 'closely', 'civil', 'bears', '2005', '1st', 'virus', 'stunts', 'solve', 'silver', 'sends', 'segments', 'scientists', 'rush', 'profound', 'neighbor', 'loser', 'lloyd', 'letter', 'knock', 'hooked', 'eva', 'endearing', 'elsewhere', 'crimes', 'complaint', 'checking', 'canada', 'achieved', 'winter', 'weight', 'tribute', 'tear', 'secretary', 'rushed', 'rocks', 'ripped', 'jeremy', 'incoherent', 'huh', 'fashioned', 'essence', 'eastwood', 'dragged', 'dare', 'colour', 'charisma', 'carol', 'bobby', 'beating', 'appearances', 'tricks', 'teach', 'striking', 'spell', 'noise', 'hitting', 'health', 'goal', 'fitting', 'fest', 'doc', 'dealt', 'cusack', 'birthday', 'videos', 'thumbs', 'techniques', 'tea', 'stunt', 'slight', 'scooby', 'painting', 'magazine', 'gothic', 'dawn', 'countless', 'bush', 'briefly', 'bride', 'believing', 'battles', 'attempted', 'unintentionally', 'strikes', 'specific', 'sexually', 'sally', 'ritter', 'reactions', 'pointed', 'kane', 'inspiring', 'iii', 'heston', 'hearts', 'covers', 'charismatic', 'brand', '1990', 'surrounding', 'surrounded', 'smoking', 'neil', 'mild', 'jerk', 'importance', 'hype', 'horrendous', 'grows', 'godfather', 'carefully', 'bible', 'barry', 'admittedly', 'walls', 'tons', 'stronger', 'stood', 'stiff', 'spike', 'spending', 'shall', 'revelation', 'relevant', 'poverty', 'kicks', 'homage', 'guest', 'fired', 'eyed', 'corrupt', 'comics', 'chances', 'stated', 'row', 'represents', 'monkey', 'miike', 'medium', 'lily', 'killings', 'intention', 'ian', 'executive', 'enters', 'easier', 'duke', 'cox', 'attached', 'astaire', '1970s', 'university', 'strike', 'requires', 'projects', 'performing', 'occurs', 'messages', 'mafia', 'le', 'lab', 'korean', 'inevitable', 'increasingly', 'gift', 'forgive', 'exercise', 'dropped', 'disagree', 'cole', 'carrey', 'cardboard', 'associated', 'typically', 'toilet', 'silence', 'reynolds', 'resolution', 'luckily', 'kubrick', 'jesse', 'identify', 'drags', 'dawson', 'contract', 'bakshi', 'acceptable', '2002', 'worker', 'vague', 'thrills', 'strictly', 'sophisticated', 'shining', 'selling', 'savage', 'nuclear', 'nights', 'investigation', 'hire', 'gotta', 'fisher', 'depression', 'davies', 'brilliance', '1980s', 'useless', 'union', 'struck', 'smooth', 'satan', 'rex', 'overlooked', 'joey', 'jamie', 'insulting', 'instantly', 'heat', 'fifteen', 'estate', 'ego', 'disease', 'cruise', 'continued', 'brosnan', 'breasts', 'beings', 'allowing', 'afterwards', 'wreck', 'tremendous', 'spirited', 'sacrifice', 'pushed', 'presumably', 'press', 'pleased', 'persona', 'partly', 'norman', 'meat', 'kidnapped', 'importantly', 'handful', 'grandmother', 'evident', 'digital', 'creators', 'creation', 'competition', 'commit', 'burn', 'worthless', 'wondered', 'twin', 'threatening', 'talked', 'superbly', 'returning', 'relative', 'realise', 'raped', 'photographed', 'menacing', 'kudos', 'individuals', 'ho', 'fears', 'corpse', 'conspiracy', 'buried', 'boxing', 'australia', 'arrested', 'ambitious', 'aforementioned', 'wonders', 'ward', 'spiritual', 'size', 'shy', 'samurai', 'regardless', 'nurse', 'narrator', 'mitchell', 'listed', 'jumping', 'jet', 'highlights', 'frustrated', 'flawless', 'drivel', 'doors', 'diamond', 'citizen', 'appalling', 'abc', '45', 'trap', 'ticket', 'string', 'spring', 'spooky', 'rap', 'push', 'pleasantly', 'planning', 'piano', 'outrageous', 'miserably', 'mann', 'lou', 'horrors', 'generous', 'fatal', 'empire', 'distant', 'curiosity', 'cup', 'critic', 'characterization', 'cagney', 'bullets', 'bucks', 'border', 'beaten', 'admire', 'achievement', 'accomplished', 'uninspired', 'territory', 'temple', 'spoiled', 'splendid', 'repetitive', 'prevent', 'picking', 'perry', 'mile', 'los', 'ken', 'ironically', 'guide', 'goldberg', 'francisco', 'doo', 'consequences', 'clues', 'cia', 'butt', 'beer', 'attracted', 'accused', 'watches', 'turner', 'throat', 'souls', 'slightest', 'slap', 'shortly', 'root', 'revealing', 'response', 'psychiatrist', 'opposed', 'notes', 'motivation', 'morality', 'modesty', 'melodramatic', 'mate', 'logical', 'indians', 'gandhi', 'farce', 'falk', 'emily', 'ellen', 'dire', 'craig', 'chain', 'blob', 'blank', 'alexander', '20th', 'wes', 'wells', 'titled', 'timeless', 'tall', 'suits', 'subsequent', 'subplot', 'ruth', 'pulling', 'precious', 'manhattan', 'liberal', 'laurel', 'lacked', 'jealous', 'installment', 'hatred', 'gray', 'fx', 'felix', 'fay', 'dracula', 'documentaries', 'directorial', 'convoluted', 'cared', 'cameron', 'blows', 'wolf', 'warrior', 'sole', 'shoes', 'remaining', 'psychotic', 'progress', 'poster', 'overdone', 'marks', 'intrigued', 'ignored', 'futuristic', 'forbidden', 'exaggerated', 'editor', 'duo', 'conceived', 'aimed', 'tunes', 'superhero', 'smoke', 'scientific', 'restaurant', 'repeatedly', 'reasonably', 'paulie', 'parent', 'obscure', 'notably', 'minimal', 'mel', 'fancy', 'failing', 'explicit', 'elderly', 'drunken', 'disc', 'captivating', 'bug', 'bleak', 'wicked', 'verhoeven', 'timothy', 'soviet', 'shirt', 'scripted', 'rid', 'reduced', 'pushing', 'providing', 'photographer', 'outcome', 'misses', 'loosely', 'kitchen', 'idiots', 'gradually', 'glenn', 'giallo', 'explore', 'elaborate', 'draws', 'distance', 'discussion', 'dignity', 'craven', 'argument', 'ah', '99', '2004', 'worried', 'warren', 'wannabe', 'walker', 'translation', 'stiller', 'sticks', 'sloppy', 'slave', 'shadows', 'screams', 'romero', 'returned', 'reasonable', 'kenneth', 'intent', 'hysterical', 'freak', 'exposed', 'eve', 'definite', 'dave', 'darker', 'cried', 'connect', 'childish', 'carrie', 'annie', '2003', 'yesterday', 'wallace', 'vicious', 'unbelievably', 'unbearable', 'tortured', 'threat', 'thick', 'q', 'purple', 'panic', 'load', 'imagined', 'horrid', 'gentle', 'folk', 'fever', 'discovery', 'danes', 'contrary', 'commercials', 'brazil', 'birds', 'areas', 'absence', '1930s', 'whale', 'twelve', 'triumph', 'tap', 'sunshine', 'stole', 'reached', 'prom', 'movements', 'mildred', 'matthew', 'landscape', 'karen', 'ireland', 'incident', 'improved', 'heroic', 'farm', 'eyre', 'extended', 'donna', 'dancers', 'concerning', 'complain', 'choreography', 'broad', 'symbolism', 'styles', 'rambo', 'overrated', 'ought', 'occurred', 'nazis', 'margaret', 'kirk', 'kapoor', 'involvement', 'existed', 'drawing', 'displays', 'differences', 'daring', 'cheek', 'burned', 'builds', 'broadcast', 'bone', 'bite', 'bathroom', 'bare', 'arrive', 'anyways', 'altman', 'web', 'tommy', 'swear', 'secrets', 'resembles', 'recognized', 'ranks', 'population', 'nicholson', 'newspaper', 'machines', 'holy', 'hollow', 'hamilton', 'greek', 'genres', 'fulci', 'demands', 'currently', 'craft', 'contained', 'block', 'blend', 'bird', 'beatty', 'audio', 'antics', 'affected', 'website', 'trio', 'todd', 'threw', 'terry', 'swedish', 'superficial', 'sadness', 'sadistic', 'ridiculously', 'receive', 'pseudo', 'proceedings', 'pretend', 'popcorn', 'occur', 'neo', 'merit', 'leg', 'journalist', 'investigate', 'hugh', 'harder', 'explosion', 'enjoys', 'dynamic', 'cliff', 'bell', 'argue', 'apes', 'altogether', 'adequate', '50s', 'voight', 'thugs', 'thrill', 'tame', 'synopsis', 'suited', 'staged', 'robots', 'rage', 'pulp', 'madonna', 'li', 'leonard', 'lawrence', 'hammer', 'foul', 'fonda', 'fighter', 'dinosaurs', 'composed', 'cameras', 'beats', 'atlantis', 'aging', 'unpleasant', 'snake', 'seventies', 'selfish', 'rural', 'prostitute', 'mountains', 'juvenile', 'innovative', 'gadget', 'escaped', 'engaged', 'ease', 'dialogues', 'conversations', 'comfortable', 'clothing', 'clint', 'cats', 'blake', '2nd', 'wealth', 'warming', 'vivid', 'versus', 'staying', 'staff', 'shine', 'philosophy', 'overwhelming', 'orders', 'offering', 'odds', 'nearby', 'murderous', 'lol', 'lit', 'lips', 'lemmon', 'kidding', 'jazz', 'intrigue', 'grab', 'garden', 'explosions', 'edie', 'eccentric', 'devoted', 'cuba', 'conventional', 'combat', 'coherent', 'centered', 'carl', 'bullet', 'buddies', 'brains', 'brady', 'bin', '2007', 'waters', 'unintentional', 'sport', 'removed', 'react', 'rat', 'producing', 'possessed', 'palma', 'nightmares', 'mummy', 'mistaken', 'meaningless', 'lust', 'liking', 'kennedy', 'implausible', 'groups', 'flop', 'errors', 'disturbed', 'detailed', 'deliberately', 'damage', 'cringe', 'cary', 'blowing', 'banned', 'bang', 'abilities', '1930', 'unwatchable', 'uneven', 'undoubtedly', 'subjects', 'spare', 'roman', 'resemblance', 'relies', 'possibility', 'olivier', 'officers', 'mickey', 'masters', 'jeffrey', 'ingredients', 'influenced', 'holly', 'hbo', 'harvey', 'ginger', 'florida', 'explaining', 'distracting', 'defeat', 'dating', 'daddy', 'clown', 'celluloid', 'causing', 'careers', 'bedroom', '1996', 'yellow', 'toys', 'survival', 'succeeded', 'signs', 'scheme', 'satisfied', 'punk', 'primary', 'politically', 'polanski', 'pays', 'passes', 'official', 'occasion', 'highest', 'hart', 'goodness', 'furthermore', 'funeral', 'focusing', 'explored', 'duty', 'discuss', 'crack', 'coffee', 'clumsy', 'classes', 'catches', 'aid', '90s', 'wives', 'winters', 'trees', 'travels', 'tracks', 'spirits', 'smaller', 'sidekick', 'sentence', 'secondly', 'rick', 'remarkably', 'props', 'mysteries', 'models', 'maggie', 'linda', 'houses', 'hank', 'godzilla', 'generic', 'flies', 'financial', 'colonel', 'chaos', 'brooklyn', 'backdrop', 'awake', 'ape', '1999', '1960', 'widow', 'unfolds', 'surviving', 'streep', 'settle', 'recorded', 'principal', 'primarily', 'portion', 'outer', 'offended', 'notion', 'mill', 'measure', 'lyrics', 'lifestyle', 'instant', 'impress', 'hates', 'hal', 'glorious', 'exotic', 'enterprise', 'endings', 'dutch', 'doomed', 'doll', 'devoid', 'destiny', 'decisions', 'consistently', 'companion', 'blatant', 'beneath', 'amy', 'afford', 'ya', 'wrestling', 'terrorist', 'shirley', 'shelf', 'revolutionary', 'represent', 'rebel', 'performer', 'pan', 'ocean', 'montage', 'mixture', 'ideal', 'hints', 'hideous', 'grinch', 'garbo', 'frustration', 'forty', 'fetched', 'et', 'enormous', 'enemies', 'dozens', 'directs', 'diane', 'desperation', 'dances', 'communist', 'closet', 'circle', 'cheating', 'celebrity', '3rd', 'z', 'winds', 'uwe', 'user', 'urge', 'traveling', 'trailers', 'topless', 'tie', 'surfing', 'subtlety', 'stinker', 'stellar', 'relations', 'reaches', 'rank', 'pig', 'painted', 'motives', 'method', 'march', 'macy', 'judging', 'immensely', 'homer', 'hardcore', 'griffith', 'fond', 'drops', 'disjointed', 'developing', 'describes', 'crush', 'countryside', 'coach', 'bull', 'buff', 'bold', 'avoided', 'akshay', 'wont', 'ties', 'tender', 'survivors', 'specifically', 'soccer', 'simplistic', 'sh', 'senseless', 'seed', 'saga', 'ruthless', 'practice', 'planned', 'oz', 'outfit', 'niro', 'melting', 'matches', 'hartley', 'emphasis', 'eighties', 'divorce', 'disappear', 'diana', 'cure', 'cinematographer', 'blew', 'benefit', 'backgrounds', 'awe', 'authority', 'april', 'amanda', 'advance', 'adorable', 'vast', 'transformation', 'splatter', 'solo', 'shaw', 'pot', 'peoples', 'miserable', 'menace', 'lumet', 'loyal', 'loads', 'link', 'judy', 'forms', 'fix', 'faster', 'earned', 'corruption', 'commented', 'claimed', 'blues', 'babe', 'angeles', '1940', 'weakest', 'unsettling', 'trashy', 'tag', 'sellers', 'rooms', 'rocket', 'riveting', 'racial', 'philosophical', 'passionate', 'mario', 'limits', 'lena', 'lasted', 'khan', 'jonathan', 'involve', 'introduces', 'interaction', 'illogical', 'hurts', 'hook', 'honesty', 'guessed', 'endure', 'elephant', 'ears', 'displayed', 'disappeared', 'dinosaur', 'depressed', 'dedicated', 'command', 'chorus', 'choreographed', 'cards', 'arrogant', 'wore', 'wendy', 'voiced', 'thoughtful', 'stress', 'stereotype', 'similarly', 'similarities', 'severe', 'scarecrow', 'sandra', 'safety', 'represented', 'realizing', 'quotes', 'possibilities', 'porno', 'nomination', 'nail', 'morris', 'moody', 'monkeys', 'macarthur', 'kicked', 'justify', 'isolated', 'hung', 'hopper', 'grandfather', 'franco', 'formulaic', 'domino', 'disappoint', 'chased', 'charlotte', 'cave', 'cake', 'buffs', 'berlin', 'adams', 'abysmal', 'understandable', 'treats', 'trained', 'thru', 'tad', 'switch', 'swimming', 'stinks', 'sounding', 'solely', 'snl', 'scope', 'promised', 'preview', 'nostalgic', 'nervous', 'myers', 'inventive', 'improve', 'helicopter', 'grasp', 'finger', 'faults', 'emperor', 'education', 'dalton', 'considerable', 'concern', 'christy', 'cd', 'campbell', 'bonus', 'blond', '1972', 'wet', 'unhappy', 'tonight', 'species', 'rotten', 'report', 'purchase', 'poetic', 'orson', 'museum', 'mayor', 'leo', 'laws', 'lately', 'kyle', 'ignorant', 'hyde', 'horrifying', 'facing', 'dub', 'downhill', 'dolls', 'del', 'corporate', 'consistent', 'comparing', 'clock', 'cliche', 'chess', 'cg', 'button', 'bergman', 'alert', 'aids', 'agrees', 'wizard', 'wished', 'waited', 'vegas', 'transfer', 'taught', 'stooges', 'steel', 'sits', 'simpson', 'shelley', 'shake', 'ruby', 'roth', 'reaching', 'prize', 'pretending', 'plant', 'photos', 'ollie', 'namely', 'motivations', 'montana', 'mall', 'letters', 'kingdom', 'inane', 'hop', 'fooled', 'embarrassment', 'edgar', 'defend', 'constructed', 'confidence', 'boot', 'blade', 'armed', 'amitabh', '35', 'writes', 'wound', 'virginia', 'vengeance', 'useful', 'timon', 'suitable', 'stevens', 'staring', 'sappy', 'relation', 'raising', 'pearl', 'pants', 'paltrow', 'miracle', 'latin', 'jenny', 'iron', 'inferior', 'humble', 'global', 'gangsters', 'eager', 'dixon', 'destroying', 'delivering', 'crocodile', 'conservative', 'connery', 'combine', 'closest', 'cleverly', 'carradine', 'buildings', 'blunt', 'bela', 'behave', 'ballet', 'artificial', 'agents', '1983', 'waves', 'valuable', 'tiresome', 'stilted', 'square', 'slick', 'sirk', 'september', 'secretly', 'scrooge', 'scottish', 'robinson', 'reads', 'pokemon', 'paranoia', 'mars', 'maintain', 'lay', 'iran', 'gundam', 'engage', 'elegant', 'dickens', 'couples', 'convincingly', 'conflicts', 'climactic', 'civilization', 'chest', 'boom', 'bath', 'bands', 'arrived', 'alcoholic', 'airport', 'airplane', 'affect', '1968', '00', 'yelling', 'wrapped', 'witches', 'willis', 'vice', 'spock', 'robbery', 'richardson', 'reflect', 'raymond', 'poetry', 'nicholas', 'misery', 'lundgren', 'lowest', 'kicking', 'jumped', 'im', 'gerard', 'frankenstein', 'exploration', 'ethan', 'creator', 'closed', 'christians', 'chicago', 'cheated', 'catching', 'beliefs', 'balls', 'access', '1960s', 'vulnerable', 'transition', 'taxi', 'survived', 'sue', 'spread', 'spoke', 'simplicity', 'scores', 'richards', 'remarks', 'questionable', 'progresses', 'potentially', 'plight', 'pal', 'nostalgia', 'messed', 'literature', 'junior', 'invasion', 'guarantee', 'greedy', 'germans', 'francis', 'firstly', 'dust', 'desired', 'designs', 'creep', 'construction', 'centers', 'catchy', 'bottle', 'advertising', 'abusive', 'y', 'wandering', 'vaguely', 'understated', 'stallone', 'showcase', 'rubber', 'restored', 'rendition', 'recognition', 'purchased', 'persons', 'operation', 'marty', 'mail', 'louise', 'lengthy', 'kay', 'june', 'joined', 'jaw', 'intentionally', 'inappropriate', 'illegal', 'hunters', 'homosexual', 'hello', 'gender', 'gabriel', 'frankie', 'experiments', 'eaten', 'doom', 'depicts', 'demand', 'copies', 'complexity', 'careful', 'brutally', 'bacall', 'attitudes', 'amounts', 'alongside', 'advise', 'advanced', 'acid', 'witnesses', 'wisdom', 'visits', 'visible', 'twilight', 'troops', 'terrorists', 'slaughter', 'signed', 'rising', 'resources', 'resort', 'relatives', 'prisoners', 'prisoner', 'pops', 'phantom', 'patients', 'parallel', 'opinions', 'online', 'newly', 'neighbors', 'molly', 'matched', 'mankind', 'likewise', 'justin', 'intimate', 'incomprehensible', 'illness', 'grayson', 'floating', 'farrell', 'drake', 'descent', 'demented', 'chicks', 'capital', 'biko', 'betty', 'bay', 'attorney', 'ashley', 'arguably', '1973', 'worn', 'witnessed', 'viewings', 'unit', 'tomatoes', 'tiger', 'suspicious', 'solution', 'ridden', 'responsibility', 'rabbit', 'proceeds', 'pit', 'nuts', 'mistress', 'manipulative', 'losers', 'keith', 'fascinated', 'ensues', 'edition', 'dreary', 'damon', 'classical', 'cities', 'chapter', 'challenging', 'carell', 'capturing', 'basketball', 'barrymore', 'austen', 'assault', 'appreciation', 'antwone', 'analysis', 'alternate', 'agreed', 'accompanied', 'wrap', 'widely', 'subplots', 'stale', 'spider', 'smiling', 'sink', 'satisfy', 'royal', 'rooney', 'reel', 'rats', 'randy', 'property', 'plausible', 'parties', 'owen', 'overacting', 'othello', 'masterful', 'lone', 'lively', 'legal', 'jaws', 'incompetent', 'frequent', 'feed', 'excessive', 'equivalent', 'earl', 'defined', 'counter', 'compelled', 'butler', 'belushi', 'arrival', 'alison', 'whats', 'warmth', 'walsh', 'waitress', 'tooth', 'tends', 'sincere', 'serving', 'seeks', 'rukh', 'rocky', 'reid', 'rangers', 'priceless', 'photo', 'overlook', 'nyc', 'novak', 'ninja', 'mundane', 'mtv', 'mighty', 'marion', 'landscapes', 'julian', 'historically', 'hilariously', 'greed', 'graham', 'exceptionally', 'enthusiasm', 'ear', 'dropping', 'dressing', 'domestic', 'despair', 'der', 'defense', 'crucial', 'channels', 'calm', 'bargain', '3d', 'zizek', 'wishing', 'willie', 'watson', 'thompson', 'survivor', 'specially', 'spain', 'recording', 'randomly', 'pursuit', 'psychic', 'prequel', 'polished', 'poem', 'pamela', 'orleans', 'orange', 'omen', 'muslim', 'monk', 'methods', 'mentioning', 'mechanical', 'masterpieces', 'loaded', 'israel', 'irrelevant', 'iraq', 'instinct', 'improvement', 'imitation', 'heights', 'generated', 'dolph', 'creativity', 'chooses', 'carla', 'bumbling', 'belong', 'assassin', 'angela', 'alfred', '1933', '13th', 'wounded', 'whoopi', 'wacky', 'unreal', 'troubles', 'tribe', 'suspend', 'suffice', 'sneak', 'simmons', 'showdown', 'scotland', 'sabrina', 'ruins', 'resist', 'resident', 'purposes', 'punishment', 'promises', 'pink', 'phony', 'performs', 'opportunities', 'nerd', 'nephew', 'minimum', 'meryl', 'mentions', 'marketing', 'map', 'maid', 'introduce', 'icon', 'household', 'hippie', 'ham', 'gifted', 'gentleman', 'fido', 'fiancé', 'feminist', 'equipment', 'empathy', 'elm', 'distinct', 'damme', 'cassidy', 'cannibal', 'caliber', 'brenda', 'borrowed', 'awfully', 'alcohol', 'album', 'abraham', '1984', 'ustinov', 'unseen', 'unoriginal', 'unaware', 'travesty', 'trail', 'testament', 'swim', 'stretched', 'stargate', 'spacey', 'soderbergh', 'sixties', 'rolled', 'respected', 'receives', 'quit', 'quinn', 'popularity', 'petty', 'peters', 'palace', 'moronic', 'miyazaki', 'mclaglen', 'masses', 'maniac', 'kurosawa', 'kissing', 'josh', 'inducing', 'greg', 'fury', 'fuller', 'expressed', 'eugene', 'educational', 'eastern', 'dud', 'dimension', 'definition', 'darren', 'dana', 'crystal', 'contest', 'clip', 'championship', 'businessman', 'bud', 'attend', 'assigned', 'activities', 'absent', '30s', '1997', '1987', '\\x85', 'yard', 'wholly', 'warriors', 'valley', 'unpredictable', 'underlying', 'tech', 'teaching', 'tarantino', 'stunned', 'sissy', 'sid', 'shed', 'ross', 'roots', 'resulting', 'rave', 'ramones', 'pin', 'pierce', 'package', 'nonsensical', 'nicole', 'nathan', 'laughably', 'interests', 'integrity', 'inevitably', 'hopeless', 'furious', 'firm', 'fed', 'exposure', 'edgy', 'doubts', 'distribution', 'din', 'depicting', 'deniro', 'dee', 'deceased', 'deaf', 'correctly', 'composer', 'buffalo', 'biography', 'austin', 'assumed', 'antonioni', '2008', '1993', '–', 'wang', 'uplifting', 'twins', 'trademark', 'supported', 'suggested', 'strangers', 'shanghai', 'romp', 'retired', 'reflection', 'puppet', 'patience', 'murray', 'metaphor', 'merits', 'leon', 'joel', 'harm', 'greatness', 'fought', 'expedition', 'dreck', 'directions', 'crawford', 'confess', 'compassion', 'buster', 'brutality', 'alec', 'accuracy', '3000', '1995', '1971', 'woo', 'victory', 'valentine', 'unfair', 'technicolor', 'tank', 'stuart', 'slice', 'significance', 'shaky', 'seldom', 'robbins', 'rita', 'resemble', 'reader', 'preston', 'pressure', 'phil', 'pete', 'peak', 'passable', 'marshall', 'malone', 'loyalty', 'legacy', 'landing', 'kumar', 'invented', 'indulgent', 'immediate', 'grabs', 'glasses', 'generations', 'files', 'femme', 'exchange', 'conditions', 'companies', 'comfort', 'coast', 'claus', 'chicken', 'checked', 'baldwin', 'adaptations', 'wretched', 'wilderness', 'vulgar', 'unexpectedly', 'tube', 'tacky', 'subjected', 'stack', 'spark', 'singers', 'ships', 'senses', 'russia', 'rises', 'respectively', 'raines', 'prey', 'palance', 'objective', 'newman', 'millionaire', 'milk', 'masks', 'marc', 'logan', 'les', 'lackluster', 'kansas', 'inability', 'husbands', 'hawke', 'grief', 'gregory', 'frustrating', 'fields', 'experimental', 'examination', 'downey', 'disliked', 'demise', 'da', 'crazed', 'cracking', 'conscious', 'confrontation', 'christianity', 'boyle', 'blast', 'billed', 'astonishing', 'andre', 'ambiguous', 'alicia', 'wwe', 'vance', 'tripe', 'tastes', 'sunny', 'sugar', 'stumbled', 'sopranos', 'skull', 'simultaneously', 'shoulders', 'sharon', 'sentinel', 'sentiment', 'replace', 'remained', 'relax', 'refused', 'rates', 'premiere', 'poison', 'parade', 'ordered', 'karl', 'infected', 'hears', 'gather', 'frightened', 'foxx', 'flair', 'fishing', 'females', 'fascination', 'dysfunctional', 'difficulties', 'desires', 'deranged', 'cream', 'bunny', 'bridget', 'basinger', 'amused', 'alternative', 'addicted', '22', '1936', 'wildly', 'wakes', 'wagner', 'underneath', 'teachers', 'sung', 'silliness', 'rude', 'rifle', 'require', 'remakes', 'raises', 'pun', 'primitive', 'presenting', 'precisely', 'phrase', 'paramount', 'paradise', 'noises', 'musicians', 'minus', 'lock', 'lands', 'kolchak', 'joins', 'items', 'interactions', 'hungry', 'function', 'framed', 'fog', 'fingers', 'filling', 'fifty', 'favour', 'exposition', 'complaints', 'comedians', 'challenged', 'caricatures', 'cannon', 'awhile', 'appropriately', 'amusement', 'agenda', 'accomplish', 'abused', '19th', '1978', 'weakness', 'visiting', 'unlikable', 'unfold', 'tomorrow', 'teaches', 'sums', 'straightforward', 'stark', 'springer', 'servant', 'roommate', 'roof', 'riot', 'releases', 'region', 'quietly', 'prepare', 'posters', 'posey', 'policeman', 'pitiful', 'penn', 'musician', 'murdering', 'muddled', 'misleading', 'loneliness', 'literary', 'leigh', 'knocked', 'iv', 'hopkins', 'hackneyed', 'fathers', 'fantasies', 'esther', 'electric', 'edit', 'duvall', 'discovering', 'dirt', 'designer', 'curly', 'credited', 'conscience', 'complaining', 'coincidence', 'clarke', 'choppy', 'chavez', 'charged', 'celebration', 'breed', 'beverly', 'bacon', 'babies', 'asylum', 'aspiring', 'adolescent', 'absurdity', '75', '1989', '1988', '1939', 'visited', 'trend', 'tierney', 'swing', 'shoulder', 'shoddy', 'shared', 'saint', 'roller', 'rely', 'reign', 'realised', 'ratso', 'quaid', 'profanity', 'preposterous', 'penny', 'occasions', 'objects', 'nolan', 'moreover', 'mode', 'mccoy', 'lindsay', 'laurence', 'knight', 'invites', 'inexplicably', 'industrial', 'imaginable', 'heist', 'heartfelt', 'handling', 'haired', 'grotesque', 'freaks', 'ethnic', 'encourage', 'en', 'el', 'dresses', 'dose', 'dont', 'devices', 'cue', 'conviction', 'citizens', 'cattle', 'cancer', 'bread', 'boxer', 'blacks', 'biased', 'bernard', 'behaviour', 'automatically', 'attenborough', 'amazon', 'adopted', 'active', 'acclaimed', '40s', '1986', 'yeti', 'vader', 'uncut', 'tyler', 'translated', 'tracking', 'tasteless', 'squad', 'skits', 'sketch', 'secondary', 'rosemary', 'rod', 'regarded', 'referred', 'provocative', 'positively', 'poe', 'paxton', 'outfits', 'option', 'nut', 'nemesis', 'naughty', 'min', 'ladder', 'ignorance', 'hughes', 'hopelessly', 'hk', 'heartbreaking', 'guitar', 'er', 'counts', 'controlled', 'chills', 'canyon', 'bye', 'beatles', 'additional', 'accepts', '1979', 'youngest', 'suspension', 'severely', 'screens', 'respective', 'renaissance', 'rejected', 'refer', 'recommendation', 'realm', 'preminger', 'peck', 'patricia', 'pages', 'outs', 'nod', 'muppet', 'morbid', 'minister', 'meg', 'martha', 'lush', 'lip', 'labor', 'kline', 'kitty', 'jews', 'jess', 'insurance', 'historic', 'glowing', 'gina', 'gillian', 'gambling', 'gal', 'fade', 'deserted', 'darn', 'daniels', 'corpses', 'coaster', 'chuckle', 'christine', 'challenges', 'chainsaw', 'bronson', 'brendan', 'bow', 'bitch', 'bike', 'betrayal', 'backs', 'affection', 'admirable', 'abrupt', '1969', 'wilder', 'underworld', 'thread', 'tail', 'sympathize', 'sooner', 'shares', 'selection', 'sassy', 'rome', 'reluctant', 'psychology', 'prejudice', 'praised', 'mayhem', 'lois', 'lester', 'kidman', 'invited', 'indication', 'hyped', 'hepburn', 'guests', 'guaranteed', 'fontaine', 'fist', 'filler', 'farmer', 'evidently', 'eternal', 'disappears', 'deleted', 'conventions', 'circus', 'beware', 'barrel', 'artsy', 'anticipation', 'aim', 'address', '73', '19', 'zombi', 'www', 'weaknesses', 'visions', 'venture', 'uh', 'trivia', 'tip', 'threatens', 'tenant', 'stopping', 'steady', 'stalker', 'stages', 'sox', 'soup', 'snakes', 'shades', 'scorsese', 'reflects', 'reeves', 'receiving', 'promote', 'previews', 'posted', 'popping', 'overlong', 'outing', 'oldest', 'nicolas', 'net', 'nails', 'muppets', 'misguided', 'marvel', 'macho', 'investigating', 'insipid', 'inconsistent', 'iconic', 'housewife', 'heading', 'harmless', 'hammy', 'hack', 'gut', 'grudge', 'gere', 'fluff', 'filth', 'fifties', 'drove', 'depending', 'dates', 'cruelty', 'cope', 'conveys', 'burst', 'bully', 'bros', 'boston', 'beside', 'bent', 'behold', 'banal', 'angst', 'agency', 'affairs', 'acceptance', 'yawn', 'widescreen', 'vein', 'unexplained', 'understands', 'triple', 'terrified', 'studying', 'studies', 'strongest', 'steele', 'schlock', 'runner', 'route', 'rhythm', 'remade', 'records', 'preachy', 'pounds', 'portrayals', 'pole', 'obligatory', 'nolte', 'naschy', 'morally', 'locals', 'lifted', 'hokey', 'height', 'harold', 'grainy', 'gear', 'firing', 'explores', 'exceptions', 'entitled', 'employed', 'emerges', 'disguise', 'difficulty', 'denis', 'demonstrates', 'cushing', 'connections', 'confident', 'completed', 'commander', 'cassavetes', 'campaign', 'ants', 'alvin', 'absorbed', '1981', '1976', 'wings', 'vital', 'unrelated', 'suitably', 'stores', 'stairs', 'spinal', 'someday', 'slimy', 'shortcomings', 'sending', 'rounded', 'representation', 'repeating', 'redeem', 'recycled', 'recognizable', 'rapist', 'raj', 'prominent', 'predict', 'politician', 'physics', 'phenomenon', 'partners', 'paintings', 'offs', 'mothers', 'mol', 'mentality', 'melody', 'legends', 'interestingly', 'insists', 'hapless', 'gate', 'flashy', 'ebert', 'duck', 'disgusted', 'despicable', 'danish', 'couch', 'conclude', 'comparisons', 'communicate', 'cohen', 'clueless', 'clan', 'champion', 'casual', 'bitten', 'attract', 'assured', 'assuming', 'ariel', 'ace', '95', '28', '1945', 'zane', 'wig', 'vibrant', 'tunnel', 'timberlake', 'tempted', 'shouting', 'shopping', 'screw', 'scoop', 'rendered', 'pleasing', 'pixar', 'pickford', 'phillips', 'phillip', 'norm', 'neill', 'melissa', 'marries', 'marlon', 'lukas', 'loretta', 'limit', 'kathryn', 'jordan', 'ish', 'ingenious', 'info', 'inexplicable', 'independence', 'heartwarming', 'harrison', 'hara', 'guinness', 'globe', 'genie', 'gems', 'garner', 'forcing', 'flowers', 'feeding', 'europa', 'eternity', 'elite', 'eats', 'dylan', 'discussing', 'delicate', 'defeated', 'coup', 'corman', 'corbett', 'cookie', 'considerably', 'colin', 'claustrophobic', 'claiming', 'clad', 'cher', 'charms', 'carey', 'befriends', 'wire', 'winchester', 'wendigo', 'weather', 'vanessa', 'uma', 'transformed', 'traffic', 'towers', 'toronto', 'symbolic', 'surgery', 'strings', 'static', 'sharing', 'shaking', 'screwed', 'salt', 'rope', 'publicity', 'mathieu', 'lift', 'item', 'institution', 'inhabitants', 'incidentally', 'immature', 'http', 'hilarity', 'glamorous', 'georges', 'election', 'doctors', 'deserving', 'depends', 'claude', 'christie', 'camcorder', 'bridges', 'bondage', 'blatantly', 'bend', 'belt', 'backwards', 'anton', 'wax', 'voted', 'vocal', 'ton', 'thrilled', 'threatened', 'swept', 'stumbles', 'spree', 'smiles', 'shorter', 'schools', 'satirical', 'ritchie', 'remove', 'punches', 'programs', 'pc', 'partially', 'outdated', 'oriented', 'organized', 'nope', 'natives', 'minority', 'messy', 'mermaid', 'leather', 'layers', 'lasting', 'knightley', 'keen', 'insightful', 'gunga', 'goers', 'frames', 'feat', 'exploring', 'excess', 'dvds', 'dudley', 'disorder', 'differently', 'detectives', 'destined', 'departure', 'debate', 'dandy', 'damaged', 'coupled', 'continually', 'concepts', 'computers', 'cheer', 'charlton', 'chamberlain', 'centre', 'breakfast', 'boyer', 'bombs', 'authorities', 'audrey', 'assassination', 'arc', 'ambition', 'alley', 'affleck', 'windows', 'wanders', 'uniformly', 'trier', 'triangle', 'trials', 'tara', 'suggestion', 'sorely', 'razor', 'racing', 'proving', 'profession', 'preferred', 'pacific', 'northern', 'niece', 'newer', 'neurotic', 'natalie', 'mon', 'moe', 'mitch', 'mirrors', 'milo', 'mercy', 'mannerisms', 'lifeless', 'landed', 'inspire', 'huston', 'hum', 'homicide', 'holocaust', 'hides', 'hangs', 'handles', 'goldsworthy', 'formed', 'fishburne', 'duration', 'deer', 'commenting', 'casts', 'carlito', 'btw', 'braveheart', 'bogus', 'bates', 'bars', 'alexandre', 'accurately', '4th', '1994', '1991', '1990s', 'wtf', 'vile', 'undead', 'tops', 'token', 'tapes', 'spies', 'speeches', 'sleeps', 'sleaze', 'skit', 'sincerely', 'setup', 'seeming', 'ripping', 'reliable', 'refuse', 'rear', 'randolph', 'predecessor', 'outright', 'obtain', 'nina', 'neatly', 'myth', 'mutual', 'mcqueen', 'liu', 'kazan', 'justified', 'jared', 'insanity', 'ie', 'hulk', 'helpful', 'heels', 'healthy', 'gods', 'gilliam', 'gable', 'forgiven', 'firmly', 'fifth', 'exquisite', 'evolution', 'evelyn', 'errol', 'entered', 'engrossing', 'eleven', 'elevator', 'einstein', 'earn', 'disastrous', 'demonic', 'demanding', 'creek', 'containing', 'conrad', 'clara', 'choosing', 'cbs', 'buzz', 'brooding', 'bowl', 'biblical', 'audition', 'armstrong', 'altered', '1977', '1974', 'walt', 'vain', 'truman', 'tower', 'topics', 'survives', 'subtly', 'statue', 'startling', 'stare', 'sometime', 'shepherd', 'shell', 'shaped', 'sergeant', 'seedy', 'salman', 'rooting', 'restrained', 'regards', 'realities', 'rampage', 'radical', 'preparing', 'potter', 'poker', 'paula', 'owners', 'nations', 'mixing', 'miniseries', 'mesmerizing', 'mason', 'luis', 'lex', 'leaders', 'lampoon', 'label', 'kent', 'judd', 'joker', 'insights', 'injured', 'highway', 'helpless', 'hats', 'guards', 'grateful', 'goldblum', 'frontal', 'error', 'emerge', 'educated', 'disgrace', 'dim', 'destroys', 'describing', 'deny', 'deliverance', 'crossing', 'critique', 'contempt', 'cons', 'conan', 'cerebral', 'cemetery', 'casino', 'cartoonish', 'carmen', 'capote', 'candidate', 'bsg', 'boris', 'boasts', 'bloom', 'bachelor', 'artwork', 'approaches', 'antonio', 'akin', 'addict', 'activity', '1985', 'wrenching', 'weaker', 'washed', 'wardrobe', 'votes', 'vastly', 'unlikeable', 'tokyo', 'thunderbirds', 'thirties', 'terminator', 'scariest', 'scarface', 'rides', 'repulsive', 'relentless', 'refers', 'reeve', 'rapidly', 'puppets', 'photographs', 'owes', 'origin', 'nominations', 'narrow', 'mum', 'monty', 'modest', 'miami', 'masterson', 'masterfully', 'located', 'linear', 'lean', 'lauren', 'las', 'jill', 'jedi', 'jacket', 'internal', 'inspirational', 'ingrid', 'hugely', 'homes', 'hers', 'hackman', 'growth', 'grounds', 'gimmick', 'giants', 'freeze', 'exploits', 'dubious', 'disgust', 'disguised', 'des', 'dazzling', 'crashes', 'corporation', 'contribution', 'compete', 'coat', 'cinemas', 'caricature', 'cain', 'bulk', 'bravo', 'banter', 'bach', 'applaud', 'affects', 'advertised', '21st', 'youtube', 'youthful', 'wonderland', 'vehicles', 'unsuspecting', 'unsure', 'underwear', 'undeniably', 'swallow', 'stunningly', 'strengths', 'standout', 'spine', 'soylent', 'sophie', 'sniper', 'screenwriters', 'scifi', 'sale', 'reward', 'porter', 'perception', 'parsons', 'painter', 'origins', 'ol', 'natured', 'motive', 'mitchum', 'missile', 'mates', 'males', 'macabre', 'mabel', 'limitations', 'lasts', 'insults', 'inaccurate', 'id', 'homosexuality', 'hires', 'headache', 'harlow', 'gates', 'gained', 'factors', 'expertly', 'excellently', 'dread', 'detract', 'decline', 'damned', 'crosby', 'corn', 'convinces', 'convicted', 'continuing', 'chronicles', 'christina', 'cecil', 'casper', 'butcher', 'bones', 'beowulf', 'authenticity', 'arab', 'amrita', 'ally', 'abruptly', '1959', 'yokai', 'yep', 'witchcraft', 'wander', 'vividly', 'users', 'unimaginative', 'uniform', 'underwater', 'unattractive', 'troma', 'tossed', 'toni', 'teams', 'supply', 'suburban', 'stardom', 'stalking', 'spit', 'span', 'slide', 'sinking', 'siblings', 'sgt', 'servants', 'salvation', 'rookie', 'ronald', 'resolved', 'residents', 'repressed', 'referring', 'puerto', 'published', 'promptly', 'pray', 'polly', 'pirate', 'owned', 'netflix', 'nerves', 'nbc', 'mutant', 'mobile', 'misfortune', 'mice', 'magician', 'longest', 'literal', 'lighter', 'lennon', 'lend', 'lance', 'kinnear', 'juliet', 'judgment', 'jarring', 'implied', 'gypo', 'garland', 'galaxy', 'feast', 'fatale', 'exterior', 'entirety', 'entering', 'enhanced', 'energetic', 'endlessly', 'earnest', 'dominated', 'divorced', 'disabled', 'derivative', 'delicious', 'definitive', 'dealer', 'confronted', 'confront', 'colours', 'colleagues', 'clash', 'cheadle', 'cents', 'buys', 'burke', 'bruno', 'anil', 'accessible', '21', '200', '1940s', 'zorro', 'yours', 'wounds', 'wong', 'victorian', 'tormented', 'tax', 'syndrome', 'stranded', 'sticking', 'spencer', 'snuff', 'sized', 'severed', 'separated', 'sensible', 'senior', 'scratch', 'respectable', 'readers', 'races', 'principle', 'playboy', 'pale', 'owns', 'offbeat', 'nerve', 'meandering', 'mama', 'loy', 'lola', 'laurie', 'jules', 'jodie', 'irene', 'interact', 'inherent', 'improbable', 'imo', 'identical', 'hindi', 'hi', 'harriet', 'habit', 'grass', 'glued', 'filthy', 'expects', 'exorcist', 'exit', 'eventual', 'estranged', 'erika', 'dragons', 'dismal', 'dilemma', 'devastating', 'depths', 'depict', 'cypher', 'cyborg', 'crisp', 'cries', 'cliches', 'cleaning', 'characteristics', 'caron', 'butch', 'breathing', 'blooded', 'biting', 'belly', 'bashing', 'astounding', 'asia', 'approaching', 'anyhow', '1982', '1953', '1944', 'worms', 'wisely', 'werewolves', 'ugh', 'turd', 'tremendously', 'tool', 'toby', 'timmy', 'thurman', 'subway', 'sublime', 'stylized', 'steam', 'spectacle', 'sought', 'sf', 'sand', 'rider', 'reminder', 'quentin', 'quarter', 'pumbaa', 'psychopath', 'promoted', 'principals', 'possess', 'pocket', 'plotting', 'pegg', 'pattern', 'passengers', 'packs', 'odyssey', 'numbing', 'noticeable', 'nightclub', 'miranda', 'minnelli', 'lightning', 'laden', 'judged', 'jan', 'isolation', 'informed', 'incapable', 'immortal', 'hippies', 'hayworth', 'glaring', 'franklin', 'fragile', 'foolish', 'flimsy', 'flashes', 'filmmaking', 'exploit', 'expectation', 'esquire', 'escaping', 'enthusiastic', 'dustin', 'dump', 'drinks', 'demonstrate', 'deliberate', 'decidedly', 'deanna', 'conveyed', 'concentrate', 'clay', 'classy', 'chopped', 'cheaply', 'budgets', 'breakdown', 'berkeley', 'basket', 'barbra', 'balanced', 'axe', 'assembled', 'appeals', 'answered', 'adore', '23', '1998', '1975', 'whiny', 'voyage', 'volume', 'vintage', 'updated', 'ultimatum', 'sydney', 'stephanie', 'spaghetti', 'sidewalk', 'shepard', 'seymour', 'sentimentality', 'selected', 'samantha', 'romeo', 'robertson', 'rewarding', 'revolt', 'reviewing', 'rescued', 'reports', 'quantum', 'ps', 'pound', 'pierre', 'pause', 'outline', 'ominous', 'moron', 'messing', 'melvyn', 'longing', 'kidnapping', 'karate', 'jealousy', 'intricate', 'hadley', 'goods', 'gentlemen', 'gamera', 'frontier', 'freaky', 'expose', 'experiencing', 'excruciatingly', 'ensure', 'embrace', 'dj', 'divine', 'destructive', 'debt', 'cunningham', 'crown', 'crippled', 'copied', 'conveniently', 'contribute', 'connor', 'combines', 'colored', 'collect', 'clone', 'celebrated', 'cape', 'cal', 'busey', 'attacking', 'arguing', 'advised', 'addiction', 'accounts', 'accepting', 'absorbing', '300', '1934', 'whining', 'vince', 'vanilla', 'unsatisfying', 'turmoil', 'tourist', 'thieves', 'theories', 'tendency', 'taped', 'taboo', 'switched', 'swearing', 'suspected', 'sucker', 'stroke', 'stones', 'stella', 'slip', 'sarcastic', 'sanders', 'salesman', 'ricky', 'resulted', 'redundant', 'rainy', 'pursue', 'peaceful', 'parallels', 'overblown', 'obsessive', 'niven', 'morals', 'longoria', 'liam', 'knocks', 'jury', 'juliette', 'jewel', 'jenna', 'jaded', 'intentional', 'inmates', 'indiana', 'incorrect', 'immense', 'horny', 'herman', 'havoc', 'hannah', 'grandma', 'goals', 'furniture', 'fright', 'fleshed', 'fassbinder', 'fairbanks', 'europeans', 'establishment', 'establish', 'dukes', 'downs', 'distract', 'deputy', 'delighted', 'dashing', 'dame', 'daisy', 'cutter', 'crashing', 'comprehend', 'collette', 'cliffhanger', 'chill', 'bounty', 'bikini', 'bachchan', 'aussie', 'august', 'arquette', 'arguments', 'anticipated', 'aided', 'aggressive', 'adaption', 'wine', 'wielding', 'virtual', 'vega', 'traits', 'trace', 'thelma', 'subtext', 'stream', 'spice', 'slugs', 'slaves', 'sixth', 'shootout', 'shift', 'serum', 'schneider', 'rowlands', 'routines', 'rivers', 'remembering', 'rebellious', 'realization', 'puzzle', 'psychologist', 'predictably', 'polish', 'peculiar', 'passage', 'papers', 'overboard', 'mystical', 'mouthed', 'morons', 'mormon', 'lethal', 'lavish', 'lang', 'korea', 'jolie', 'jersey', 'jacques', 'insomnia', 'hyper', 'hybrid', 'herbert', 'graveyard', 'goodbye', 'gilbert', 'gielgud', 'ghetto', 'fills', 'fascist', 'exploding', 'establishing', 'dumber', 'dramatically', 'distress', 'demonstrated', 'demille', 'define', 'debbie', 'cultures', 'consideration', 'commitment', 'collective', 'clooney', 'clive', 'climb', 'chiba', 'carnage', 'canceled', 'bubble', 'boiled', 'bogart', 'begging', 'backed', 'avoiding', 'arrest', 'arranged', 'approached', 'apply', 'angie', 'alter', 'alleged', 'aiming', 'afterward', 'adrian', 'admired', '\\x97', 'wiped', 'whites', 'wheel', 'verdict', 'verbal', 'vanity', 'upside', 'update', 'tuned', 'trains', 'tolerable', 'sunrise', 'strict', 'sources', 'smash', 'slapped', 'skinny', 'skilled', 'sickening', 'shoe', 'settled', 'seasoned', 'scored', 'sarandon', 'sang', 'sammo', 'ritual', 'reviewed', 'respects', 'remembers', 'relentlessly', 'rea', 'python', 'puppy', 'poses', 'populated', 'phenomenal', 'pedestrian', 'pad', 'owl', 'optimistic', 'olds', 'newcomer', 'mythology', 'mouths', 'monologue', 'mole', 'mentor', 'medieval', 'marilyn', 'madsen', 'lunch', 'lionel', 'leap', 'kathy', 'insist', 'horrified', 'hooper', 'hateful', 'haines', 'gibson', 'gershwin', 'georgia', 'freaking', 'fools', 'feminine', 'exploited', 'explodes', 'excuses', 'enhance', 'elliott', 'duel', 'document', 'diverse', 'distraction', 'dahmer', 'cuban', 'crosses', 'courtroom', 'contributed', 'consciousness', 'commits', 'colman', 'coke', 'chong', 'borders', 'arriving', 'arkin', 'anytime', 'anthology', 'acquired', 'achieves', '1967', 'wheelchair', 'weary', 'wash', 'vomit', 'unsympathetic', 'themed', 'tactics', 'symbol', 'sundance', 'suggesting', 'shockingly', 'sheen', 'sells', 'seductive', 'satisfaction', 'sailor', 'romances', 'republic', 'regularly', 'readily', 'pushes', 'psyche', 'professionals', 'possession', 'possesses', 'posing', 'policy', 'planes', 'pirates', 'phase', 'pfeiffer', 'penelope', 'pathos', 'otto', 'olivia', 'nun', 'nuances', 'novelty', 'mysteriously', 'mute', 'motorcycle', 'moss', 'mortal', 'meantime', 'meal', 'martian', 'lucille', 'lowe', 'legitimate', 'laputa', 'keys', 'iturbi', 'israeli', 'ira', 'invention', 'introducing', 'instincts', 'immigrant', 'hoot', 'hooker', 'guinea', 'gooding', 'fried', 'foundation', 'fluid', 'flower', 'flock', 'flavor', 'feeble', 'fallon', 'explosive', 'expense', 'encountered', 'employee', 'dynamics', 'drab', 'doyle', 'dillinger', 'diary', 'denise', 'delightfully', 'deliciously', 'defies', 'covering', 'cooking', 'controlling', 'contestants', 'clerk', 'circles', 'cigarette', 'cannes', 'brainless', 'bonnie', 'beckinsale', 'awakening', 'attending', 'amidst', '85', 'wider', 'wastes', 'void', 'viewpoint', 'vera', 'unusually', 'um', 'truths', 'tomei', 'tickets', 'tho', 'tcm', 'targets', 'swinging', 'stern', 'steer', 'statements', 'starters', 'sondra', 'sided', 'shifts', 'shah', 'serials', 'screwball', 'rosario', 'reverse', 'releasing', 'rapid', 'ranch', 'pursued', 'pros', 'products', 'produces', 'predator', 'parking', 'ordeal', 'ny', 'noteworthy', 'neglected', 'narrated', 'motions', 'meteor', 'medicine', 'lends', 'kris', 'july', 'juan', 'intact', 'instances', 'indifferent', 'inaccuracies', 'idol', 'gwyneth', 'gloria', 'fuzzy', 'frog', 'forties', 'forgetting', 'followers', 'fanatic', 'excruciating', 'embarrassingly', 'economic', 'dumped', 'dumbest', 'discussed', 'detroit', 'degrees', 'deed', 'deciding', 'debra', 'darth', 'creasy', 'convention', 'consist', 'columbia', 'cliched', 'cindy', 'centuries', 'cameraman', 'biker', 'beg', 'auto', 'attended', 'assignment', 'arty', 'arrow', 'anxious', 'alot', 'agony', 'aftermath', 'admitted', 'additionally', 'abandon', '1992', '1948', '101', 'wright', 'wayans', 'warns', 'visconti', 'unanswered', 'trigger', 'toned', 'tomb', 'suspicion', 'stating', 'stabbed', 'soprano', 'snowman', 'snipes', 'slim', 'simpsons', 'shaggy', 'session', 'sentences', 'scripting', 'sarcasm', 'ruining', 'roughly', 'rice', 'rejects', 'rational', 'phoenix', 'pains', 'originals', 'obstacles', 'northam', 'muslims', 'misunderstood', 'mick', 'meyer', 'manners', 'macdonald', 'likeable', 'kidnap', 'jose', 'invite', 'intro', 'informative', 'indicate', 'inclusion', 'incidents', 'grip', 'greene', 'graduate', 'goodman', 'goldie', 'godard', 'geek', 'gallery', 'funding', 'frantic', 'fleet', 'flavia', 'flames', 'factual', 'executives', 'eli', 'edith', 'edison', 'dominic', 'distracted', 'daylight', 'cycle', 'crossed', 'criticize', 'corey', 'controversy', 'consequently', 'compliment', 'coffin', 'cody', 'click', 'casablanca', 'cap', 'campus', 'cab', 'brow', 'breast', 'begun', 'begs', 'artistry', 'ambitions', 'abound', 'vonnegut', 'varied', 'uniforms', 'uncanny', 'translate', 'therapy', 'sweden', 'sweat', 'surroundings', 'stink', 'stiles', 'sterling', 'stardust', 'stance', 'stalked', 'sly', 'shore', 'sebastian', 'seats', 'schedule', 'saloon', 'robbers', 'rips', 'replies', 'relevance', 'relating', 'reiser', 'redneck', 'realistically', 'rambling', 'protest', 'pointing', 'plodding', 'playwright', 'pen', 'paranoid', 'pans', 'paints', 'murky', 'momentum', 'mock', 'mccarthy', 'maureen', 'kathleen', 'johansson', 'iranian', 'investigator', 'intensely', 'hostel', 'heath', 'hayes', 'guardian', 'grabbed', 'generate', 'geisha', 'gap', 'galactica', 'frozen', 'frances', 'foil', 'festivals', 'fellini', 'exclusively', 'envy', 'enigmatic', 'enchanted', 'eagerly', 'duh', 'dreamy', 'determination', 'destination', 'depictions', 'denouement', 'delirious', 'cow', 'convict', 'consequence', 'combs', 'coma', 'collins', 'chamber', 'brat', 'bosses', 'blamed', 'beckham', 'bait', 'apt', 'apple', 'antagonist', 'alliance', 'abortion', 'ww2', 'widowed', 'warden', 'veterans', 'traps', 'talky', 'sunset', 'sonny', 'slater', 'sketches', 'sights', 'shotgun', 'sho', 'sg', 'services', 'sensibility', 'scenarios', 'scarlet', 'russo', 'rupert', 'rounds', 'rohmer', 'rewarded', 'revolving', 'resume', 'resistance', 'resembling', 'replacement', 'rehash', 'randall', 'quasi', 'precise', 'politicians', 'phones', 'periods', 'paths', 'participants', 'parrot', 'overs', 'omar', 'occult', 'necessity', 'natali', 'myrtle', 'midst', 'mandy', 'lurking', 'lunatic', 'loren', 'lopez', 'linked', 'lens', 'launch', 'lastly', 'injury', 'imaginary', 'ignoring', 'hysterically', 'hostage', 'hmmm', 'hawn', 'handicapped', 'gus', 'goat', 'glimpses', 'glance', 'giovanna', 'gigantic', 'gestures', 'gaps', 'gackt', 'fruit', 'foremost', 'finney', 'feinstone', 'faux', 'entrance', 'du', 'dismiss', 'diner', 'dafoe', 'curiously', 'county', 'composition', 'communication', 'comeback', 'characterisation', 'capacity', 'burnt', 'brooke', 'brides', 'brett', 'bleed', 'blaise', 'bennett', 'bauer', 'bats', 'baron', 'barney', 'awareness', 'apocalyptic', 'ambiguity', 'adele', '1951', '1943', 'whore', 'watcher', 'voyager', 'vignettes', 'upcoming', 'unstable', 'unclear', 'trauma', 'tightly', 'targeted', 'supreme', 'sufficient', 'substantial', 'studied', 'stake', 'stadium', 'sparks', 'smell', 'slashers', 'sins', 'silverman', 'shin', 'shahid', 'safely', 'rolls', 'rodriguez', 'revival', 'reflected', 'qualify', 'psychedelic', 'prophecy', 'pressed', 'popped', 'platform', 'pivotal', 'pilots', 'payoff', 'overbearing', 'olsen', 'offend', 'october', 'nuanced', 'nightmarish', 'misty', 'mins', 'meredith', 'massey', 'masked', 'martino', 'marisa', 'maintains', 'locke', 'laboratory', 'kristofferson', 'kells', 'jude', 'joking', 'je', 'jagger', 'isabelle', 'iq', 'ins', 'incest', 'imagining', 'ignores', 'homicidal', 'hmm', 'hinted', 'hines', 'haunt', 'hating', 'grendel', 'gosh', 'gloomy', 'girlfriends', 'gathering', 'fuel', 'ferrell', 'extensive', 'existing', 'evans', 'epics', 'eh', 'dynamite', 'diego', 'convent', 'complications', 'collector', 'cheers', 'characterizations', 'cena', 'brien', 'brent', 'blockbusters', 'blandings', 'biopic', 'benjamin', 'benefits', 'bearing', 'battlestar', 'avid', 'applies', 'applied', 'apocalypse', 'anita', 'angelina', 'ample', 'ajay', 'addressed', 'aaron', '1963', '1955', '1932', 'witnessing', 'weekly', 'vivian', 'visitor', 'versa', 'valid', 'upstairs', 'unfolding', 'turtle', 'turkish', 'tire', 'thailand', 'stereotyped', 'stations', 'stabbing', 'sour', 'slower', 'skeptical', 'sheets', 'russ', 'rourke', 'reunite', 'resolve', 'reserved', 'repeats', 'relying', 'questioning', 'protection', 'profile', 'pose', 'pornography', 'plate', 'phantasm', 'peril', 'outlandish', 'organization', 'orchestra', 'observe', 'observations', 'observation', 'nutshell', 'novelist', 'nauseating', 'murderers', 'maximum', 'marked', 'marine', 'marcel', 'mannered', 'madeleine', 'lo', 'jar', 'invested', 'interviewed', 'interrupted', 'interpretations', 'interior', 'gorilla', 'gannon', 'fortunate', 'flag', 'favourites', 'fart', 'exploitative', 'excellence', 'engine', 'enchanting', 'drowned', 'doug', 'divided', 'diversity', 'disco', 'coward', 'courtesy', 'controls', 'collar', 'clunky', 'choir', 'carlos', 'caretaker', 'candle', 'brashear', 'boundaries', 'boots', 'boogie', 'boo', 'bonanza', 'bias', 'bernsen', 'beard', 'baddies', 'assure', 'artemisia', 'array', 'announced', 'acknowledge', '27', '1958', 'wrestler', 'wartime', 'waking', 'villainous', 'vargas', 'ursula', 'unnatural', 'unhinged', 'understatement', 'unappealing', 'trivial', 'travis', 'tones', 'thunder', 'thrust', 'thereby', 'substitute', 'strung', 'spotlight', 'spade', 'somethings', 'smug', 'slavery', 'sincerity', 'similarity', 'sholay', 'shocks', 'sherlock', 'sheep', 'seduce', 'scarecrows', 'satanic', 'sara', 'sanity', 'samuel', 'ripoff', 'rightly', 'riff', 'rebels', 'realises', 'reagan', 'raging', 'projected', 'progressed', 'preaching', 'portuguese', 'peggy', 'pecker', 'palm', 'obscurity', 'nora', 'ninety', 'needing', 'neal', 'monotonous', 'merry', 'manipulation', 'magically', 'madison', 'luzhin', 'landmark', 'janet', 'jackman', 'inter', 'insert', 'inadvertently', 'harrowing', 'guevara', 'govinda', 'gino', 'garfield', 'fundamental', 'frost', 'finishes', 'fiancée', 'famed', 'evokes', 'ernie', 'entries', 'enduring', 'duchovny', 'displaying', 'deemed', 'daytime', 'customers', 'crushed', 'criticized', 'counting', 'confined', 'conductor', 'commendable', 'commanding', 'colleague', 'cocaine', 'coburn', 'climbing', 'chuckles', 'chewing', 'chew', 'chaotic', 'chandler', 'cedric', 'bust', 'bonham', 'blazing', 'bittersweet', 'arrogance', 'admits', 'accidental', '26', 'zodiac', 'yell', 'wholesome', 'wee', 'voodoo', 'unfamiliar', 'understandably', 'traumatic', 'transparent', 'traditions', 'tide', 'testing', 'tashan', 'takashi', 'sylvia', 'suzanne', 'subsequently', 'stumble', 'stuffed', 'spontaneous', 'spoiling', 'sophia', 'sitcoms', 'shred', 'shameless', 'seth', 'serbian', 'segal', 'seattle', 'scheming', 'scarlett', 'rendering', 'reminding', 'remark', 'reluctantly', 'redford', 'recover', 'ram', 'quintessential', 'protective', 'pizza', 'perverted', 'penned', 'participate', 'myrna', 'motel', 'liotta', 'laying', 'layered', 'lara', 'krueger', 'kirsten', 'kaufman', 'jo', 'incestuous', 'hugo', 'howling', 'hostile', 'hobgoblins', 'herd', 'harron', 'hardened', 'hallmark', 'goings', 'glossy', 'forgiveness', 'forgets', 'flame', 'finishing', 'filmography', 'file', 'fetish', 'explode', 'elsa', 'egyptian', 'eagle', 'dreyfuss', 'dreaming', 'district', 'discipline', 'despise', 'deeds', 'deathtrap', 'dangerously', 'dallas', 'crooks', 'convenient', 'contestant', 'comparable', 'climatic', 'clarity', 'chloe', 'chip', 'cheerful', 'charges', 'characteristic', 'celebrities', 'castro', 'caprica', 'cancelled', 'camping', 'burial', 'bert', 'belle', 'beers', 'bean', 'barker', 'atlantic', 'article', 'ala', 'aesthetic', 'admirer', 'achievements', 'accompanying', '2009', 'whimsical', 'wesley', 'warehouse', 'verge', 'val', 'unnecessarily', 'unconventional', 'tools', 'titular', 'tits', 'tess', 'temper', 'taut', 'surround', 'sunk', 'summed', 'slut', 'sickness', 'sheridan', 'shannon', 'shameful', 'sexist', 'senator', 'semblance', 'se', 'salvage', 'sales', 'sack', 'runaway', 'ruled', 'restraint', 'relaxed', 'regime', 'redgrave', 'rebellion', 'raunchy', 'rampant', 'raid', 'prop', 'proceed', 'preacher', 'practical', 'pornographic', 'polar', 'pia', 'philo', 'pee', 'orphan', 'oprah', 'oblivious', 'monroe', 'monks', 'monica', 'miraculously', 'melbourne', 'melancholy', 'meadows', 'mamet', 'license', 'letdown', 'kinski', 'kindly', 'juice', 'joint', 'jabba', 'inserted', 'informer', 'infinitely', 'implies', 'imho', 'ideals', 'hunted', 'holt', 'henchmen', 'han', 'gypsy', 'grandpa', 'gena', 'gangs', 'fritz', 'fraud', 'flows', 'flip', 'flashing', 'fires', 'faye', 'fades', 'faded', 'facility', 'excels', 'espionage', 'ernest', 'earliest', 'ealing', 'drowning', 'drift', 'dragging', 'distributed', 'digging', 'devotion', 'desk', 'depardieu', 'defining', 'creations', 'cracks', 'coolest', 'constraints', 'considers', 'conclusions', 'cheering', 'cells', 'captivated', 'byron', 'busby', 'bronte', 'booth', 'bloodbath', 'betrayed', 'beforehand', 'awry', 'annoy', 'almighty', 'affecting', 'admission', 'abundance', '1946', 'zelah', 'wherever', 'vcr', 'variation', 'vapid', 'upbeat', 'unleashed', 'uneasy', 'underdeveloped', 'travolta', 'toxic', 'theodore', 'switching', 'superstar', 'sucking', 'submarine', 'sporting', 'spiral', 'spaceship', 'solved', 'snap', 'sixteen', 'shirts', 'seuss', 'sergio', 'searched', 'screened', 'sane', 'robotic', 'robbed', 'rivals', 'remainder', 'reject', 'radiation', 'quaint', 'pursuing', 'programme', 'presidential', 'plug', 'pitched', 'permanent', 'payne', 'paycheck', 'pauline', 'overtones', 'outrageously', 'openly', 'occupied', 'norton', 'networks', 'mud', 'motivated', 'mister', 'meek', 'marvin', 'martians', 'mart', 'madman', 'macmurray', 'luc', 'lubitsch', 'listened', 'liner', 'lindy', 'lil', 'joining', 'intend', 'inclined', 'hometown', 'heap', 'grin', 'gretchen', 'grease', 'ghostly', 'ghastly', 'gandolfini', 'fodder', 'fiend', 'fashions', 'faint', 'failures', 'evoke', 'ensue', 'englund', 'engineer', 'encouraged', 'egypt', 'edmund', 'dwight', 'dunst', 'dominate', 'dictator', 'detached', 'demeanor', 'deepest', 'dash', 'crowe', 'croc', 'criticisms', 'coop', 'complained', 'compensate', 'committing', 'colony', 'clouds', 'cloak', 'circa', 'chops', 'cheech', 'censorship', 'caper', 'buffy', 'bout', 'borrow', 'blondell', 'benny', 'battlefield', 'babes', 'awaiting', 'avoids', 'automatic', 'assumes', 'assistance', 'arnie', 'aniston', 'ambiance', 'alarm', 'adapt', '98', '1966', '1957', '1000', 'wu', 'whip', 'warrant', 'vincenzo', 'vigilante', 'vet', 'vaughn', 'transport', 'surrender', 'surf', 'suave', 'stoned', 'stepmother', 'sober', 'slam', 'shrek', 'sharks', 'sensual', 'sections', 'scratching', 'roach', 'revolver', 'prostitutes', 'prone', 'prologue', 'progression', 'principles', 'pretends', 'policemen', 'poet', 'pigs', 'peers', 'peckinpah', 'paz', 'patty', 'offense', 'noting', 'notices', 'ninjas', 'nineties', 'myra', 'mustache', 'mira', 'midget', 'mega', 'mediocrity', 'marijuana', 'mack', 'loner', 'knees', 'irritated', 'investment', 'incidental', 'impending', 'idealistic', 'helmet', 'happenings', 'hanzo', 'gig', 'garage', 'forrest', 'flowing', 'fitzgerald', 'farrah', 'farnsworth', 'fairness', 'fagin', 'experts', 'everett', 'epitome', 'enormously', 'electronic', 'egg', 'edges', 'dyke', 'drum', 'dom', 'diving', 'distinction', 'disregard', 'disappearance', 'dern', 'defending', 'deck', 'darkly', 'dante', 'crashed', 'courageous', 'coppola', 'connie', 'confuse', 'clyde', 'client', 'cassie', 'carpet', 'buttons', 'britney', 'brit', 'brazilian', 'boogeyman', 'bodyguard', 'battling', 'bartender', 'badness', 'awarded', 'avenge', 'atrocity', 'admiration', 'abomination', '1949', 'zu', 'worrying', 'woefully', 'weirdness', 'wan', 'vibe', 'unravel', 'transforms', 'torment', 'tin', 'timed', 'tended', 'tackle', 'tacked', 'sync', 'symbols', 'stab', 'spoofs', 'spelled', 'socially', 'sinks', 'signature', 'shield', 'shatner', 'sensitivity', 'secure', 'sandy', 'sammy', 'saints', 'rodney', 'rivalry', 'riders', 'respond', 'reported', 'reese', 'queens', 'qualifies', 'prostitution', 'programming', 'prank', 'plummer', 'pickup', 'parodies', 'paragraph', 'panahi', 'palestinian', 'pairing', 'padding', 'outset', 'ostensibly', 'norris', 'mobster', 'maurice', 'marcus', 'manipulated', 'managing', 'magazines', 'ma', 'lindsey', 'liberty', 'labeled', 'knights', 'kareena', 'irving', 'interiors', 'ing', 'influences', 'helena', 'harilal', 'grating', 'geoffrey', 'frat', 'framing', 'forsythe', 'employees', 'emmy', 'elephants', 'elected', 'effortlessly', 'economy', 'drawings', 'division', 'distinctive', 'dillon', 'della', 'december', 'data', 'damsel', 'curtain', 'cursed', 'counterparts', 'conveying', 'concentration', 'combining', 'cohesive', 'closure', 'clinic', 'classmates', 'clarence', 'celebrate', 'categories', 'budding', 'brush', 'breathe', 'boobs', 'bleeding', 'blames', 'bites', 'bimbo', 'billing', 'believability', 'beetle', 'bastard', 'barnes', 'banks', 'baked', 'auteur', 'associate', 'asset', 'annoyance', 'ang', 'alba', 'acclaim', 'yells', 'worship', 'worm', 'warhols', 'uncertain', 'troopers', 'transplant', 'tramp', 'tolerate', 'tolerance', 'theatres', 'terrorism', 'systems', 'swiss', 'sustain', 'structured', 'strained', 'stirring', 'starship', 'ss', 'spelling', 'slept', 'slash', 'sites', 'sibling', 'shocker', 'shelter', 'seriousness', 'sensibilities', 'seduction', 'screenplays', 'sammi', 'sacrifices', 'reunited', 'retro', 'retirement', 'responds', 'replacing', 'reno', 'reasoning', 'predecessors', 'pompous', 'playful', 'placement', 'pervert', 'perverse', 'perspectives', 'pepper', 'parks', 'pam', 'overshadowed', 'officially', 'noam', 'nest', 'muni', 'morse', 'monday', 'mills', 'midler', 'mercifully', 'manic', 'manga', 'malden', 'mae', 'lin', 'lighthearted', 'latino', 'laser', 'kilmer', 'keanu', 'katie', 'kalifornia', 'judgement', 'joshua', 'jigsaw', 'jam', 'islands', 'injustice', 'informs', 'inform', 'influential', 'inconsistencies', 'hilton', 'heather', 'hans', 'hairy', 'guru', 'gruff', 'glenda', 'gasp', 'funky', 'freed', 'floriane', 'fiery', 'fawcett', 'fabric', 'examine', 'ewoks', 'dwarf', 'drain', 'downfall', 'distorted', 'dish', 'derived', 'daria', 'culkin', 'crypt', 'cruella', 'confines', 'collapse', 'cockney', 'clutter', 'chock', 'casted', 'butchered', 'burgess', 'brick', 'brandon', 'bogdanovich', 'boards', 'blessed', 'bless', 'bing', 'attendant', 'armor', 'archer', 'apollo', 'apartheid', 'anxiety', 'animator', 'allan', 'ali', 'alexandra', 'advances', 'ads', 'abu', '500', '250', '1965', '1942', '1920', 'yarn', 'winners', 'willy', 'willingly', 'widower', 'virtue', 'villa', 'vertigo', 'varying', 'uptight', 'undercover', 'tricked', 'transported', 'towns', 'toro', 'toole', 'todays', 'tina', 'throne', 'thorn', 'thereof', 'thereafter', 'tasty', 'surgeon', 'supermarket', 'superfluous', 'stripper', 'stricken', 'strain', 'stares', 'standpoint', 'staging', 'stabs', 'spotted', 'sorrow', 'sophistication', 'simba', 'shoved', 'shout', 'shaun', 'sensational', 'scriptwriter', 'scorpion', 'scarier', 'russians', 'rousing', 'rosenstrasse', 'romania', 'rockets', 'representing', 'register', 'reckless', 'rant', 'presume', 'premiered', 'powered', 'portions', 'plotted', 'plagued', 'pertwee', 'peaks', 'padded', 'overwrought', 'outlaw', 'ossessione', 'orlando', 'opposition', 'observed', 'nearest', 'natasha', 'mythical', 'muriel', 'mostel', 'monologues', 'mixes', 'mines', 'marrying', 'marines', 'maintaining', 'luxury', 'luthor', 'lurid', 'lt', 'locale', 'lizard', 'lions', 'lingering', 'lifts', 'lars', 'lanza', 'kusturica', 'kramer', 'kornbluth', 'kidnaps', 'justification', 'jurassic', 'jewelry', 'interplay', 'inexperienced', 'impressions', 'imitate', 'identified', 'hypnotic', 'hunky', 'henderson', 'henchman', 'hawaii', 'harbor', 'handy', 'hallucinations', 'hale', 'groove', 'gladiator', 'geniuses', 'gen', 'fur', 'functions', 'forbes', 'fixed', 'fighters', 'fierce', 'fiasco', 'euro', 'enthralling', 'entertains', 'emphasize', 'echoes', 'dunne', 'drummer', 'drugged', 'drastically', 'diaz', 'determine', 'depend', 'decency', 'dealers', 'czech', 'cunning', 'crowded', 'cringing', 'cowardly', 'correctness', 'confession', 'condemned', 'communism', 'collaboration', 'coal', 'chevy', 'chen', 'cheesiness', 'ceremony', 'ceiling', 'caution', 'captive', 'cannibals', 'bombed', 'bloodshed', 'bliss', 'bitchy', 'bio', 'bigfoot', 'beth', 'berenger', 'barton', 'bart', 'baddie', 'awfulness', 'attic', 'anguish', 'anchors', 'amid', 'allies', 'aircraft', 'adultery', 'zeta', 'wrongly', 'weaver', 'vienna', 'vaudeville', 'uninspiring', 'tsui', 'trusted', 'torturing', 'threads', 'temptation', 'tango', 'switches', 'subdued', 'stevenson', 'steaming', 'spells', 'sorvino', 'sleepy', 'sleeper', 'significantly', 'showcases', 'sensation', 'schwarzenegger', 'sasquatch', 'rudd', 'romanian', 'rogue', 'robbing', 'richly', 'rhyme', 'representative', 'ratio', 'pub', 'proportions', 'promoting', 'profoundly', 'predicted', 'predictability', 'potent', 'posh', 'pleasures', 'photograph', 'penis', 'penguin', 'paired', 'optimism', 'operate', 'officials', 'nifty', 'mutants', 'moonstruck', 'mocking', 'missions', 'millennium', 'melinda', 'mcdowell', 'mcdermott', 'maugham', 'maturity', 'mastroianni', 'mash', 'mac', 'loony', 'locate', 'lists', 'limp', 'lila', 'liberties', 'liar', 'ledger', 'lays', 'launched', 'lansbury', 'laced', 'kings', 'judges', 'jew', 'jerky', 'irrational', 'intelligently', 'intellectually', 'inhabit', 'imprisoned', 'identities', 'icy', 'icons', 'hurry', 'horn', 'hoover', 'honey', 'gusto', 'groundbreaking', 'grossly', 'gravity', 'granger', 'grady', 'gently', 'genetic', 'gathered', 'garde', 'fuss', 'freaked', 'foreboding', 'flew', 'finely', 'fence', 'federal', 'fanning', 'extraordinarily', 'expresses', 'engagement', 'echo', 'ebay', 'earns', 'dukakis', 'downbeat', 'dopey', 'dodgy', 'dive', 'disappoints', 'dickinson', 'developments', 'denying', 'denial', 'dedication', 'deborah', 'crooked', 'cradle', 'corbin', 'contributes', 'continuously', 'continent', 'consumed', 'confronts', 'conflicted', 'confirmed', 'clockwork', 'cheung', 'chemical', 'censors', 'celeste', 'caruso', 'capitalism', 'brennan', 'borrows', 'bon', 'bishop', 'bills', 'ballroom', 'bald', 'azumi', 'authors', 'aura', 'athletic', 'artistically', 'arch', 'applause', 'anonymous', 'animations', 'analyze', 'airing', 'aime', 'accomplishment', 'abstract', 'abroad', '1964', '1920s', 'zhang', 'zealand', 'youngsters', 'witted', 'whipped', 'welch', 'visceral', 'virginity', 'violently', 'valerie', 'upbringing', 'unwilling', 'unnerving', 'uncredited', 'transitions', 'transformers', 'toss', 'tolkien', 'thumb', 'thug', 'throats', 'thirds', 'tedium', 'taker', 'tables', 'sykes', 'swift', 'sweeping', 'supportive', 'spinning', 'sore', 'snowy', 'slaughtered', 'simpler', 'sigh', 'shrill', 'shiny', 'shifting', 'shelves', 'shawn', 'shady', 'scattered', 'scandal', 'satisfactory', 'sarne', 'sabu', 'rko', 'rizzo', 'reportedly', 'ravishing', 'rapture', 'ranger', 'quirks', 'puzzled', 'prophet', 'prolific', 'profit', 'prefers', 'preferably', 'pond', 'peterson', 'percent', 'penalty', 'pavarotti', 'patriotic', 'owe', 'operating', 'ongoing', 'ogre', 'oblivion', 'nt', 'notwithstanding', 'nonexistent', 'muscle', 'michaels', 'melt', 'mechanic', 'mcadams', 'mattei', 'marx', 'mans', 'manipulate', 'lorre', 'liz', 'lightweight', 'lesbians', 'legion', 'lds', 'lawn', 'languages', 'knocking', 'kingsley', 'kenny', 'keitel', 'keeper', 'izzard', 'increasing', 'increase', 'illustrated', 'illustrate', 'idiocy', 'hustler', 'holland', 'hogan', 'herrings', 'heroin', 'heavenly', 'hazzard', 'hammerhead', 'gung', 'greenaway', 'gram', 'goo', 'golf', 'glow', 'gee', 'fulfilling', 'fewer', 'explanations', 'elmer', 'elliot', 'elder', 'efficient', 'doris', 'dogma', 'distinctly', 'deservedly', 'defy', 'dani', 'cynicism', 'cracker', 'cortez', 'corridors', 'conniving', 'cloth', 'civilians', 'cinematographic', 'chop', 'chang', 'celine', 'carnival', 'bullies', 'brunette', 'bothers', 'boost', 'booker', 'bloke', 'blackmail', 'billion', 'behaving', 'bearable', 'autobiography', 'attributes', 'atomic', 'appalled', 'alcoholism', 'ahmad', 'agatha', 'aboard', '48', '1938', 'zoom', 'zany', 'wrath', 'vulnerability', 'volumes', 'urgency', 'unconscious', 'trendy', 'traveled', 'torch', 'toe', 'tobe', 'theo', 'teddy', 'tasks', 'swords', 'supports', 'succession', 'subtitled', 'straw', 'sloane', 'slips', 'sleuth', 'shakespearean', 'seventh', 'sematary', 'rotting', 'righteous', 'retrieve', 'reruns', 'relaxing', 'relates', 'recurring', 'recovering', 'recipe', 'rapes', 'ranging', 'rack', 'purse', 'proudly', 'protecting', 'prolonged', 'priests', 'prejudices', 'portman', 'pistol', 'perceived', 'passenger', 'pasolini', 'pals', 'overtly', 'numbingly', 'notions', 'nerdy', 'neeson', 'needlessly', 'muscular', 'monastery', 'moderately', 'mockery', 'meyers', 'metropolis', 'meanings', 'maverick', 'mastermind', 'marjorie', 'mandatory', 'maguire', 'lure', 'lommel', 'lightly', 'levy', 'leno', 'korda', 'knives', 'khouri', 'irresistible', 'insignificant', 'innuendo', 'inch', 'improvised', 'imply', 'immigrants', 'imitating', 'illusion', 'hungarian', 'hug', 'heir', 'heartless', 'healing', 'harlin', 'hark', 'happier', 'grisly', 'gays', 'fulfill', 'flipping', 'fleeting', 'fleeing', 'flamboyant', 'fable', 'examined', 'encourages', 'elisha', 'electricity', 'eddy', 'ecstasy', 'durbin', 'doses', 'dominick', 'disasters', 'dietrich', 'denver', 'dental', 'delia', 'deadpan', 'darius', 'dangers', 'crenna', 'coverage', 'cousins', 'conquest', 'compromise', 'comprised', 'compositions', 'coleman', 'climate', 'claw', 'cillian', 'christensen', 'chef', 'cheat', 'chat', 'caesar', 'breakthrough', 'bothering', 'bonds', 'believer', 'barbarian', 'backwoods', 'aztec', 'astonishingly', 'association', 'ash', 'architect', 'annoyingly', 'animators', 'angelo', 'amoral', 'alienation', 'afghanistan', 'ae', '1931', 'zabriskie', 'yearning', 'wwi', 'worldwide', 'wolves', 'welcomed', 'watered', 'wai', 'versatile', 'unlucky', 'unemployed', 'undertaker', 'truthful', 'treating', 'tourists', 'theirs', 'tested', 'temporary', 'supremacy', 'stumbling', 'stretches', 'stimulating', 'steamy', 'stature', 'stalks', 'spitting', 'snatch', 'smarmy', 'slug', 'shrink', 'shattering', 'shamelessly', 'seinfeld', 'sailors', 'saif', 'rusty', 'rugged', 'roommates', 'roads', 'rico', 'rewrite', 'retelling', 'recreate', 'rebecca', 'pranks', 'pour', 'poke', 'plants', 'placing', 'philadelphia', 'passive', 'passions', 'overwhelmed', 'orgy', 'opponents', 'neglect', 'naval', 'muted', 'mpaa', 'morgana', 'mj', 'micheal', 'mcgavin', 'management', 'locales', 'limbs', 'leaps', 'lawyers', 'largest', 'lange', 'kiddie', 'keeler', 'kamal', 'jolly', 'jock', 'jed', 'janitor', 'italians', 'islam', 'irwin', 'irresponsible', 'interspersed', 'intellect', 'insects', 'inhabited', 'induced', 'inc', 'impeccable', 'il', 'hopeful', 'honeymoon', 'hedy', 'hector', 'heavens', 'harlem', 'guided', 'giggle', 'gage', 'frenzy', 'feared', 'farewell', 'expressing', 'expanded', 'expand', 'existential', 'duryea', 'duff', 'drivers', 'downtown', 'dodge', 'distinguished', 'deathstalker', 'darling', 'daphne', 'danning', 'custody', 'cristina', 'crawl', 'crass', 'counterpart', 'counted', 'corky', 'continuous', 'connolly', 'concludes', 'concentrated', 'compassionate', 'climbs', 'chocolate', 'chapters', 'carface', 'callahan', 'burden', 'bucket', 'bruckheimer', 'breathless', 'branch', 'boxes', 'borderline', 'bombing', 'benoit', 'behaves', 'behalf', 'batwoman', 'balloon', 'backyard', 'backdrops', 'aweigh', 'astronaut', 'assortment', 'associates', 'architecture', 'amok', 'alligator', 'administration', 'adequately', 'academic', '1941', 'woven', 'woke', 'wits', 'witherspoon', 'wipe', 'waving', 'waits', 'vivah', 'villagers', 'viggo', 'vic', 'vault', 'usage', 'undeveloped', 'uber', 'tucker', 'traumatized', 'telly', 'tel', 'switzerland', 'suspended', 'supporters', 'subtleties', 'submit', 'stupidest', 'stubborn', 'stoltz', 'stir', 'stereotyping', 'splitting', 'speechless', 'smoothly', 'smarter', 'slows', 'slew', 'sleeve', 'skipping', 'sheila', 'shaolin', 'shack', 'sessions', 'seal', 'screamed', 'sans', 'saddest', 'rhys', 'revolting', 'revive', 'revelations', 'restless', 'relied', 'rehearsal', 'regrets', 'rainer', 'puzzling', 'psychiatric', 'promotion', 'prevalent', 'premises', 'practices', 'poo', 'platoon', 'planted', 'plantation', 'pita', 'pets', 'perceive', 'pauses', 'palette', 'overacts', 'oppressive', 'opener', 'nutty', 'napoleon', 'nailed', 'mutated', 'mold', 'mo', 'mcintire', 'marred', 'marlene', 'marathon', 'maiden', 'macbeth', 'lyrical', 'lung', 'lovingly', 'lotr', 'loop', 'logo', 'loathing', 'lieutenant', 'levant', 'leia', 'lecture', 'leary', 'lamarr', 'kriemhild', 'knox', 'knack', 'kinky', 'kindness', 'joanna', 'jessie', 'january', 'jameson', 'jackass', 'it´s', 'intruder', 'inherited', 'infidelity', 'incompetence', 'illiterate', 'honorable', 'historians', 'hispanic', 'hesitate', 'hayward', 'hare', 'hardest', 'hamill', 'grounded', 'graves', 'grandparents', 'goofs', 'glee', 'gimmicks', 'gardens', 'garcia', 'fugitive', 'forgivable', 'footsteps', 'fleming', 'flea', 'evolved', 'entertainer', 'enhances', 'embarrass', 'ella', 'elevate', 'eater', 'drums', 'dripping', 'dreadfully', 'disdain', 'discussions', 'discernible', 'disappearing', 'dime', 'didnt', 'denied', 'democracy', 'dahl', 'customs', 'crouse', 'creeps', 'creepiness', 'corleone', 'converted', 'contemplate', 'consisted', 'confronting', 'conduct', 'condescending', 'conception', 'concentrates', 'collecting', 'cocky', 'cocktail', 'cloud', 'classified', 'choreographer', 'choke', 'cheaper', 'cbc', 'casually', 'carson', 'carole', 'capsule', 'candidates', 'bury', 'bursts', 'brits', 'boyfriends', 'bonding', 'bolivia', 'blink', 'benson', 'bash', 'barman', 'azaria', 'atrocities', 'astronauts', 'askey', 'arizona', 'archive', 'approximately', 'apprentice', 'apologize', 'allison', 'alienate', 'aiello', '700', '400', '1956', '1935', '18th', 'zatoichi', 'wolverine', 'witless', 'winston', 'whacked', 'werner', 'wellington', 'weirdo', 'virtues', 'vets', 'vengeful', 'vanishing', 'untrue', 'underdog', 'travelling', 'til', 'thinner', 'thankful', 'tensions', 'technological', 'swamp', 'surpasses', 'surfers', 'superiors', 'suggestive', 'stripped', 'strikingly', 'streak', 'stoic', 'stepped', 'sr', 'squeeze', 'springs', 'spectrum', 'spectacularly', 'spears', 'sparse', 'societies', 'snippets', 'snappy', 'slipped', 'sixty', 'sentenced', 'schumacher', 'scantily', 'satellite', 'sant', 'sacrificed', 'rushes', 'rightfully', 'rests', 'requisite', 'request', 'replay', 'render', 'reincarnation', 'regal', 'regain', 'reception', 'radar', 'pulse', 'psychologically', 'proverbial', 'prevented', 'phrases', 'participation', 'overt', 'overseas', 'outrage', 'oriental', 'organs', 'operas', 'oddball', 'obscene', 'nuance', 'november', 'norwegian', 'noah', 'newcombe', 'munchies', 'mourning', 'montages', 'monstrous', 'monstrosity', 'misplaced', 'miracles', 'mining', 'mindset', 'merrill', 'matching', 'marquis', 'manufactured', 'maclean', 'lucio', 'looney', 'longtime', 'lombard', 'locks', 'liza', 'listing', 'leopold', 'lap', 'lamas', 'kerr', 'kentucky', 'itchy', 'intestines', 'interpret', 'insanely', 'incarnation', 'immersed', 'hunk', 'hubby', 'horizon', 'hiv', 'haha', 'gym', 'grumpy', 'grain', 'goof', 'gifts', 'garnered', 'friendships', 'foch', 'fanatics', 'fairytale', 'equals', 'empathize', 'email', 'eliminated', 'eliminate', 'duties', 'dusty', 'dung', 'drifter', 'draft', 'documents', 'documented', 'diver', 'diabolical', 'dense', 'delve', 'deception', 'darkman', 'dane', 'daisies', 'crowds', 'crow', 'crook', 'criminally', 'connecting', 'confirm', 'companions', 'clumsily', 'chains', 'cathy', 'capt', 'byrne', 'butterfly', 'btk', 'brink', 'bravery', 'blaine', 'blackie', 'betrays', 'beaver', 'beau', 'bathing', 'bass', 'basil', 'baseketball', 'backing', 'assist', 'argento', 'apartments', 'anchorman', 'alternately', 'adventurous', 'adopt', 'admirably', 'acknowledged', '86', '33', '1937', 'wondrous', 'willem', 'wallach', 'wal', 'voting', 'voters', 'veronica', 'venezuela', 'variations', 'unrated', 'universally', 'unimpressive', 'unfinished', 'underused', 'undertones', 'unborn', 'turgid', 'tremors', 'trelkovsky', 'townspeople', 'townsend', 'topped', 'tigerland', 'throwaway', 'thirteen', 'tepid', 'teamed', 'tasteful', 'sweetheart', 'surrogate', 'supplies', 'stud', 'strangest', 'stills', 'stepping', 'stefan', 'stable', 'sorta', 'solving', 'soles', 'societal', 'smitten', 'skywalker', 'skinned', 'siege', 'shue', 'showtime', 'shouts', 'shootings', 'sheet', 'shaq', 'shakes', 'shadowy', 'sealed', 'schemes', 'sacred', 'runtime', 'rub', 'rocker', 'roaring', 'risks', 'rigid', 'retain', 'renowned', 'recreation', 'recalls', 'realist', 'raving', 'raft', 'quarters', 'prototype', 'primal', 'presumed', 'practicing', 'ppv', 'positions', 'poppins', 'polite', 'planets', 'piper', 'phyllis', 'partial', 'paperhouse', 'overnight', 'outta', 'orphanage', 'operatic', 'offerings', 'occurring', 'nuns', 'norma', 'nielsen', 'nerds', 'mortensen', 'monumental', 'misfire', 'mischievous', 'masturbation', 'marvellous', 'marital', 'malcolm', 'locker', 'krishna', 'keyboard', 'kermit', 'kei', 'interpreted', 'integrated', 'insulted', 'inheritance', 'inflicted', 'indifference', 'illustrates', 'ideology', 'iceberg', 'hurting', 'honour', 'holidays', 'holden', 'hockey', 'hiring', 'hes', 'harmony', 'grips', 'greta', 'grail', 'goer', 'gi', 'gesture', 'gardner', 'gamut', 'gaining', 'frenetic', 'forum', 'floors', 'flee', 'flamenco', 'fireworks', 'finch', 'ferry', 'fernando', 'fantastically', 'exudes', 'extremes', 'exposing', 'expertise', 'exhibit', 'exaggeration', 'ewan', 'eponymous', 'episodic', 'endured', 'employ', 'emerged', 'eleanor', 'eggs', 'edits', 'downside', 'disgruntled', 'di', 'desolate', 'darkest', 'crummy', 'crop', 'compound', 'competently', 'colourful', 'colonial', 'coarse', 'cleveland', 'circuit', 'chore', 'chairman', 'celebrating', 'catastrophe', 'caroline', 'camps', 'cambodia', 'bum', 'bryan', 'booze', 'bee', 'bake', 'babysitter', 'atwill', 'attributed', 'aristocrat', 'apologies', 'anchor', 'allied', 'allegory', 'allegedly', 'albums', 'affections', 'addressing', 'adapting', 'achieving', '1962', '1954', '150', 'zenia', 'yourselves', 'yoda', 'yea', 'wray', 'winslet', 'wicker', 'wheels', 'weaves', 'wb', 'washing', 'vacuous', 'unsuccessful', 'unremarkable', 'unnamed', 'uniquely', 'unforgivable', 'unfairly', 'twenties', 'trent', 'transform', 'transferred', 'transcends', 'threats', 'therapist', 'texture', 'tent', 'tease', 'tanks', 'talentless', 'sybil', 'sullavan', 'stray', 'stooge', 'stealth', 'starving', 'stalk', 'stakes', 'spreading', 'spliced', 'speaker', 'spawned', 'spaces', 'soulless', 'somber', 'socialist', 'smallest', 'sleepwalkers', 'slack', 'skipped', 'skimpy', 'sherry', 'shenanigans', 'sentiments', 'secluded', 'salem', 'rumors', 'romano', 'roeg', 'robbie', 'rewind', 'retrospect', 'retains', 'resurrection', 'researched', 'redeemed', 'rathbone', 'raping', 'rainbow', 'rabid', 'pursues', 'punchline', 'projection', 'prevents', 'preserved', 'prehistoric', 'praying', 'postman', 'pokes', 'pianist', 'perfected', 'pbs', 'patch', 'owning', 'overweight', 'outsider', 'ounce', 'orchestral', 'options', 'opponent', 'olympic', 'olympia', 'neutral', 'nell', 'nanny', 'motif', 'misogynistic', 'mismatched', 'misfits', 'minions', 'michel', 'mercilessly', 'menu', 'mcdonald', 'maya', 'maniacal', 'lithgow', 'librarian', 'lam', 'kisses', 'kerry', 'ka', 'jumbo', 'jovi', 'jeep', 'jaffar', 'irs', 'iowa', 'invent', 'interminable', 'integral', 'instruments', 'insisted', 'insecure', 'infant', 'indulge', 'ichi', 'holm', 'hitch', 'hilliard', 'hickock', 'hayden', 'hardships', 'hanna', 'halt', 'hagar', 'groan', 'grabbing', 'governor', 'gladly', 'gilligan', 'gertrude', 'geeky', 'geeks']\n",
            "10000\n"
          ]
        }
      ]
    },
    {
      "cell_type": "code",
      "source": [
        "for review, label in train_dataset.take(1):\n",
        "  print(review)\n",
        "  print(label)"
      ],
      "metadata": {
        "colab": {
          "base_uri": "https://localhost:8080/"
        },
        "id": "xkdl3CnoSzYT",
        "outputId": "72c43dcb-e6a1-49b2-cd8f-01774a302395"
      },
      "execution_count": 79,
      "outputs": [
        {
          "output_type": "stream",
          "name": "stdout",
          "text": [
            "tf.Tensor(b\"This was an absolutely terrible movie. Don't be lured in by Christopher Walken or Michael Ironside. Both are great actors, but this must simply be their worst role in history. Even their great acting could not redeem this movie's ridiculous storyline. This movie is an early nineties US propaganda piece. The most pathetic scenes were those when the Columbian rebels were making their cases for revolutions. Maria Conchita Alonso appeared phony, and her pseudo-love affair with Walken was nothing but a pathetic emotional plug in a movie that was devoid of any real meaning. I am disappointed that there are movies like this, ruining actor's like Christopher Walken's good name. I could barely sit through it.\", shape=(), dtype=string)\n",
            "tf.Tensor(0, shape=(), dtype=int64)\n"
          ]
        }
      ]
    },
    {
      "cell_type": "code",
      "source": [
        "def vectorizer(review, label):\n",
        "  review = vectorize_layer(review)\n",
        "  return review, label"
      ],
      "metadata": {
        "id": "i6ntYlV6Tmh0"
      },
      "execution_count": 80,
      "outputs": []
    },
    {
      "cell_type": "code",
      "source": [
        "train_dataset = train_dataset.map(vectorizer)\n",
        "val_dataset = val_dataset.map(vectorizer)\n",
        "test_dataset = test_dataset.map(vectorizer)\n",
        "\n",
        "\n",
        "\n"
      ],
      "metadata": {
        "id": "7DTzvF5UUPUl"
      },
      "execution_count": 81,
      "outputs": []
    },
    {
      "cell_type": "code",
      "source": [
        "for review, label in train_dataset.take(1):\n",
        "  print(review) # each token/word is given a id in the vocabulary as shown below\n",
        "  print(label)"
      ],
      "metadata": {
        "colab": {
          "base_uri": "https://localhost:8080/"
        },
        "id": "gPW7lYIdUcUY",
        "outputId": "4afb824c-28d9-42f8-8219-7a8239f2e779"
      },
      "execution_count": 82,
      "outputs": [
        {
          "output_type": "stream",
          "name": "stdout",
          "text": [
            "tf.Tensor(\n",
            "[  11   14   35  429  392   18   89   21   29    1    9   34 1349 3254\n",
            "   42  473    1  198   26   85  156   19   11  207  331   29   67  249\n",
            "  214    9  474   59   67   85  113   97   24 5726   11   18   13  639\n",
            "  762   11   18    7   35  396 8116  179 2455  416    2   90 1218  137\n",
            "   70  147   54    2    1 7632   70  229   67 2941   16    1 2777    1\n",
            "    1 1483 4948    3   41 3933  115 1581   17 3254   14  164   19    4\n",
            " 1218  909 7983    9    4   18   12   14 4191    5  100  146 1211   10\n",
            "  244  679   12   40   26   99   39   11 7120  272   13   39 1349 3254\n",
            "   13   50  397   10   97 1195  857  145    8    0    0    0    0    0\n",
            "    0    0    0    0    0    0    0    0    0    0    0    0    0    0\n",
            "    0    0    0    0    0    0    0    0    0    0    0    0    0    0\n",
            "    0    0    0    0    0    0    0    0    0    0    0    0    0    0\n",
            "    0    0    0    0    0    0    0    0    0    0    0    0    0    0\n",
            "    0    0    0    0    0    0    0    0    0    0    0    0    0    0\n",
            "    0    0    0    0    0    0    0    0    0    0    0    0    0    0\n",
            "    0    0    0    0    0    0    0    0    0    0    0    0    0    0\n",
            "    0    0    0    0    0    0    0    0    0    0    0    0    0    0\n",
            "    0    0    0    0    0    0    0    0    0    0    0    0], shape=(250,), dtype=int64)\n",
            "tf.Tensor(0, shape=(), dtype=int64)\n"
          ]
        }
      ]
    },
    {
      "cell_type": "code",
      "source": [
        "BATCH_SIZE = 64"
      ],
      "metadata": {
        "id": "gEmQ2nTkk7HK"
      },
      "execution_count": 83,
      "outputs": []
    },
    {
      "cell_type": "code",
      "source": [
        "train_dataset = train_dataset.batch(BATCH_SIZE).prefetch(buffer_size=tf.data.AUTOTUNE)\n",
        "val_dataset = val_dataset.batch(BATCH_SIZE).prefetch(buffer_size=tf.data.AUTOTUNE)\n",
        "\n"
      ],
      "metadata": {
        "id": "l47TA7mcVJxN"
      },
      "execution_count": 84,
      "outputs": []
    },
    {
      "cell_type": "markdown",
      "source": [
        "<hr>"
      ],
      "metadata": {
        "id": "s_ASJnSSljkX"
      }
    },
    {
      "cell_type": "markdown",
      "source": [
        "\n",
        "# Modeling\n"
      ],
      "metadata": {
        "id": "EwdRMpl_VeQI"
      }
    },
    {
      "cell_type": "markdown",
      "source": [
        "# Pretrained Word2Vec(Gensim)\n",
        "- **CBOW and Skip-gram Model Architectures**\n",
        "<hr>\n",
        "\n",
        "<img src='https://www.researchgate.net/publication/342116902/figure/fig3/AS:901413097992195@1591925038782/Architecture-of-Word2Vec-models-CBOW-and-Skip-Gram-The-window-size-in-both-cases-ie.png'>\n",
        "<hr>"
      ],
      "metadata": {
        "id": "Y48HM8wYcumg"
      }
    },
    {
      "cell_type": "code",
      "source": [
        "word2vec = api.load('word2vec-google-news-300')"
      ],
      "metadata": {
        "colab": {
          "base_uri": "https://localhost:8080/"
        },
        "id": "9El4veIUR_Xr",
        "outputId": "687c963d-9615-4dbc-9958-d757b75c6119"
      },
      "execution_count": 19,
      "outputs": [
        {
          "output_type": "stream",
          "name": "stdout",
          "text": [
            "[==================================================] 100.0% 1662.8/1662.8MB downloaded\n"
          ]
        }
      ]
    },
    {
      "cell_type": "code",
      "source": [
        "word2vec.vectors.shape"
      ],
      "metadata": {
        "colab": {
          "base_uri": "https://localhost:8080/"
        },
        "id": "I1cY8OIyY4u_",
        "outputId": "f15d6d17-ecd7-4eb2-e113-e2120b690ba3"
      },
      "execution_count": 22,
      "outputs": [
        {
          "output_type": "execute_result",
          "data": {
            "text/plain": [
              "(3000000, 300)"
            ]
          },
          "metadata": {},
          "execution_count": 22
        }
      ]
    },
    {
      "cell_type": "code",
      "source": [
        "word2vec.most_similar('movie')\n"
      ],
      "metadata": {
        "colab": {
          "base_uri": "https://localhost:8080/"
        },
        "id": "ns4F7PF_Y0l4",
        "outputId": "bccb4ad1-6185-4945-c3f3-6e9862189565"
      },
      "execution_count": 20,
      "outputs": [
        {
          "output_type": "execute_result",
          "data": {
            "text/plain": [
              "[('film', 0.8676770329475403),\n",
              " ('movies', 0.8013108372688293),\n",
              " ('films', 0.7363011837005615),\n",
              " ('moive', 0.6830360889434814),\n",
              " ('Movie', 0.6693680286407471),\n",
              " ('horror_flick', 0.6577848792076111),\n",
              " ('sequel', 0.6577793955802917),\n",
              " ('Guy_Ritchie_Revolver', 0.650975227355957),\n",
              " ('romantic_comedy', 0.6413198709487915),\n",
              " ('flick', 0.6321909427642822)]"
            ]
          },
          "metadata": {},
          "execution_count": 20
        }
      ]
    },
    {
      "cell_type": "markdown",
      "source": [
        "## Searching Dataset Vocabulary in Word2Vec Vocabulary"
      ],
      "metadata": {
        "id": "HNiu7ppzZhOF"
      }
    },
    {
      "cell_type": "markdown",
      "source": [
        "### Extracting Embeddings from pretrained model"
      ],
      "metadata": {
        "id": "NCoROq-Vge0X"
      }
    },
    {
      "cell_type": "code",
      "source": [
        "pretrained_embeddings = []"
      ],
      "metadata": {
        "id": "dtLnI8KUZrp_"
      },
      "execution_count": 30,
      "outputs": []
    },
    {
      "cell_type": "code",
      "source": [
        "def first_caps(word):\n",
        "  return word[0].upper() + word[1:] # capslocking the first letter of the missed word in vectorize_layer vocab\n"
      ],
      "metadata": {
        "id": "MKFMYDmfd_BI"
      },
      "execution_count": 31,
      "outputs": []
    },
    {
      "cell_type": "code",
      "source": [
        "for i in range(len(vectorize_layer.get_vocabulary())):\n",
        "    try:\n",
        "        pretrained_embeddings.append(word2vec[vectorize_layer.get_vocabulary()[i]])\n",
        "    except:\n",
        "        print(vectorize_layer.get_vocabulary()[i])\n",
        "\n",
        "        try:\n",
        "          pretrained_embeddings.append(word2vec[first_caps(vectorize_layer.get_vocabulary()[i])])\n",
        "          print('To Upper case')\n",
        "        except:\n",
        "          print('cant solve')\n",
        "          pretrained_embeddings.append(random.normal(loc=0, scale=1, size=(EMBEDDING_DIM)))\n",
        "          #### converting similar words to uppercase to match the vocab ####\n",
        "\n",
        "\n",
        "    if i % 1000 == 0:\n",
        "      print('i is == ', i)\n"
      ],
      "metadata": {
        "colab": {
          "base_uri": "https://localhost:8080/"
        },
        "id": "9z-RlsMRZvqz",
        "outputId": "1b070a97-1592-4e2a-c0c2-84043847049b"
      },
      "execution_count": 32,
      "outputs": [
        {
          "output_type": "stream",
          "name": "stdout",
          "text": [
            "\n",
            "cant solve\n",
            "i is ==  0\n",
            "[UNK]\n",
            "cant solve\n",
            "and\n",
            "To Upper case\n",
            "a\n",
            "To Upper case\n",
            "of\n",
            "To Upper case\n",
            "to\n",
            "To Upper case\n",
            "10\n",
            "cant solve\n",
            "20\n",
            "cant solve\n",
            "30\n",
            "cant solve\n",
            "80\n",
            "cant solve\n",
            "i is ==  1000\n",
            "90\n",
            "cant solve\n",
            "15\n",
            "cant solve\n",
            "50\n",
            "cant solve\n",
            "100\n",
            "cant solve\n",
            "humour\n",
            "To Upper case\n",
            "70\n",
            "cant solve\n",
            "40\n",
            "cant solve\n",
            "11\n",
            "cant solve\n",
            "favourite\n",
            "To Upper case\n",
            "12\n",
            "cant solve\n",
            "theatre\n",
            "To Upper case\n",
            "keaton\n",
            "To Upper case\n",
            "80s\n",
            "cant solve\n",
            "60\n",
            "cant solve\n",
            "70s\n",
            "cant solve\n",
            "000\n",
            "cant solve\n",
            "tarzan\n",
            "To Upper case\n",
            "i is ==  2000\n",
            "13\n",
            "cant solve\n",
            "welles\n",
            "To Upper case\n",
            "sinatra\n",
            "To Upper case\n",
            "hitchcock\n",
            "To Upper case\n",
            "14\n",
            "cant solve\n",
            "columbo\n",
            "To Upper case\n",
            "pacino\n",
            "To Upper case\n",
            "25\n",
            "cant solve\n",
            "lugosi\n",
            "To Upper case\n",
            "branagh\n",
            "To Upper case\n",
            "60s\n",
            "cant solve\n",
            "1950\n",
            "cant solve\n",
            "17\n",
            "cant solve\n",
            "sandler\n",
            "To Upper case\n",
            "1980\n",
            "cant solve\n",
            "2006\n",
            "cant solve\n",
            "2000\n",
            "cant solve\n",
            "1970\n",
            "cant solve\n",
            "bettie\n",
            "To Upper case\n",
            "stanwyck\n",
            "To Upper case\n",
            "2001\n",
            "cant solve\n",
            "i is ==  3000\n",
            "brando\n",
            "To Upper case\n",
            "wwii\n",
            "cant solve\n",
            "matthau\n",
            "To Upper case\n",
            "grey\n",
            "To Upper case\n",
            "seagal\n",
            "To Upper case\n",
            "1950s\n",
            "cant solve\n",
            "widmark\n",
            "To Upper case\n",
            "18\n",
            "cant solve\n",
            "spielberg\n",
            "To Upper case\n",
            "elvira\n",
            "To Upper case\n",
            "streisand\n",
            "To Upper case\n",
            "mst3k\n",
            "cant solve\n",
            "karloff\n",
            "To Upper case\n",
            "flynn\n",
            "To Upper case\n",
            "24\n",
            "cant solve\n",
            "walken\n",
            "To Upper case\n",
            "16\n",
            "cant solve\n",
            "denzel\n",
            "To Upper case\n",
            "2005\n",
            "cant solve\n",
            "eastwood\n",
            "To Upper case\n",
            "colour\n",
            "To Upper case\n",
            "cusack\n",
            "To Upper case\n",
            "ritter\n",
            "To Upper case\n",
            "heston\n",
            "To Upper case\n",
            "1990\n",
            "cant solve\n",
            "miike\n",
            "To Upper case\n",
            "astaire\n",
            "To Upper case\n",
            "1970s\n",
            "cant solve\n",
            "carrey\n",
            "To Upper case\n",
            "kubrick\n",
            "To Upper case\n",
            "bakshi\n",
            "To Upper case\n",
            "2002\n",
            "cant solve\n",
            "1980s\n",
            "cant solve\n",
            "brosnan\n",
            "To Upper case\n",
            "realise\n",
            "To Upper case\n",
            "45\n",
            "cant solve\n",
            "cagney\n",
            "To Upper case\n",
            "falk\n",
            "To Upper case\n",
            "20th\n",
            "cant solve\n",
            "paulie\n",
            "To Upper case\n",
            "verhoeven\n",
            "To Upper case\n",
            "99\n",
            "cant solve\n",
            "2004\n",
            "cant solve\n",
            "romero\n",
            "To Upper case\n",
            "2003\n",
            "cant solve\n",
            "1930s\n",
            "cant solve\n",
            "mildred\n",
            "To Upper case\n",
            "eyre\n",
            "To Upper case\n",
            "altman\n",
            "To Upper case\n",
            "fulci\n",
            "To Upper case\n",
            "beatty\n",
            "To Upper case\n",
            "50s\n",
            "cant solve\n",
            "voight\n",
            "To Upper case\n",
            "fonda\n",
            "To Upper case\n",
            "i is ==  4000\n",
            "lemmon\n",
            "To Upper case\n",
            "2007\n",
            "cant solve\n",
            "palma\n",
            "To Upper case\n",
            "1930\n",
            "cant solve\n",
            "1996\n",
            "cant solve\n",
            "polanski\n",
            "To Upper case\n",
            "90s\n",
            "cant solve\n",
            "1999\n",
            "cant solve\n",
            "1960\n",
            "cant solve\n",
            "streep\n",
            "To Upper case\n",
            "uwe\n",
            "To Upper case\n",
            "griffith\n",
            "To Upper case\n",
            "niro\n",
            "To Upper case\n",
            "hartley\n",
            "To Upper case\n",
            "lumet\n",
            "To Upper case\n",
            "1940\n",
            "cant solve\n",
            "macarthur\n",
            "To Upper case\n",
            "christy\n",
            "To Upper case\n",
            "1972\n",
            "cant solve\n",
            "orson\n",
            "To Upper case\n",
            "bergman\n",
            "To Upper case\n",
            "amitabh\n",
            "To Upper case\n",
            "35\n",
            "cant solve\n",
            "timon\n",
            "To Upper case\n",
            "paltrow\n",
            "To Upper case\n",
            "connery\n",
            "To Upper case\n",
            "carradine\n",
            "To Upper case\n",
            "1983\n",
            "cant solve\n",
            "sirk\n",
            "To Upper case\n",
            "gundam\n",
            "To Upper case\n",
            "1968\n",
            "cant solve\n",
            "00\n",
            "cant solve\n",
            "lundgren\n",
            "To Upper case\n",
            "1960s\n",
            "cant solve\n",
            "stallone\n",
            "To Upper case\n",
            "bacall\n",
            "To Upper case\n",
            "biko\n",
            "To Upper case\n",
            "1973\n",
            "cant solve\n",
            "carell\n",
            "To Upper case\n",
            "barrymore\n",
            "To Upper case\n",
            "austen\n",
            "To Upper case\n",
            "antwone\n",
            "To Upper case\n",
            "othello\n",
            "To Upper case\n",
            "belushi\n",
            "To Upper case\n",
            "rukh\n",
            "To Upper case\n",
            "zizek\n",
            "To Upper case\n",
            "dolph\n",
            "To Upper case\n",
            "1933\n",
            "cant solve\n",
            "13th\n",
            "cant solve\n",
            "whoopi\n",
            "To Upper case\n",
            "sabrina\n",
            "To Upper case\n",
            "meryl\n",
            "To Upper case\n",
            "damme\n",
            "To Upper case\n",
            "cassidy\n",
            "To Upper case\n",
            "1984\n",
            "cant solve\n",
            "ustinov\n",
            "To Upper case\n",
            "soderbergh\n",
            "To Upper case\n",
            "i is ==  5000\n",
            "miyazaki\n",
            "To Upper case\n",
            "mclaglen\n",
            "cant solve\n",
            "kurosawa\n",
            "To Upper case\n",
            "30s\n",
            "cant solve\n",
            "1997\n",
            "cant solve\n",
            "1987\n",
            "cant solve\n",
            "tarantino\n",
            "To Upper case\n",
            "ramones\n",
            "To Upper case\n",
            "deniro\n",
            "To Upper case\n",
            "antonioni\n",
            "To Upper case\n",
            "2008\n",
            "cant solve\n",
            "1993\n",
            "cant solve\n",
            "–\n",
            "cant solve\n",
            "3000\n",
            "cant solve\n",
            "1995\n",
            "cant solve\n",
            "1971\n",
            "cant solve\n",
            "malone\n",
            "To Upper case\n",
            "raines\n",
            "To Upper case\n",
            "palance\n",
            "To Upper case\n",
            "hawke\n",
            "To Upper case\n",
            "foxx\n",
            "To Upper case\n",
            "basinger\n",
            "To Upper case\n",
            "22\n",
            "cant solve\n",
            "1936\n",
            "cant solve\n",
            "kolchak\n",
            "To Upper case\n",
            "favour\n",
            "To Upper case\n",
            "19th\n",
            "cant solve\n",
            "1978\n",
            "cant solve\n",
            "esther\n",
            "To Upper case\n",
            "duvall\n",
            "To Upper case\n",
            "75\n",
            "cant solve\n",
            "1989\n",
            "cant solve\n",
            "1988\n",
            "cant solve\n",
            "1939\n",
            "cant solve\n",
            "tierney\n",
            "To Upper case\n",
            "realised\n",
            "To Upper case\n",
            "ratso\n",
            "To Upper case\n",
            "quaid\n",
            "To Upper case\n",
            "laurence\n",
            "To Upper case\n",
            "behaviour\n",
            "To Upper case\n",
            "attenborough\n",
            "To Upper case\n",
            "40s\n",
            "cant solve\n",
            "1986\n",
            "cant solve\n",
            "paxton\n",
            "To Upper case\n",
            "1979\n",
            "cant solve\n",
            "preminger\n",
            "To Upper case\n",
            "kline\n",
            "To Upper case\n",
            "gillian\n",
            "To Upper case\n",
            "bronson\n",
            "To Upper case\n",
            "1969\n",
            "cant solve\n",
            "hepburn\n",
            "To Upper case\n",
            "fontaine\n",
            "To Upper case\n",
            "73\n",
            "cant solve\n",
            "19\n",
            "cant solve\n",
            "zombi\n",
            "To Upper case\n",
            "scorsese\n",
            "To Upper case\n",
            "nicolas\n",
            "To Upper case\n",
            "gere\n",
            "To Upper case\n",
            "nolte\n",
            "To Upper case\n",
            "naschy\n",
            "To Upper case\n",
            "cushing\n",
            "To Upper case\n",
            "cassavetes\n",
            "To Upper case\n",
            "alvin\n",
            "To Upper case\n",
            "1981\n",
            "cant solve\n",
            "1976\n",
            "cant solve\n",
            "ebert\n",
            "To Upper case\n",
            "95\n",
            "cant solve\n",
            "28\n",
            "cant solve\n",
            "1945\n",
            "cant solve\n",
            "zane\n",
            "To Upper case\n",
            "timberlake\n",
            "To Upper case\n",
            "pickford\n",
            "To Upper case\n",
            "neill\n",
            "To Upper case\n",
            "marlon\n",
            "To Upper case\n",
            "lukas\n",
            "To Upper case\n",
            "loretta\n",
            "To Upper case\n",
            "corman\n",
            "To Upper case\n",
            "winchester\n",
            "To Upper case\n",
            "wendigo\n",
            "To Upper case\n",
            "mathieu\n",
            "To Upper case\n",
            "knightley\n",
            "To Upper case\n",
            "centre\n",
            "To Upper case\n",
            "audrey\n",
            "To Upper case\n",
            "affleck\n",
            "To Upper case\n",
            "huston\n",
            "To Upper case\n",
            "goldsworthy\n",
            "To Upper case\n",
            "fishburne\n",
            "To Upper case\n",
            "carlito\n",
            "To Upper case\n",
            "alexandre\n",
            "To Upper case\n",
            "1994\n",
            "cant solve\n",
            "i is ==  6000\n",
            "1991\n",
            "cant solve\n",
            "1990s\n",
            "cant solve\n",
            "mcqueen\n",
            "To Upper case\n",
            "kazan\n",
            "To Upper case\n",
            "gilliam\n",
            "To Upper case\n",
            "errol\n",
            "To Upper case\n",
            "1977\n",
            "cant solve\n",
            "1974\n",
            "cant solve\n",
            "truman\n",
            "To Upper case\n",
            "goldblum\n",
            "To Upper case\n",
            "capote\n",
            "To Upper case\n",
            "bsg\n",
            "cant solve\n",
            "1985\n",
            "cant solve\n",
            "masterson\n",
            "To Upper case\n",
            "ingrid\n",
            "To Upper case\n",
            "hackman\n",
            "To Upper case\n",
            "21st\n",
            "cant solve\n",
            "soylent\n",
            "To Upper case\n",
            "mitchum\n",
            "To Upper case\n",
            "mabel\n",
            "To Upper case\n",
            "harlow\n",
            "To Upper case\n",
            "cecil\n",
            "To Upper case\n",
            "beowulf\n",
            "To Upper case\n",
            "amrita\n",
            "To Upper case\n",
            "1959\n",
            "cant solve\n",
            "troma\n",
            "To Upper case\n",
            "kinnear\n",
            "To Upper case\n",
            "gypo\n",
            "To Upper case\n",
            "colours\n",
            "To Upper case\n",
            "cheadle\n",
            "To Upper case\n",
            "21\n",
            "cant solve\n",
            "200\n",
            "cant solve\n",
            "1940s\n",
            "cant solve\n",
            "zorro\n",
            "To Upper case\n",
            "irene\n",
            "To Upper case\n",
            "harriet\n",
            "To Upper case\n",
            "caron\n",
            "To Upper case\n",
            "1982\n",
            "cant solve\n",
            "1953\n",
            "cant solve\n",
            "1944\n",
            "cant solve\n",
            "thurman\n",
            "To Upper case\n",
            "quentin\n",
            "To Upper case\n",
            "pumbaa\n",
            "To Upper case\n",
            "pegg\n",
            "To Upper case\n",
            "minnelli\n",
            "To Upper case\n",
            "hayworth\n",
            "To Upper case\n",
            "deanna\n",
            "To Upper case\n",
            "barbra\n",
            "To Upper case\n",
            "axe\n",
            "To Upper case\n",
            "23\n",
            "cant solve\n",
            "1998\n",
            "cant solve\n",
            "1975\n",
            "cant solve\n",
            "melvyn\n",
            "To Upper case\n",
            "hadley\n",
            "To Upper case\n",
            "gamera\n",
            "To Upper case\n",
            "busey\n",
            "To Upper case\n",
            "300\n",
            "cant solve\n",
            "1934\n",
            "cant solve\n",
            "niven\n",
            "To Upper case\n",
            "longoria\n",
            "To Upper case\n",
            "juliette\n",
            "To Upper case\n",
            "fassbinder\n",
            "To Upper case\n",
            "fairbanks\n",
            "To Upper case\n",
            "collette\n",
            "To Upper case\n",
            "arquette\n",
            "To Upper case\n",
            "thelma\n",
            "To Upper case\n",
            "rowlands\n",
            "To Upper case\n",
            "gielgud\n",
            "To Upper case\n",
            "demille\n",
            "To Upper case\n",
            "clive\n",
            "To Upper case\n",
            "chiba\n",
            "To Upper case\n",
            "sarandon\n",
            "To Upper case\n",
            "sammo\n",
            "To Upper case\n",
            "madsen\n",
            "To Upper case\n",
            "haines\n",
            "To Upper case\n",
            "gershwin\n",
            "To Upper case\n",
            "dahmer\n",
            "To Upper case\n",
            "colman\n",
            "To Upper case\n",
            "arkin\n",
            "To Upper case\n",
            "1967\n",
            "cant solve\n",
            "pfeiffer\n",
            "To Upper case\n",
            "penelope\n",
            "To Upper case\n",
            "lucille\n",
            "To Upper case\n",
            "laputa\n",
            "To Upper case\n",
            "iturbi\n",
            "cant solve\n",
            "dillinger\n",
            "To Upper case\n",
            "beckinsale\n",
            "To Upper case\n",
            "i is ==  7000\n",
            "85\n",
            "cant solve\n",
            "tomei\n",
            "To Upper case\n",
            "sondra\n",
            "To Upper case\n",
            "gwyneth\n",
            "To Upper case\n",
            "creasy\n",
            "To Upper case\n",
            "1992\n",
            "cant solve\n",
            "1948\n",
            "cant solve\n",
            "101\n",
            "cant solve\n",
            "wayans\n",
            "To Upper case\n",
            "visconti\n",
            "To Upper case\n",
            "northam\n",
            "To Upper case\n",
            "godard\n",
            "To Upper case\n",
            "flavia\n",
            "To Upper case\n",
            "edith\n",
            "To Upper case\n",
            "casablanca\n",
            "To Upper case\n",
            "vonnegut\n",
            "To Upper case\n",
            "reiser\n",
            "To Upper case\n",
            "johansson\n",
            "To Upper case\n",
            "galactica\n",
            "To Upper case\n",
            "fellini\n",
            "To Upper case\n",
            "rohmer\n",
            "To Upper case\n",
            "natali\n",
            "To Upper case\n",
            "loren\n",
            "To Upper case\n",
            "giovanna\n",
            "To Upper case\n",
            "gackt\n",
            "To Upper case\n",
            "finney\n",
            "To Upper case\n",
            "feinstone\n",
            "To Upper case\n",
            "dafoe\n",
            "To Upper case\n",
            "characterisation\n",
            "To Upper case\n",
            "blaise\n",
            "To Upper case\n",
            "adele\n",
            "To Upper case\n",
            "1951\n",
            "cant solve\n",
            "1943\n",
            "cant solve\n",
            "silverman\n",
            "To Upper case\n",
            "massey\n",
            "To Upper case\n",
            "martino\n",
            "To Upper case\n",
            "marisa\n",
            "To Upper case\n",
            "kristofferson\n",
            "To Upper case\n",
            "kells\n",
            "To Upper case\n",
            "jagger\n",
            "To Upper case\n",
            "isabelle\n",
            "To Upper case\n",
            "grendel\n",
            "To Upper case\n",
            "ferrell\n",
            "To Upper case\n",
            "brien\n",
            "To Upper case\n",
            "blandings\n",
            "To Upper case\n",
            "1963\n",
            "cant solve\n",
            "1955\n",
            "cant solve\n",
            "1932\n",
            "cant solve\n",
            "rourke\n",
            "To Upper case\n",
            "gannon\n",
            "To Upper case\n",
            "favourites\n",
            "To Upper case\n",
            "brashear\n",
            "To Upper case\n",
            "bernsen\n",
            "To Upper case\n",
            "27\n",
            "cant solve\n",
            "1958\n",
            "cant solve\n",
            "vargas\n",
            "To Upper case\n",
            "sholay\n",
            "To Upper case\n",
            "realises\n",
            "To Upper case\n",
            "luzhin\n",
            "To Upper case\n",
            "guevara\n",
            "To Upper case\n",
            "govinda\n",
            "To Upper case\n",
            "gino\n",
            "To Upper case\n",
            "garfield\n",
            "To Upper case\n",
            "duchovny\n",
            "To Upper case\n",
            "coburn\n",
            "To Upper case\n",
            "cedric\n",
            "To Upper case\n",
            "bonham\n",
            "To Upper case\n",
            "26\n",
            "cant solve\n",
            "tashan\n",
            "To Upper case\n",
            "takashi\n",
            "To Upper case\n",
            "segal\n",
            "To Upper case\n",
            "redford\n",
            "To Upper case\n",
            "myrna\n",
            "To Upper case\n",
            "liotta\n",
            "To Upper case\n",
            "krueger\n",
            "To Upper case\n",
            "harron\n",
            "To Upper case\n",
            "elsa\n",
            "To Upper case\n",
            "dreyfuss\n",
            "To Upper case\n",
            "caprica\n",
            "To Upper case\n",
            "cancelled\n",
            "To Upper case\n",
            "2009\n",
            "cant solve\n",
            "redgrave\n",
            "To Upper case\n",
            "mamet\n",
            "To Upper case\n",
            "kinski\n",
            "To Upper case\n",
            "gena\n",
            "To Upper case\n",
            "faye\n",
            "To Upper case\n",
            "ealing\n",
            "To Upper case\n",
            "depardieu\n",
            "To Upper case\n",
            "byron\n",
            "To Upper case\n",
            "bronte\n",
            "To Upper case\n",
            "1946\n",
            "cant solve\n",
            "zelah\n",
            "cant solve\n",
            "theodore\n",
            "To Upper case\n",
            "seuss\n",
            "To Upper case\n",
            "programme\n",
            "To Upper case\n",
            "i is ==  8000\n",
            "macmurray\n",
            "cant solve\n",
            "lubitsch\n",
            "To Upper case\n",
            "gretchen\n",
            "To Upper case\n",
            "gandolfini\n",
            "To Upper case\n",
            "englund\n",
            "To Upper case\n",
            "edmund\n",
            "To Upper case\n",
            "dunst\n",
            "To Upper case\n",
            "crowe\n",
            "To Upper case\n",
            "cheech\n",
            "To Upper case\n",
            "blondell\n",
            "To Upper case\n",
            "arnie\n",
            "To Upper case\n",
            "98\n",
            "cant solve\n",
            "1966\n",
            "cant solve\n",
            "1957\n",
            "cant solve\n",
            "1000\n",
            "cant solve\n",
            "vincenzo\n",
            "To Upper case\n",
            "vaughn\n",
            "To Upper case\n",
            "peckinpah\n",
            "To Upper case\n",
            "myra\n",
            "To Upper case\n",
            "hanzo\n",
            "To Upper case\n",
            "farrah\n",
            "To Upper case\n",
            "farnsworth\n",
            "To Upper case\n",
            "fagin\n",
            "To Upper case\n",
            "coppola\n",
            "To Upper case\n",
            "1949\n",
            "cant solve\n",
            "shatner\n",
            "To Upper case\n",
            "panahi\n",
            "To Upper case\n",
            "kareena\n",
            "To Upper case\n",
            "helena\n",
            "To Upper case\n",
            "harilal\n",
            "To Upper case\n",
            "geoffrey\n",
            "To Upper case\n",
            "forsythe\n",
            "To Upper case\n",
            "dillon\n",
            "To Upper case\n",
            "clarence\n",
            "To Upper case\n",
            "warhols\n",
            "To Upper case\n",
            "theatres\n",
            "To Upper case\n",
            "sammi\n",
            "To Upper case\n",
            "noam\n",
            "To Upper case\n",
            "midler\n",
            "To Upper case\n",
            "malden\n",
            "To Upper case\n",
            "kilmer\n",
            "To Upper case\n",
            "keanu\n",
            "To Upper case\n",
            "kalifornia\n",
            "To Upper case\n",
            "judgement\n",
            "To Upper case\n",
            "glenda\n",
            "To Upper case\n",
            "floriane\n",
            "To Upper case\n",
            "fawcett\n",
            "To Upper case\n",
            "ewoks\n",
            "To Upper case\n",
            "daria\n",
            "To Upper case\n",
            "culkin\n",
            "To Upper case\n",
            "cruella\n",
            "To Upper case\n",
            "bogdanovich\n",
            "To Upper case\n",
            "500\n",
            "cant solve\n",
            "250\n",
            "cant solve\n",
            "1965\n",
            "cant solve\n",
            "1942\n",
            "cant solve\n",
            "1920\n",
            "cant solve\n",
            "toole\n",
            "To Upper case\n",
            "simba\n",
            "To Upper case\n",
            "rosenstrasse\n",
            "To Upper case\n",
            "pertwee\n",
            "To Upper case\n",
            "ossessione\n",
            "cant solve\n",
            "natasha\n",
            "To Upper case\n",
            "muriel\n",
            "To Upper case\n",
            "mostel\n",
            "To Upper case\n",
            "luthor\n",
            "To Upper case\n",
            "lanza\n",
            "To Upper case\n",
            "kusturica\n",
            "To Upper case\n",
            "kornbluth\n",
            "To Upper case\n",
            "dunne\n",
            "To Upper case\n",
            "berenger\n",
            "To Upper case\n",
            "tsui\n",
            "To Upper case\n",
            "sorvino\n",
            "To Upper case\n",
            "mcdowell\n",
            "To Upper case\n",
            "mcdermott\n",
            "To Upper case\n",
            "maugham\n",
            "To Upper case\n",
            "mastroianni\n",
            "To Upper case\n",
            "lansbury\n",
            "To Upper case\n",
            "granger\n",
            "To Upper case\n",
            "grady\n",
            "To Upper case\n",
            "dukakis\n",
            "To Upper case\n",
            "dickinson\n",
            "To Upper case\n",
            "corbin\n",
            "To Upper case\n",
            "caruso\n",
            "To Upper case\n",
            "azumi\n",
            "To Upper case\n",
            "1964\n",
            "cant solve\n",
            "1920s\n",
            "cant solve\n",
            "valerie\n",
            "To Upper case\n",
            "tolkien\n",
            "To Upper case\n",
            "sykes\n",
            "To Upper case\n",
            "sarne\n",
            "To Upper case\n",
            "sabu\n",
            "To Upper case\n",
            "rko\n",
            "cant solve\n",
            "rizzo\n",
            "To Upper case\n",
            "pavarotti\n",
            "To Upper case\n",
            "mcadams\n",
            "To Upper case\n",
            "mattei\n",
            "To Upper case\n",
            "lorre\n",
            "To Upper case\n",
            "kingsley\n",
            "To Upper case\n",
            "keitel\n",
            "To Upper case\n",
            "izzard\n",
            "To Upper case\n",
            "greenaway\n",
            "To Upper case\n",
            "elmer\n",
            "To Upper case\n",
            "doris\n",
            "To Upper case\n",
            "cortez\n",
            "To Upper case\n",
            "agatha\n",
            "To Upper case\n",
            "48\n",
            "cant solve\n",
            "1938\n",
            "cant solve\n",
            "sloane\n",
            "To Upper case\n",
            "shakespearean\n",
            "To Upper case\n",
            "sematary\n",
            "cant solve\n",
            "i is ==  9000\n",
            "pasolini\n",
            "To Upper case\n",
            "neeson\n",
            "To Upper case\n",
            "marjorie\n",
            "To Upper case\n",
            "maguire\n",
            "To Upper case\n",
            "lommel\n",
            "To Upper case\n",
            "korda\n",
            "To Upper case\n",
            "khouri\n",
            "To Upper case\n",
            "harlin\n",
            "To Upper case\n",
            "elisha\n",
            "To Upper case\n",
            "durbin\n",
            "To Upper case\n",
            "dominick\n",
            "To Upper case\n",
            "dietrich\n",
            "To Upper case\n",
            "delia\n",
            "To Upper case\n",
            "darius\n",
            "To Upper case\n",
            "crenna\n",
            "To Upper case\n",
            "cillian\n",
            "To Upper case\n",
            "christensen\n",
            "To Upper case\n",
            "aztec\n",
            "To Upper case\n",
            "1931\n",
            "cant solve\n",
            "zabriskie\n",
            "To Upper case\n",
            "wwi\n",
            "cant solve\n",
            "seinfeld\n",
            "To Upper case\n",
            "mpaa\n",
            "cant solve\n",
            "morgana\n",
            "To Upper case\n",
            "mcgavin\n",
            "cant solve\n",
            "jed\n",
            "To Upper case\n",
            "hedy\n",
            "To Upper case\n",
            "duryea\n",
            "To Upper case\n",
            "deathstalker\n",
            "cant solve\n",
            "danning\n",
            "To Upper case\n",
            "connolly\n",
            "To Upper case\n",
            "carface\n",
            "cant solve\n",
            "callahan\n",
            "To Upper case\n",
            "bruckheimer\n",
            "To Upper case\n",
            "benoit\n",
            "To Upper case\n",
            "batwoman\n",
            "To Upper case\n",
            "1941\n",
            "cant solve\n",
            "witherspoon\n",
            "To Upper case\n",
            "viggo\n",
            "To Upper case\n",
            "stoltz\n",
            "To Upper case\n",
            "rhys\n",
            "To Upper case\n",
            "rainer\n",
            "To Upper case\n",
            "mcintire\n",
            "To Upper case\n",
            "marlene\n",
            "To Upper case\n",
            "macbeth\n",
            "To Upper case\n",
            "lotr\n",
            "cant solve\n",
            "levant\n",
            "To Upper case\n",
            "leia\n",
            "To Upper case\n",
            "lamarr\n",
            "To Upper case\n",
            "kriemhild\n",
            "cant solve\n",
            "jameson\n",
            "To Upper case\n",
            "it´s\n",
            "cant solve\n",
            "hayward\n",
            "To Upper case\n",
            "hamill\n",
            "To Upper case\n",
            "didnt\n",
            "cant solve\n",
            "crouse\n",
            "To Upper case\n",
            "corleone\n",
            "To Upper case\n",
            "carole\n",
            "To Upper case\n",
            "bolivia\n",
            "To Upper case\n",
            "azaria\n",
            "To Upper case\n",
            "askey\n",
            "To Upper case\n",
            "aiello\n",
            "To Upper case\n",
            "700\n",
            "cant solve\n",
            "400\n",
            "cant solve\n",
            "1956\n",
            "cant solve\n",
            "1935\n",
            "cant solve\n",
            "18th\n",
            "cant solve\n",
            "zatoichi\n",
            "To Upper case\n",
            "werner\n",
            "To Upper case\n",
            "travelling\n",
            "To Upper case\n",
            "schumacher\n",
            "To Upper case\n",
            "newcombe\n",
            "To Upper case\n",
            "maclean\n",
            "To Upper case\n",
            "lucio\n",
            "To Upper case\n",
            "leopold\n",
            "To Upper case\n",
            "foch\n",
            "To Upper case\n",
            "darkman\n",
            "To Upper case\n",
            "byrne\n",
            "To Upper case\n",
            "btk\n",
            "To Upper case\n",
            "blaine\n",
            "To Upper case\n",
            "argento\n",
            "To Upper case\n",
            "86\n",
            "cant solve\n",
            "33\n",
            "cant solve\n",
            "1937\n",
            "cant solve\n",
            "willem\n",
            "To Upper case\n",
            "wallach\n",
            "To Upper case\n",
            "trelkovsky\n",
            "cant solve\n",
            "townsend\n",
            "To Upper case\n",
            "tigerland\n",
            "To Upper case\n",
            "shue\n",
            "To Upper case\n",
            "poppins\n",
            "To Upper case\n",
            "phyllis\n",
            "To Upper case\n",
            "paperhouse\n",
            "cant solve\n",
            "nielsen\n",
            "To Upper case\n",
            "mortensen\n",
            "To Upper case\n",
            "marvellous\n",
            "To Upper case\n",
            "kermit\n",
            "To Upper case\n",
            "honour\n",
            "To Upper case\n",
            "eleanor\n",
            "To Upper case\n",
            "colourful\n",
            "To Upper case\n",
            "cambodia\n",
            "To Upper case\n",
            "atwill\n",
            "To Upper case\n",
            "1962\n",
            "cant solve\n",
            "1954\n",
            "cant solve\n",
            "150\n",
            "cant solve\n",
            "zenia\n",
            "To Upper case\n",
            "wray\n",
            "To Upper case\n",
            "winslet\n",
            "To Upper case\n",
            "sybil\n",
            "To Upper case\n",
            "sullavan\n",
            "To Upper case\n",
            "roeg\n",
            "To Upper case\n",
            "rathbone\n",
            "To Upper case\n",
            "lithgow\n",
            "To Upper case\n",
            "jovi\n",
            "To Upper case\n",
            "jaffar\n",
            "To Upper case\n",
            "hilliard\n",
            "To Upper case\n",
            "hickock\n",
            "To Upper case\n",
            "hagar\n",
            "To Upper case\n",
            "gilligan\n",
            "To Upper case\n",
            "gertrude\n",
            "To Upper case\n"
          ]
        }
      ]
    },
    {
      "cell_type": "markdown",
      "source": [
        "### Saving the Embedding File as numpy file"
      ],
      "metadata": {
        "id": "zmdCkzF-gCD9"
      }
    },
    {
      "cell_type": "code",
      "source": [
        "# np.save('/content/drive/MyDrive/Colab Notebooks/RNN(sentiment analysis)/pretrained_embeddings/pretrained_embeddings.npy', pretrained_embeddings)\n"
      ],
      "metadata": {
        "id": "vPzQrDotfVzc"
      },
      "execution_count": 33,
      "outputs": []
    },
    {
      "cell_type": "markdown",
      "source": [
        "### Loading the saved numpy embeddings"
      ],
      "metadata": {
        "id": "Z1Pi0WhYgLQY"
      }
    },
    {
      "cell_type": "code",
      "source": [
        "pretrained_embeddings = np.load('/content/drive/MyDrive/Colab Notebooks/RNN(sentiment analysis)/pretrained_embeddings/pretrained_embeddings.npy')\n"
      ],
      "metadata": {
        "id": "464iez0Nfmyt"
      },
      "execution_count": 34,
      "outputs": []
    },
    {
      "cell_type": "code",
      "source": [
        "pretrained_embeddings.shape\n",
        "\n"
      ],
      "metadata": {
        "colab": {
          "base_uri": "https://localhost:8080/"
        },
        "id": "Hsz6mdrUfred",
        "outputId": "62cdcd0f-51e3-4a66-99ea-bff2f12dc8b0"
      },
      "execution_count": 35,
      "outputs": [
        {
          "output_type": "execute_result",
          "data": {
            "text/plain": [
              "(10000, 300)"
            ]
          },
          "metadata": {},
          "execution_count": 35
        }
      ]
    },
    {
      "cell_type": "markdown",
      "source": [
        "## Model Building"
      ],
      "metadata": {
        "id": "yb2JxNMzgu1Z"
      }
    },
    {
      "cell_type": "code",
      "source": [
        "EMBEDDING_DIM=300\n",
        "model=tf.keras.models.Sequential([\n",
        "    Input(shape=(SEQUENCE_LENGTH,)),\n",
        "    Embedding(\n",
        "        VOCABULARY_SIZE,\n",
        "        EMBEDDING_DIM,\n",
        "        embeddings_initializer=tf.keras.initializers.Constant(pretrained_embeddings),\n",
        "        trainable=True,\n",
        "    ),\n",
        "\n",
        "    Conv1D(32, 3, activation='relu',),\n",
        "    Flatten(),\n",
        "    Dense(32, activation='relu'),\n",
        "    Dropout(0.5),\n",
        "    Dense(1,activation='sigmoid'),\n",
        "])\n",
        "model.summary()"
      ],
      "metadata": {
        "colab": {
          "base_uri": "https://localhost:8080/"
        },
        "id": "R2NU0nJag7KO",
        "outputId": "f6030017-7020-49bf-f172-caf83a6c71c3"
      },
      "execution_count": 57,
      "outputs": [
        {
          "output_type": "stream",
          "name": "stdout",
          "text": [
            "Model: \"sequential_2\"\n",
            "_________________________________________________________________\n",
            " Layer (type)                Output Shape              Param #   \n",
            "=================================================================\n",
            " embedding_2 (Embedding)     (None, 250, 300)          3000000   \n",
            "                                                                 \n",
            " conv1d_2 (Conv1D)           (None, 248, 32)           28832     \n",
            "                                                                 \n",
            " flatten_2 (Flatten)         (None, 7936)              0         \n",
            "                                                                 \n",
            " dense_4 (Dense)             (None, 32)                253984    \n",
            "                                                                 \n",
            " dropout_2 (Dropout)         (None, 32)                0         \n",
            "                                                                 \n",
            " dense_5 (Dense)             (None, 1)                 33        \n",
            "                                                                 \n",
            "=================================================================\n",
            "Total params: 3282849 (12.52 MB)\n",
            "Trainable params: 3282849 (12.52 MB)\n",
            "Non-trainable params: 0 (0.00 Byte)\n",
            "_________________________________________________________________\n"
          ]
        }
      ]
    },
    {
      "cell_type": "markdown",
      "source": [
        "## Model Compilation and Fitting\n"
      ],
      "metadata": {
        "id": "Ia-KnfCzgTPu"
      }
    },
    {
      "cell_type": "code",
      "source": [
        "model.compile(loss='binary_crossentropy', optimizer=tf.keras.optimizers.Adam(1e-4), metrics=['accuracy'])\n"
      ],
      "metadata": {
        "id": "pfPgPK83jhyl"
      },
      "execution_count": 58,
      "outputs": []
    },
    {
      "cell_type": "code",
      "source": [
        "\n",
        "history = model.fit(train_dataset, validation_data=val_dataset, epochs=10)\n"
      ],
      "metadata": {
        "colab": {
          "base_uri": "https://localhost:8080/"
        },
        "id": "LixRN70sjjkZ",
        "outputId": "76e8777d-6ca9-42b2-cf32-c6573f1fbf1a"
      },
      "execution_count": 59,
      "outputs": [
        {
          "output_type": "stream",
          "name": "stdout",
          "text": [
            "Epoch 1/10\n",
            "391/391 [==============================] - 60s 144ms/step - loss: 0.6952 - accuracy: 0.5070 - val_loss: 0.6926 - val_accuracy: 0.5162\n",
            "Epoch 2/10\n",
            "391/391 [==============================] - 9s 24ms/step - loss: 0.6897 - accuracy: 0.5280 - val_loss: 0.6878 - val_accuracy: 0.5418\n",
            "Epoch 3/10\n",
            "391/391 [==============================] - 10s 25ms/step - loss: 0.5657 - accuracy: 0.6984 - val_loss: 0.4143 - val_accuracy: 0.8275\n",
            "Epoch 4/10\n",
            "391/391 [==============================] - 9s 24ms/step - loss: 0.3552 - accuracy: 0.8530 - val_loss: 0.3441 - val_accuracy: 0.8528\n",
            "Epoch 5/10\n",
            "391/391 [==============================] - 9s 22ms/step - loss: 0.2871 - accuracy: 0.8889 - val_loss: 0.3238 - val_accuracy: 0.8642\n",
            "Epoch 6/10\n",
            "391/391 [==============================] - 9s 24ms/step - loss: 0.2425 - accuracy: 0.9103 - val_loss: 0.3237 - val_accuracy: 0.8643\n",
            "Epoch 7/10\n",
            "391/391 [==============================] - 9s 24ms/step - loss: 0.2083 - accuracy: 0.9252 - val_loss: 0.3226 - val_accuracy: 0.8656\n",
            "Epoch 8/10\n",
            "391/391 [==============================] - 9s 23ms/step - loss: 0.1778 - accuracy: 0.9402 - val_loss: 0.3251 - val_accuracy: 0.8681\n",
            "Epoch 9/10\n",
            "391/391 [==============================] - 9s 24ms/step - loss: 0.1501 - accuracy: 0.9508 - val_loss: 0.3394 - val_accuracy: 0.8674\n",
            "Epoch 10/10\n",
            "391/391 [==============================] - 9s 24ms/step - loss: 0.1256 - accuracy: 0.9615 - val_loss: 0.3602 - val_accuracy: 0.8664\n"
          ]
        }
      ]
    },
    {
      "cell_type": "markdown",
      "source": [
        "# Evaluation and Testing"
      ],
      "metadata": {
        "id": "pHhNm_otvYN3"
      }
    },
    {
      "cell_type": "code",
      "source": [
        "test_dataset=test_dataset.batch(BATCH_SIZE)"
      ],
      "metadata": {
        "id": "bCI735z2_r1R"
      },
      "execution_count": 60,
      "outputs": []
    },
    {
      "cell_type": "code",
      "source": [
        "model.evaluate(test_dataset)\n"
      ],
      "metadata": {
        "colab": {
          "base_uri": "https://localhost:8080/"
        },
        "id": "vS_bwNbyjvdJ",
        "outputId": "7501e50b-da5c-4f77-f5c3-795eb5f8b2f7"
      },
      "execution_count": 61,
      "outputs": [
        {
          "output_type": "stream",
          "name": "stdout",
          "text": [
            "196/196 [==============================] - 4s 19ms/step - loss: 0.3555 - accuracy: 0.8654\n"
          ]
        },
        {
          "output_type": "execute_result",
          "data": {
            "text/plain": [
              "[0.3555130064487457, 0.8653600215911865]"
            ]
          },
          "metadata": {},
          "execution_count": 61
        }
      ]
    },
    {
      "cell_type": "markdown",
      "source": [
        "**Accuracy Increased to 87% approx.**"
      ],
      "metadata": {
        "id": "vkV316Auj2HU"
      }
    },
    {
      "cell_type": "code",
      "source": [
        "test_data = tf.data.Dataset.from_tensor_slices([[\"It was interesting in the first half i liked it, but after some of the action scenes it was same as the rest of movies and the plot was predictable\"],\n",
        "                                              [\"very good start, but movie started becoming interesting at some point and fortunately at some point it started becoming much more fun, though there was too much background noise, so in all i liked this movie \"],])\n",
        "\n",
        "\n",
        "\n",
        "\n"
      ],
      "metadata": {
        "id": "Sn3cqmfEo1bg"
      },
      "execution_count": 70,
      "outputs": []
    },
    {
      "cell_type": "code",
      "source": [
        "def vectorizer_test(review):\n",
        "    return vectorize_layer(review)\n",
        "test_dataset=test_data.map(vectorizer_test)"
      ],
      "metadata": {
        "id": "TjXF5qF9pVkU"
      },
      "execution_count": 71,
      "outputs": []
    },
    {
      "cell_type": "code",
      "source": [
        "def positive_or_negative(prediction):\n",
        "    if prediction > 0.5:\n",
        "        return 'positive', prediction\n",
        "    else:\n",
        "        return 'negative', prediction\n",
        "\n",
        "\n",
        "class_names = ['negative', 'positive']\n"
      ],
      "metadata": {
        "id": "7Z2wExh8pyWq"
      },
      "execution_count": 72,
      "outputs": []
    },
    {
      "cell_type": "code",
      "source": [
        "predictions = model.predict(test_dataset)\n",
        "for pred in predictions:\n",
        "    value = positive_or_negative(tf.cast(pred, dtype=tf.float32))\n",
        "    print(value)"
      ],
      "metadata": {
        "colab": {
          "base_uri": "https://localhost:8080/"
        },
        "id": "0Js3ccnSo880",
        "outputId": "a7296290-3220-46bb-b6e1-6bc00cacb98c"
      },
      "execution_count": 73,
      "outputs": [
        {
          "output_type": "stream",
          "name": "stdout",
          "text": [
            "2/2 [==============================] - 0s 3ms/step\n",
            "('negative', <tf.Tensor: shape=(1,), dtype=float32, numpy=array([0.3789639], dtype=float32)>)\n",
            "('positive', <tf.Tensor: shape=(1,), dtype=float32, numpy=array([0.5664707], dtype=float32)>)\n"
          ]
        }
      ]
    },
    {
      "cell_type": "markdown",
      "source": [
        "# Confusion Matrix"
      ],
      "metadata": {
        "id": "jK9Xf--31dXw"
      }
    },
    {
      "cell_type": "code",
      "source": [
        "true_labels = []\n",
        "\n",
        "predicted_labels = []\n",
        "\n",
        "def predict_with_model(text_tensor):\n",
        "    return model.predict(text_tensor)\n",
        "\n",
        "# Iterate through the test dataset to collect true labels and make predictions\n",
        "for text_tensor, label in test_dataset.take(2000):\n",
        "    true_labels.append(label)\n",
        "    # Expand dimensions to match the expected input shape\n",
        "    text_tensor = tf.expand_dims(text_tensor, axis=0)\n",
        "    predicted_label = predict_with_model(text_tensor)\n",
        "    # binary classification with threshold 0.5\n",
        "    predicted_label = 1 if predicted_label >= 0.5 else 0\n",
        "    predicted_labels.append(predicted_label)\n",
        "\n",
        "# Convert the true labels and predicted labels to numpy arrays\n",
        "true_labels = np.array(true_labels)\n",
        "predicted_labels = np.array(predicted_labels)\n"
      ],
      "metadata": {
        "id": "4yaQylgcv9oQ"
      },
      "execution_count": null,
      "outputs": []
    },
    {
      "cell_type": "code",
      "source": [
        "from sklearn.metrics import confusion_matrix\n",
        "import seaborn as sns\n",
        "\n",
        "# Create the confusion matrix\n",
        "confusion = confusion_matrix(true_labels, predicted_labels)\n",
        "\n",
        "# Plot the confusion matrix\n",
        "plt.figure(figsize=(8, 6))\n",
        "sns.heatmap(confusion, annot=True, fmt=\"d\", cmap=\"Blues\", xticklabels=[\"Negative\", \"Positive\"], yticklabels=[\"Negative\", \"Positive\"])\n",
        "plt.title(\"Confusion Matrix\")\n",
        "plt.show()\n"
      ],
      "metadata": {
        "colab": {
          "base_uri": "https://localhost:8080/",
          "height": 545
        },
        "id": "bLIlZQZ71KP1",
        "outputId": "c231b44f-1ba6-4aac-c0a9-230c1bbe3b32"
      },
      "execution_count": 86,
      "outputs": [
        {
          "output_type": "display_data",
          "data": {
            "text/plain": [
              "<Figure size 800x600 with 2 Axes>"
            ],
            "image/png": "[encoded data removed]"
          },
          "metadata": {}
        }
      ]
    },
    {
      "cell_type": "markdown",
      "source": [
        "# Model loss and accuracy"
      ],
      "metadata": {
        "id": "ng4XRWttqXUe"
      }
    },
    {
      "cell_type": "code",
      "source": [
        "plt.plot(history.history['loss'])\n",
        "plt.plot(history.history['val_loss'])\n",
        "plt.title('model_loss')\n",
        "plt.ylabel('loss')\n",
        "plt.xlabel('epoch')\n",
        "plt.legend(['train', 'val'], loc='upper left')\n",
        "plt.show()"
      ],
      "metadata": {
        "colab": {
          "base_uri": "https://localhost:8080/",
          "height": 472
        },
        "id": "7d3kIbh1pYGX",
        "outputId": "80fca2b2-4a57-4d39-b3b6-9d449fa6a5ec"
      },
      "execution_count": 87,
      "outputs": [
        {
          "output_type": "display_data",
          "data": {
            "text/plain": [
              "<Figure size 640x480 with 1 Axes>"
            ],
            "image/png": "[encoded data removed]"
          },
          "metadata": {}
        }
      ]
    },
    {
      "cell_type": "code",
      "source": [
        "plt.plot(history.history['accuracy'])\n",
        "plt.plot(history.history['val_accuracy'])\n",
        "\n",
        "plt.title('model_accuracy')\n",
        "plt.ylabel('accuracy')\n",
        "plt.xlabel('epoch')\n",
        "plt.legend(['train', 'val'], loc='upper left')\n",
        "plt.show()"
      ],
      "metadata": {
        "colab": {
          "base_uri": "https://localhost:8080/",
          "height": 472
        },
        "id": "OhV-iLaIqQ_C",
        "outputId": "3b385b05-bff8-44ed-d200-ff38e6fb67a2"
      },
      "execution_count": 88,
      "outputs": [
        {
          "output_type": "display_data",
          "data": {
            "text/plain": [
              "<Figure size 640x480 with 1 Axes>"
            ],
            "image/png": "[encoded data removed]"
          },
          "metadata": {}
        }
      ]
    },
    {
      "cell_type": "markdown",
      "source": [
        "# Verdict\n",
        "\n",
        "Using a pretrained model is very promising since the datapoints are quite large and generalization is better. Overall the accuracy and Confusion matrix showed promise over the LSTM and GRU model from scratch but none the less, different architectures play different roles for different problems."
      ],
      "metadata": {
        "id": "buoDrBrtBd9n"
      }
    }
  ]
}