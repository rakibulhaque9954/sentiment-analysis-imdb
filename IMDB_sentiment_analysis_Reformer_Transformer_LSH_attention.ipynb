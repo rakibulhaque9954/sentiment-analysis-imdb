{
  "cells": [
    {
      "cell_type": "markdown",
      "metadata": {
        "id": "view-in-github",
        "colab_type": "text"
      },
      "source": [
        "<a href=\"https://colab.research.google.com/github/rakibulhaque9954/sentiment-analysis-imdb/blob/main/IMDB_sentiment_analysis_Reformer_Transformer_LSH_attention.ipynb\" target=\"_parent\"><img src=\"https://colab.research.google.com/assets/colab-badge.svg\" alt=\"Open In Colab\"/></a>"
      ]
    },
    {
      "cell_type": "markdown",
      "metadata": {
        "id": "VGgjjqp2_ZzA"
      },
      "source": [
        "# Acknowledgement"
      ]
    },
    {
      "cell_type": "markdown",
      "metadata": {
        "id": "Ojkq8lGs_ezj"
      },
      "source": [
        "**Based on research by members of Google Brain, Google Research, Univerity of Toronto**<br>\n",
        "Original Transformer Paper Link: https://arxiv.org/pdf/1706.03762.pdf\n",
        "\n",
        "Efficiecnt Transformers Paper Link: https://arxiv.org/pdf/2009.06732.pdf\n",
        "\n",
        "Reformer Transformer Paper Link: https://arxiv.org/pdf/2001.04451.pdf\n",
        "\n",
        "***The Following Model is based on the famous Reformer Upgraded Transformer Model***\n"
      ]
    },
    {
      "cell_type": "markdown",
      "metadata": {
        "id": "YkeasEue5qIo"
      },
      "source": [
        "# Imports"
      ]
    },
    {
      "cell_type": "code",
      "execution_count": 2,
      "metadata": {
        "id": "Vt93_FwG0cLc"
      },
      "outputs": [],
      "source": [
        "import tensorflow as tf### models\n",
        "import numpy as np### math computations\n",
        "import matplotlib.pyplot as plt### plotting bar chart\n",
        "import sklearn### machine learning library\n",
        "import cv2## image processing\n",
        "from sklearn.metrics import confusion_matrix, roc_curve### metrics\n",
        "import seaborn as sns### visualizations\n",
        "import datetime\n",
        "import pathlib\n",
        "import io\n",
        "import os\n",
        "import re\n",
        "import string\n",
        "import time\n",
        "from numpy import random\n",
        "import tensorflow_datasets as tfds\n",
        "import tensorflow_probability as tfp\n",
        "from keras.models import Model\n",
        "from keras.layers import Layer\n",
        "from keras.layers import (Dense,Flatten,SimpleRNN,InputLayer,Conv1D,Bidirectional,GRU,LSTM,BatchNormalization,Dropout,Input, Embedding,TextVectorization)\n",
        "from keras.losses import BinaryCrossentropy,CategoricalCrossentropy, SparseCategoricalCrossentropy\n",
        "from keras.metrics import Accuracy,TopKCategoricalAccuracy, CategoricalAccuracy, SparseCategoricalAccuracy\n",
        "from keras.optimizers import Adam\n",
        "from keras.layers import MultiHeadAttention, LayerNormalization\n",
        "from google.colab import drive\n",
        "from google.colab import files\n",
        "from tensorboard.plugins import projector"
      ]
    },
    {
      "cell_type": "markdown",
      "metadata": {
        "id": "yHoYbLZ0Vd1Z"
      },
      "source": [
        "# Data Preparation"
      ]
    },
    {
      "cell_type": "code",
      "source": [
        "BATCH_SIZE = 64"
      ],
      "metadata": {
        "id": "x3cqwQplr1ut"
      },
      "execution_count": 3,
      "outputs": []
    },
    {
      "cell_type": "code",
      "source": [
        "train_ds, val_ds, test_ds=tfds.load('imdb_reviews', split=['train', 'test[:50%]', 'test[50%:]'],as_supervised=True)"
      ],
      "metadata": {
        "id": "Eon6J020r0rg"
      },
      "execution_count": 53,
      "outputs": []
    },
    {
      "cell_type": "code",
      "source": [
        "for review,label in train_ds.take(1):\n",
        "  print(\"Review:\",review.numpy())\n",
        "  print(\"Label:\",label.numpy())\n"
      ],
      "metadata": {
        "colab": {
          "base_uri": "https://localhost:8080/"
        },
        "id": "fuL515g9sAvS",
        "outputId": "8a1997f9-f9df-40d0-a679-bf9db4b4e534"
      },
      "execution_count": 5,
      "outputs": [
        {
          "output_type": "stream",
          "name": "stdout",
          "text": [
            "Review: b\"This was an absolutely terrible movie. Don't be lured in by Christopher Walken or Michael Ironside. Both are great actors, but this must simply be their worst role in history. Even their great acting could not redeem this movie's ridiculous storyline. This movie is an early nineties US propaganda piece. The most pathetic scenes were those when the Columbian rebels were making their cases for revolutions. Maria Conchita Alonso appeared phony, and her pseudo-love affair with Walken was nothing but a pathetic emotional plug in a movie that was devoid of any real meaning. I am disappointed that there are movies like this, ruining actor's like Christopher Walken's good name. I could barely sit through it.\"\n",
            "Label: 0\n"
          ]
        }
      ]
    },
    {
      "cell_type": "markdown",
      "source": [
        "## Standardization"
      ],
      "metadata": {
        "id": "N7Gd5WJws1f9"
      }
    },
    {
      "cell_type": "code",
      "source": [
        "def standardization(input_data):\n",
        "    '''\n",
        "    Input: raw reviews\n",
        "    output: standardized reviews\n",
        "    '''\n",
        "    lowercase=tf.strings.lower(input_data)\n",
        "    no_tag=tf.strings.regex_replace(lowercase,\"<[^>]+>\",\"\")\n",
        "    output=tf.strings.regex_replace(no_tag,\"[%s]\"%re.escape(string.punctuation),\"\")\n",
        "\n",
        "    return output"
      ],
      "metadata": {
        "id": "11HtyoiUsEVT"
      },
      "execution_count": 6,
      "outputs": []
    },
    {
      "cell_type": "code",
      "source": [
        "standardization(tf.constant(\"<u>In the movie?, </u>man called Tévèz, went to a friend’s pl**ce and they had a tensed discussion. I don’t love this movie! would you?<br> <br /><br />T\"))"
      ],
      "metadata": {
        "colab": {
          "base_uri": "https://localhost:8080/"
        },
        "id": "B0hHJ4zKsJxg",
        "outputId": "479d970c-2376-4ed1-93d6-74a483fb3129"
      },
      "execution_count": 7,
      "outputs": [
        {
          "output_type": "execute_result",
          "data": {
            "text/plain": [
              "<tf.Tensor: shape=(), dtype=string, numpy=b'in the movie man called t\\xc3\\xa9v\\xc3\\xa8z went to a friend\\xe2\\x80\\x99s plce and they had a tensed discussion i don\\xe2\\x80\\x99t love this movie would you t'>"
            ]
          },
          "metadata": {},
          "execution_count": 7
        }
      ]
    },
    {
      "cell_type": "markdown",
      "source": [
        "## Vectorization"
      ],
      "metadata": {
        "id": "0Q5f_61hs5MX"
      }
    },
    {
      "cell_type": "code",
      "source": [
        "VOCAB_SIZE=10000\n",
        "SEQUENCE_LENGTH=250\n",
        "EMBEDDING_DIM=300"
      ],
      "metadata": {
        "id": "iHUeO5WnsLdB"
      },
      "execution_count": 8,
      "outputs": []
    },
    {
      "cell_type": "code",
      "source": [
        "vectorize_layer=TextVectorization(\n",
        "    standardize=standardization,\n",
        "    max_tokens=VOCAB_SIZE,\n",
        "    output_mode='int', # 'count' for bag of words and 'binary' for one hot vector\n",
        "    output_sequence_length=SEQUENCE_LENGTH\n",
        ")"
      ],
      "metadata": {
        "id": "Th37witGsNlf"
      },
      "execution_count": 9,
      "outputs": []
    },
    {
      "cell_type": "code",
      "source": [
        "training_data=train_ds.map(lambda x,y:x)### input x and y and outputx\n",
        "vectorize_layer.adapt(training_data)#### adapt the vectorize_layer to the training data"
      ],
      "metadata": {
        "id": "Qx-bgWi-sP_J"
      },
      "execution_count": 10,
      "outputs": []
    },
    {
      "cell_type": "code",
      "source": [
        "len(vectorize_layer.get_vocabulary())"
      ],
      "metadata": {
        "colab": {
          "base_uri": "https://localhost:8080/"
        },
        "id": "wJHbQ_e0sRXH",
        "outputId": "bf8fd5bf-4436-4cbf-8b9c-f8f0257ef07a"
      },
      "execution_count": 11,
      "outputs": [
        {
          "output_type": "execute_result",
          "data": {
            "text/plain": [
              "10000"
            ]
          },
          "metadata": {},
          "execution_count": 11
        }
      ]
    },
    {
      "cell_type": "code",
      "source": [
        "def vectorizer(review,label):\n",
        "    return vectorize_layer(review),label"
      ],
      "metadata": {
        "id": "pLHK9RHNsSvp"
      },
      "execution_count": 12,
      "outputs": []
    },
    {
      "cell_type": "code",
      "source": [
        "train_dataset=train_ds.map(vectorizer)\n",
        "val_dataset=val_ds.map(vectorizer)"
      ],
      "metadata": {
        "id": "TeAN2rhSsWVL"
      },
      "execution_count": 13,
      "outputs": []
    },
    {
      "cell_type": "code",
      "source": [
        "vectorize_layer.get_vocabulary()[0:10]"
      ],
      "metadata": {
        "colab": {
          "base_uri": "https://localhost:8080/"
        },
        "id": "TP8ZkU8isXLo",
        "outputId": "c2fd5319-07b4-416f-ab5b-d61c22038e40"
      },
      "execution_count": 14,
      "outputs": [
        {
          "output_type": "execute_result",
          "data": {
            "text/plain": [
              "['', '[UNK]', 'the', 'and', 'a', 'of', 'to', 'is', 'in', 'it']"
            ]
          },
          "metadata": {},
          "execution_count": 14
        }
      ]
    },
    {
      "cell_type": "code",
      "source": [
        "for review,label in train_dataset.take(1):\n",
        "  print(\"Review:\",review)\n",
        "  print(\"Label:\",label.numpy())\n"
      ],
      "metadata": {
        "colab": {
          "base_uri": "https://localhost:8080/"
        },
        "id": "3fCdgsnCsbxk",
        "outputId": "63f5c3c7-da09-46fb-8e99-eeeb4ad72ca6"
      },
      "execution_count": 15,
      "outputs": [
        {
          "output_type": "stream",
          "name": "stdout",
          "text": [
            "Review: tf.Tensor(\n",
            "[  10   13   33  411  384   17   89   26    1    8   32 1337 3521   40\n",
            "  491    1  192   22   84  149   18   10  215  317   26   64  239  212\n",
            "    8  484   54   64   84  111   95   21 5502   10   91  637  737   10\n",
            "   17    7   33  393 9554  169 2443  406    2   87 1205  135   65  142\n",
            "   52    2    1 7408   65  245   64 2832   16    1 2851    1    1 1415\n",
            " 4969    3   39    1 1567   15 3521   13  156   18    4 1205  881 7874\n",
            "    8    4   17   12   13 4037    5   98  145 1234   11  236  696   12\n",
            "   48   22   91   37   10 7285  149   37 1337    1   49  396   11   95\n",
            " 1148  841  140    9    0    0    0    0    0    0    0    0    0    0\n",
            "    0    0    0    0    0    0    0    0    0    0    0    0    0    0\n",
            "    0    0    0    0    0    0    0    0    0    0    0    0    0    0\n",
            "    0    0    0    0    0    0    0    0    0    0    0    0    0    0\n",
            "    0    0    0    0    0    0    0    0    0    0    0    0    0    0\n",
            "    0    0    0    0    0    0    0    0    0    0    0    0    0    0\n",
            "    0    0    0    0    0    0    0    0    0    0    0    0    0    0\n",
            "    0    0    0    0    0    0    0    0    0    0    0    0    0    0\n",
            "    0    0    0    0    0    0    0    0    0    0    0    0    0    0\n",
            "    0    0    0    0    0    0    0    0    0    0    0    0], shape=(250,), dtype=int64)\n",
            "Label: 0\n"
          ]
        }
      ]
    },
    {
      "cell_type": "markdown",
      "source": [
        "## Datasets Prefecthing and Batching"
      ],
      "metadata": {
        "id": "4Gltmc1Qs-i1"
      }
    },
    {
      "cell_type": "code",
      "source": [
        "train_dataset = train_dataset.batch(BATCH_SIZE).prefetch(tf.data.AUTOTUNE)\n",
        "val_dataset = val_dataset.batch(BATCH_SIZE).prefetch(tf.data.AUTOTUNE)"
      ],
      "metadata": {
        "id": "3Xz_0XrWshwY"
      },
      "execution_count": 16,
      "outputs": []
    },
    {
      "cell_type": "markdown",
      "metadata": {
        "id": "xrvBxtH4XDVc"
      },
      "source": [
        "# Modeling\n",
        "\n",
        "<hr>\n",
        "<h4>Model Architecture (only Encoder)</h4>\n",
        "<hr>\n",
        "<img src='https://miro.medium.com/v2/resize:fit:490/1*THykpgtL058A9EpkstnUJQ.png'>"
      ]
    },
    {
      "cell_type": "markdown",
      "metadata": {
        "id": "d65NBU1S1Vde"
      },
      "source": [
        "***Step Wise Explanation:***\n",
        "- Transformer Encoder Block: In sentiment analysis, we usually leverage the transformer encoder architecture. It excels at capturing contextual information from the input text.\n",
        "- Contextual Vectors: The encoder processes the input text and produces contextual vectors for each word or subword in the sequence. These vectors contain rich information about the words and their relationships within the context of the sentence.\n",
        "- Flattening: After obtaining the contextual vectors, you can flatten or concatenate them into a single vector representation. This helps in summarizing the entire input sequence into a fixed-size representation.\n",
        "- Fully Connected Layer: The flattened vectors are then passed through a fully connected neural network layer. This layer typically consists of multiple neurons or units.\n",
        "- Sigmoid Activation: To perform binary sentiment classification (positive/negative), a sigmoid activation function is commonly used in the output layer. It squashes the values to the range [0, 1], making it suitable for binary classification."
      ]
    },
    {
      "cell_type": "markdown",
      "metadata": {
        "id": "82vlVMX1QsJM"
      },
      "source": [
        "<h4>Inside LSH-Attention Layer</h4>\n",
        "<img src='https://production-media.paperswithcode.com/methods/Screen_Shot_2020-06-01_at_6.28.07_PM.png'>"
      ]
    },
    {
      "cell_type": "markdown",
      "metadata": {
        "id": "pTCpHdYylY9t"
      },
      "source": [
        "***Step Wise Explanation:***\n",
        "\n",
        "- LSHAttention Mechanism: Unlike traditional attention mechanisms, LSHAttention (Locality Sensitive Hashing Attention) is an efficient approximate method designed to speed up the attention calculation. It uses hashing to group similar vectors (queries and keys) together, thus reducing the computational cost.\n",
        "- Bucketing: In the LSHAttention mechanism, a random rotation is applied to the input data to distribute it into different buckets based on similarity. By grouping these vectors, only vectors in the same or nearby buckets are compared, which is a more efficient approach than comparing every vector to every other vector.\n",
        "- Look-One-Back Strategy: Given the data in chunks (or buckets), a mechanism is employed to ensure that a chunk has some contextual information from the preceding chunk. This \"look-one-back\" strategy helps in providing continuity and better context when calculating attention scores within and across these chunks.\n",
        "- Attention Score Calculation: Within these buckets, attention scores are calculated, typically using the dot product between query and key vectors. These scores determine the weight or importance of each value vector.\n",
        "- Causal Masking (Optional): In scenarios like sequence-to-sequence tasks where future token information should not influence the current token, causal masking can be applied. This ensures that while calculating the attention score, only past and current information is utilized.\n",
        "- Weighted Sum: After obtaining the attention weights using softmax, these weights are used to get a weighted sum of value vectors. This produces the output of the LSHAttention mechanism for each input query, giving us a new representation for our input sequence.\n",
        "- Restoring Original Order: Since data gets reordered during bucketing, post-attention computation, the order of the sequence is restored to its original form using indices saved during the bucketing process.\n"
      ]
    },
    {
      "cell_type": "markdown",
      "metadata": {
        "id": "hmPY5aUXXORJ"
      },
      "source": [
        "## Reformer Architecture using LSH(Locality Sensitive Hashing) Attention"
      ]
    },
    {
      "cell_type": "markdown",
      "metadata": {
        "id": "dv3t-6btPj-f"
      },
      "source": [
        "<img src=\"https://www.mihaileric.com/static/feedforward_layer_and_normalization-dfdcfbd00009f7f99eca73ae29f2dfb7-4ec3a.png\">"
      ]
    },
    {
      "cell_type": "markdown",
      "metadata": {
        "id": "NKhhYacdHlku"
      },
      "source": [
        "### Positional Encoding"
      ]
    },
    {
      "cell_type": "code",
      "execution_count": 17,
      "metadata": {
        "id": "qq2bXmPlHlCJ"
      },
      "outputs": [],
      "source": [
        "def positional_encoding(model_size, SEQUENCE_LENGTH): # d_model\n",
        "  output = []\n",
        "  for pos in range(SEQUENCE_LENGTH):\n",
        "    PE = np.zeros((model_size)) # initilizing with zeros\n",
        "    for i in range(model_size):\n",
        "      if i % 2 == 0: # even positions, sin formula is used according to paper\n",
        "        PE[i] = np.sin(pos/(10000**(i/model_size)))\n",
        "      else: # odd positions, cos formula is used as mentioned in the paper\n",
        "        PE[i] = np.cos(pos/(10000**((i-1)/model_size)))\n",
        "    output.append(tf.expand_dims(PE, axis = 0))\n",
        "\n",
        "  out = tf.concat(output, axis=0)\n",
        "  out = tf.expand_dims(out, axis=0)\n",
        "  return tf.cast(out, dtype=tf.float32)"
      ]
    },
    {
      "cell_type": "code",
      "execution_count": null,
      "metadata": {
        "id": "KWIb_9ypKJ80",
        "colab": {
          "base_uri": "https://localhost:8080/"
        },
        "outputId": "6b8922c3-d252-4e9e-9fbb-5da0bb378ae0"
      },
      "outputs": [
        {
          "output_type": "stream",
          "name": "stdout",
          "text": [
            "(1, 32, 256)\n"
          ]
        }
      ],
      "source": [
        "print(positional_encoding(256, 32).shape)"
      ]
    },
    {
      "cell_type": "markdown",
      "metadata": {
        "id": "RwiXTKylN9Nb"
      },
      "source": [
        "### Input Embeddings"
      ]
    },
    {
      "cell_type": "code",
      "execution_count": 18,
      "metadata": {
        "id": "Fb-2bfFuN753"
      },
      "outputs": [],
      "source": [
        "class Embeddings(Layer):\n",
        "  def __init__(self, sequence_length, vocab_size, embedding_dim):\n",
        "    super(Embeddings, self).__init__()\n",
        "    self.token_embeddings = Embedding(input_dim=vocab_size, output_dim=embedding_dim)\n",
        "    self.sequence_length = sequence_length\n",
        "    self.vocab_size = vocab_size\n",
        "    self.embedding_dim = embedding_dim\n",
        "\n",
        "  def call(self, inputs):\n",
        "    embedded_tokens = self.token_embeddings(inputs)\n",
        "    embedded_positions = positional_encoding(self.embedding_dim, self.sequence_length) # PE adding here\n",
        "    return embedded_tokens + embedded_positions # final output for inputs\n",
        "\n",
        "  def compute_mask(self, inputs, mask=None):\n",
        "    return tf.math.not_equal(inputs, 0) # masking function for checking if there are pad tokens(0)\n",
        "\n"
      ]
    },
    {
      "cell_type": "code",
      "source": [
        "def look_one_back(x):\n",
        "  \"\"\"This function takes a tensor and creates a version of it where each entry also has access to the entry just before it\n",
        "   (with the first entry looking at the last). This gives each chunk in LSH a small \"look-back\" to capture dependencies that\n",
        "    might be present just outside its boundaries.\"\"\"\n",
        "  x_extra = tf.concat([x[:, -1:, ...],x[:, :-1, ...]], axis=1)\n",
        "  return tf.concat([x, x_extra], axis=2)\n",
        "\n",
        "def sticker_look_one_back(x):\n",
        "  \"\"\"Similar to the look_one_back function but specifically\n",
        "  designed for the sticker (the sorted indices tensor).\"\"\"\n",
        "  x_extra = tf.concat([x[:, -1:],x[:, :-1]], axis=1)\n",
        "  # print(\"Shape of x:\", tf.shape(x))\n",
        "  # print(\"Shape of x_extra:\", tf.shape(x_extra))\n",
        "  return tf.concat([x, x_extra], axis=-1)\n",
        "\n",
        "def causal_masker(a,b):\n",
        "  \"\"\"Creates a mask that ensures information only flows from past tokens to current tokens,\n",
        "   and not the other way around. \"\"\"\n",
        "  a,b = tf.cast(a,dtype=tf.float32)+0.01, tf.cast(b,dtype=tf.float32)+0.01\n",
        "  vals = tf.einsum('ipj,ipk->ipjk', b, 1/a) # calculating attention scores for each query and placing close to 0 values\n",
        "  # to the future tokens and taking only the past into consideration, normally in trasnformers its straigh forward becuase of\n",
        "  # single contextual vectors and comparsion but since tbis is broken into buckets a little more details is taken into consideration\n",
        "  # but the mechanism is similar\n",
        "  out = tf.cast(tf.cast(tf.cast(vals,dtype=tf.int32),dtype=tf.bool),dtype=tf.int32) # converting to 1s and 0s\n",
        "  out = -out+1 # now reversing the 1s to become 0s and 0s to become 1s\n",
        "  return tf.cast(out,dtype=tf.float32) # typecasting\n",
        "\n",
        "class LSHAttention(tf.keras.layers.Layer):\n",
        "    def __init__(self,bucket_size=8,n_hashes=1):\n",
        "        super(LSHAttention,self).__init__()\n",
        "        self.n_hashes = n_hashes\n",
        "        self.bucket_size = bucket_size\n",
        "\n",
        "    def call(self,query,key,value,causal_masking=False):\n",
        "        R = tf.random.normal((tf.shape(query)[0], tf.shape(query)[-1], self.bucket_size//2))\n",
        "        xR = tf.matmul(query, R) # creating values for similar data to fall under same bucket\n",
        "        concat_xR = tf.concat([xR, -xR], axis=-1) # concatenating the negative and postiove of xR\n",
        "        buckets = tf.math.argmax(concat_xR, axis=-1) # finding the bucket\n",
        "\n",
        "        sticker = tf.argsort(buckets) # preserving the original order of the data points\n",
        "        undo_sort = tf.argsort(sticker) # to reverse back to old order\n",
        "        sorted_query = tf.gather(query, sticker, axis=1, batch_dims=1) # sorts the original order of query to sticker positions\n",
        "        sorted_value = tf.gather(value, sticker, axis=1, batch_dims=1)\n",
        "\n",
        "        chunked_query = tf.stack(tf.split(sorted_query, self.bucket_size, 1), 1) # dividing queries and values to chunks for easy computation\n",
        "        chunked_value = tf.stack(tf.split(sorted_value, self.bucket_size, 1), 1)\n",
        "\n",
        "        sticker = tf.stack(tf.split(sticker, self.bucket_size, 1), 1)\n",
        "        new_sticker = sticker_look_one_back(sticker)\n",
        "\n",
        "        lb_chunked_query = look_one_back(chunked_query) #  It can be thought of as a mechanism to provide some context from the previous chunk to the current one\n",
        "        lb_chunked_value = look_one_back(chunked_value)\n",
        "\n",
        "        score = tf.einsum('bhie,bhje->bhij', chunked_query, lb_chunked_query) # using dot product attention scores are calculated\n",
        "        score /= tf.math.sqrt(tf.cast(query.shape[-1], tf.float32)) # scaling for softmax calculation\n",
        "\n",
        "        if causal_masking == True:\n",
        "            causal_mask = causal_masker(sticker, new_sticker) # no peeking into the future tokens mechanism for prediction\n",
        "            dots += causal_mask * -1e-10 # applied by adding a large negative value (using the causal mask) to the attention scores\n",
        "            # not needed for classification tasks but for predicting future tokens like for translation this can be crucial\n",
        "        score = tf.nn.softmax(score) # softmax function applied to get attention weights\n",
        "        output = tf.einsum('buij,buje->buie', score, lb_chunked_value) # These weights determine how much\n",
        "        # each value in the lb_chunked_value should contribute to the output\n",
        "\n",
        "        sorted_output = tf.reshape(output, (tf.shape(output)[0], tf.shape(query)[1], output.shape[3]))\n",
        "        output = tf.gather(sorted_output, undo_sort, axis=1, batch_dims=1)\n",
        "        # First, the output is reshaped to match the original shape of the input query.\n",
        "        # Then, it is reordered back to its original order using the undo_sort indices.\n",
        "        # This ensures that the final output has the same ordering as the input queries.\n",
        "        return output"
      ],
      "metadata": {
        "id": "A3TXzmiKx-HV"
      },
      "execution_count": 37,
      "outputs": []
    },
    {
      "cell_type": "markdown",
      "source": [
        "**Lets explain this:** <br>\n",
        "query tf.Tensor(<br>\n",
        "[[[0.31179297 0.8263413 ]<br>\n",
        "  [0.6849456  0.0067091 ]<br>\n",
        "  [0.78749514 0.3906511 ]<br>\n",
        "  [0.29263055 0.99216926]<br>\n",
        "  [0.95810425 0.55623317]<br>\n",
        "  [0.16466296 0.13445711]<br>\n",
        "  [0.13229859 0.5348098 ]<br>\n",
        "  [0.57090175 0.50970507]]], shape=(1, 8, 2), dtype=float32)<br>\n",
        " - The query is passed, then using angular hash function the values are calculated and similar values are divided to different buckets.\n",
        "  \n",
        "buckets tf.Tensor([[3 4 3 3 3 3 3 3]], shape=(1, 8), dtype=int64)<br>\n",
        "\n",
        "sticker tf.Tensor([[0 2 3 4 5 6 7 1]], shape=(1, 8), dtype=int32)<br>\n",
        "\n",
        "- In order to return back to original order the stickers help preserving the old positions of the values.\n",
        "\n",
        "undo_sort tf.Tensor([[0 7 1 2 3 4 5 6]], shape=(1, 8), dtype=int32)<br>\n",
        "\n",
        "sorted query tf.Tensor(<br>\n",
        "[[[0.31179297 0.8263413 ]<br>\n",
        "  [0.78749514 0.3906511 ]<br>\n",
        "  [0.29263055 0.99216926]<br>\n",
        "  [0.95810425 0.55623317]<br>\n",
        "  [0.16466296 0.13445711]<br>\n",
        "  [0.13229859 0.5348098 ]<br>\n",
        "  [0.57090175 0.50970507]<br>\n",
        "  [0.6849456  0.0067091 ]]], shape=(1, 8, 2), dtype=float32)<br>\n",
        "\n",
        "- The sorted query then helps placing the original query to sticker positions.\n",
        "[0.31179297 0.8263413 ] for example these values are placed as they are in stickers which position 0 in the sorted query, but for the next values,  [0.6849456  0.0067091 ] which is at position 1 in query is sorted to last position because of its bucket value being 4 which is the highest and the rest is below that, thats why the sticker value shows last index wise but the original postion of the value is 1 and so on for all other values.\n",
        "\n",
        "sorted value tf.Tensor(<br>\n",
        "[[[0.31179297 0.8263413 ]<br>\n",
        "  [0.78749514 0.3906511 ]<br>\n",
        "  [0.29263055 0.99216926]<br>\n",
        "  [0.95810425 0.55623317]<br>\n",
        "  [0.16466296 0.13445711]<br>\n",
        "  [0.13229859 0.5348098 ]<br>\n",
        "  [0.57090175 0.50970507]<br>\n",
        "  [0.6849456  0.0067091 ]]], shape=(1, 8, 2), dtype=float32)\n",
        "  <br>\n",
        "\n",
        "- The sorted values remain same as sorted query.\n",
        "\n",
        "- The next step which is divide into chunks.\n",
        "\n",
        "chunked query tf.Tensor(<br>\n",
        "[[[[0.31179297 0.8263413 ]]\n",
        "\n",
        "  [[0.78749514 0.3906511 ]]\n",
        "\n",
        "  [[0.29263055 0.99216926]]\n",
        "\n",
        "  [[0.95810425 0.55623317]]\n",
        "\n",
        "  [[0.16466296 0.13445711]]\n",
        "\n",
        "  [[0.13229859 0.5348098 ]]\n",
        "\n",
        "  [[0.57090175 0.50970507]]\n",
        "\n",
        "  [[0.6849456  0.0067091 ]]]], shape=(1, 8, 1, 2), dtype=float32)\n",
        "- as it can be seen the values are divided into chunks belonging to different buckets.\n",
        "- Shape Explanation:<br>\n",
        "(1, 8, 1, 2)\n",
        "The first dimension 1: Represents a batch size of 1. It indicates that there's one set of data being processed.<br>\n",
        "The second dimension 8: Indicates that there are 8 vectors in this batch.<br>\n",
        "The third dimension 1: It seems that each vector is in its own separate \"group\" or \"chunk\". This can be useful for operations that require individual attention to each vector, ensuring no cross-referencing between vectors.<br>\n",
        "The fourth dimension 2: Shows that each vector in the batch consists of 2 elements.\n",
        "\n",
        "  "
      ],
      "metadata": {
        "id": "YXrp2XaBw0Jm"
      }
    },
    {
      "cell_type": "code",
      "source": [
        "### Test for representing attention mechanism ###\n",
        "# a = tf.constant([[[[1], [0]], [[2], [0]], [[3], [0]], [[4], [0]]]])\n",
        "# print(a)\n",
        "# print('Query:', tf.concat([a[:, -1:], a[:, :-1]], axis=1))\n",
        "# print('Key:', tf.concat([a, tf.concat([a[:, -1:], a[:, :-1]], axis=1)], axis=2))"
      ],
      "metadata": {
        "colab": {
          "base_uri": "https://localhost:8080/"
        },
        "id": "pMVlwrvM5-TH",
        "outputId": "b6de9df1-8cd7-47fe-d78f-8572ec83cb56"
      },
      "execution_count": 32,
      "outputs": [
        {
          "output_type": "stream",
          "name": "stdout",
          "text": [
            "tf.Tensor(\n",
            "[[[[1]\n",
            "   [0]]\n",
            "\n",
            "  [[2]\n",
            "   [0]]\n",
            "\n",
            "  [[3]\n",
            "   [0]]\n",
            "\n",
            "  [[4]\n",
            "   [0]]]], shape=(1, 4, 2, 1), dtype=int32)\n",
            "Query: tf.Tensor(\n",
            "[[[[4]\n",
            "   [0]]\n",
            "\n",
            "  [[1]\n",
            "   [0]]\n",
            "\n",
            "  [[2]\n",
            "   [0]]\n",
            "\n",
            "  [[3]\n",
            "   [0]]]], shape=(1, 4, 2, 1), dtype=int32)\n",
            "Key: tf.Tensor(\n",
            "[[[[1]\n",
            "   [0]\n",
            "   [4]\n",
            "   [0]]\n",
            "\n",
            "  [[2]\n",
            "   [0]\n",
            "   [1]\n",
            "   [0]]\n",
            "\n",
            "  [[3]\n",
            "   [0]\n",
            "   [2]\n",
            "   [0]]\n",
            "\n",
            "  [[4]\n",
            "   [0]\n",
            "   [3]\n",
            "   [0]]]], shape=(1, 4, 4, 1), dtype=int32)\n"
          ]
        }
      ]
    },
    {
      "cell_type": "markdown",
      "source": [
        "The above example is a simple example as how self attention between chunks will occur."
      ],
      "metadata": {
        "id": "_I3qEirO7S6C"
      }
    },
    {
      "cell_type": "markdown",
      "metadata": {
        "id": "dqhsy5auXVnN"
      },
      "source": [
        "### Encoder Layer"
      ]
    },
    {
      "cell_type": "code",
      "execution_count": 33,
      "metadata": {
        "id": "26gOOnLNV2iP"
      },
      "outputs": [],
      "source": [
        "from tensorflow.python.ops.math_ops import bucketize\n",
        "class TransformerEncoder(Layer):\n",
        "  def __init__(self, embedding_dims, dense_dims, bucket_size=5, n_hashes=1):\n",
        "    super(TransformerEncoder, self).__init__()\n",
        "    self.embedding_dims = embedding_dims\n",
        "    self.dense_dims = dense_dims\n",
        "    self.attention = LSHAttention(bucket_size=bucket_size)\n",
        "\n",
        "    self.dense_proj = tf.keras.Sequential([\n",
        "        Dense(self.dense_dims, activation=\"relu\"),\n",
        "        Dense(self.embedding_dims),\n",
        "    ])\n",
        "    self.layernorm_1 = LayerNormalization()\n",
        "    self.layernorm_2 = LayerNormalization()\n",
        "    self.supports_masking = True\n",
        "\n",
        "  def call(self, inputs, mask=None):\n",
        "    # print(mask)\n",
        "    if mask is not None:\n",
        "      mask = tf.cast(mask[:, tf.newaxis, :], dtype='int32')\n",
        "      # print(mask)\n",
        "      T = tf.shape(mask)[2]\n",
        "      padding_mask = tf.repeat(mask, T, axis=1)\n",
        "      # print(padding_mask)\n",
        "\n",
        "    attention_output = self.attention(query=inputs, value=inputs, key=inputs, causal_masking=False)\n",
        "\n",
        "    proj_input = self.layernorm_1(inputs + attention_output)\n",
        "    proj_output = self.dense_proj(proj_input)\n",
        "    return self.layernorm_2(proj_input + proj_output)"
      ]
    },
    {
      "cell_type": "code",
      "execution_count": 25,
      "metadata": {
        "id": "xvMJ79aMWUsJ"
      },
      "outputs": [],
      "source": [
        "##### Test for Encoder #####\n",
        "# test_input = tf.random.uniform((1, 10, 256))\n",
        "# test_mask = tf.cast(tf.random.uniform((1, 10)) > 0.5, tf.int32)\n",
        "# encoder = TransformerEncoder(embedding_dims=256, dense_dims=512, num_heads=8)(output_embed)\n",
        "# print(encoder.shape)\n"
      ]
    },
    {
      "cell_type": "markdown",
      "metadata": {
        "id": "D1l831Exqv7s"
      },
      "source": [
        "### Full Transfomers Model for sentiment classification"
      ]
    },
    {
      "cell_type": "code",
      "execution_count": 26,
      "metadata": {
        "id": "8-ybmslsa6SZ"
      },
      "outputs": [],
      "source": [
        "EMBEDDING_DIMS = 128\n",
        "NUM_LAYERS = 1\n",
        "NUM_EPOCHS = 10\n",
        "LATENT_DIMS = 1024"
      ]
    },
    {
      "cell_type": "code",
      "execution_count": 34,
      "metadata": {
        "id": "mHQAwl21oYHK",
        "colab": {
          "base_uri": "https://localhost:8080/"
        },
        "outputId": "f04d569e-98fb-463f-ae18-efcdeaf3a724"
      },
      "outputs": [
        {
          "output_type": "stream",
          "name": "stdout",
          "text": [
            "Shape of x: Tensor(\"transformer_encoder_3/lsh_attention_3/Shape_2:0\", shape=(3,), dtype=int32)\n",
            "Shape of x_extra: Tensor(\"transformer_encoder_3/lsh_attention_3/Shape_3:0\", shape=(3,), dtype=int32)\n",
            "Model: \"LSH_reformer_transformer\"\n",
            "_________________________________________________________________\n",
            " Layer (type)                Output Shape              Param #   \n",
            "=================================================================\n",
            " input (InputLayer)          [(None, None)]            0         \n",
            "                                                                 \n",
            " embeddings_4 (Embeddings)   (None, 250, 128)          1280000   \n",
            "                                                                 \n",
            " transformer_encoder_3 (Tra  (None, 250, 128)          263808    \n",
            " nsformerEncoder)                                                \n",
            "                                                                 \n",
            " flatten (Flatten)           (None, 32000)             0         \n",
            "                                                                 \n",
            " dense_8 (Dense)             (None, 1)                 32001     \n",
            "                                                                 \n",
            "=================================================================\n",
            "Total params: 1575809 (6.01 MB)\n",
            "Trainable params: 1575809 (6.01 MB)\n",
            "Non-trainable params: 0 (0.00 Byte)\n",
            "_________________________________________________________________\n"
          ]
        }
      ],
      "source": [
        "encoder_inputs = Input(shape=(None,), dtype='int64', name='input')\n",
        "embeddings = Embeddings(SEQUENCE_LENGTH, VOCAB_SIZE, EMBEDDING_DIMS)\n",
        "x = embeddings(encoder_inputs)\n",
        "\n",
        "\n",
        "\n",
        "for _ in range(NUM_LAYERS): # there can be N number of layers as mentioned by paper\n",
        "  x = TransformerEncoder(EMBEDDING_DIMS, LATENT_DIMS)(x)\n",
        "\n",
        "x = Flatten()(x) # flattening all the contextual vectors\n",
        "\n",
        "output = Dense(1, activation='sigmoid')(x) # classification\n",
        "\n",
        "sentiment_transformer = tf.keras.Model(encoder_inputs, output, name='LSH_reformer_transformer')\n",
        "\n",
        "sentiment_transformer.summary()"
      ]
    },
    {
      "cell_type": "markdown",
      "metadata": {
        "id": "vNl7CPS0dcUY"
      },
      "source": [
        "# Training"
      ]
    },
    {
      "cell_type": "markdown",
      "metadata": {
        "id": "tnXEaY5usBks"
      },
      "source": [
        "## BLEU Metric"
      ]
    },
    {
      "cell_type": "code",
      "execution_count": null,
      "metadata": {
        "id": "Sn2pQG6frq4E"
      },
      "outputs": [],
      "source": [
        "class BLEU(tf.keras.metrics.Metric):\n",
        "    def __init__(self,name='bleu_score'):\n",
        "        super(BLEU,self).__init__()\n",
        "        self.bleu_score=0\n",
        "\n",
        "    def update_state(self,y_true,y_pred,sample_weight=None):\n",
        "      y_pred=tf.argmax(y_pred,-1)\n",
        "      self.bleu_score=0\n",
        "      for i,j in zip(y_pred,y_true):\n",
        "        tf.autograph.experimental.set_loop_options()\n",
        "\n",
        "        total_words=tf.math.count_nonzero(i)\n",
        "        total_matches=0\n",
        "        for word in i:\n",
        "          if word==0:\n",
        "            break\n",
        "          for q in range(len(j)):\n",
        "            if j[q]==0:\n",
        "              break\n",
        "            if word==j[q]:\n",
        "              total_matches+=1\n",
        "              j=tf.boolean_mask(j,[False if y==q else True for y in range(len(j))])\n",
        "              break\n",
        "\n",
        "        self.bleu_score+=total_matches/total_words\n",
        "\n",
        "    def result(self):\n",
        "        return self.bleu_score/BATCH_SIZE"
      ]
    },
    {
      "cell_type": "markdown",
      "source": [
        "## Compilation and Fitting"
      ],
      "metadata": {
        "id": "7ijzzKjsZ6bD"
      }
    },
    {
      "cell_type": "code",
      "execution_count": 38,
      "metadata": {
        "id": "nyfhZadAsGCI"
      },
      "outputs": [],
      "source": [
        "sentiment_transformer.compile(\n",
        "    loss=tf.keras.losses.BinaryCrossentropy(),\n",
        "    optimizer=tf.keras.optimizers.Adam(learning_rate=1e-4),\n",
        "    metrics=['accuracy'],\n",
        ")\n",
        "\n"
      ]
    },
    {
      "cell_type": "code",
      "execution_count": 39,
      "metadata": {
        "id": "5da6zVwPsYzq",
        "colab": {
          "base_uri": "https://localhost:8080/"
        },
        "outputId": "bc28877c-fd1a-45c4-868d-f01a8a0f8346"
      },
      "outputs": [
        {
          "output_type": "stream",
          "name": "stdout",
          "text": [
            "Epoch 1/10\n",
            "391/391 [==============================] - 48s 104ms/step - loss: 0.7241 - accuracy: 0.5046 - val_loss: 0.7141 - val_accuracy: 0.4967\n",
            "Epoch 2/10\n",
            "391/391 [==============================] - 11s 29ms/step - loss: 0.7083 - accuracy: 0.5193 - val_loss: 0.7071 - val_accuracy: 0.4968\n",
            "Epoch 3/10\n",
            "391/391 [==============================] - 11s 29ms/step - loss: 0.6948 - accuracy: 0.5381 - val_loss: 0.7067 - val_accuracy: 0.4971\n",
            "Epoch 4/10\n",
            "391/391 [==============================] - 12s 30ms/step - loss: 0.6592 - accuracy: 0.6004 - val_loss: 0.6253 - val_accuracy: 0.6938\n",
            "Epoch 5/10\n",
            "391/391 [==============================] - 11s 29ms/step - loss: 0.5573 - accuracy: 0.7164 - val_loss: 0.6424 - val_accuracy: 0.6232\n",
            "Epoch 6/10\n",
            "391/391 [==============================] - 12s 29ms/step - loss: 0.4257 - accuracy: 0.8062 - val_loss: 0.4459 - val_accuracy: 0.7912\n",
            "Epoch 7/10\n",
            "391/391 [==============================] - 12s 30ms/step - loss: 0.3548 - accuracy: 0.8438 - val_loss: 0.4931 - val_accuracy: 0.7621\n",
            "Epoch 8/10\n",
            "391/391 [==============================] - 12s 30ms/step - loss: 0.3226 - accuracy: 0.8624 - val_loss: 0.4414 - val_accuracy: 0.7944\n",
            "Epoch 9/10\n",
            "391/391 [==============================] - 12s 30ms/step - loss: 0.2949 - accuracy: 0.8759 - val_loss: 0.4191 - val_accuracy: 0.8098\n",
            "Epoch 10/10\n",
            "391/391 [==============================] - 12s 31ms/step - loss: 0.2833 - accuracy: 0.8800 - val_loss: 0.3454 - val_accuracy: 0.8502\n"
          ]
        }
      ],
      "source": [
        "history = sentiment_transformer.fit(\n",
        "    train_dataset,\n",
        "    epochs=10,\n",
        "    validation_data=val_dataset)"
      ]
    },
    {
      "cell_type": "code",
      "source": [
        "sentiment_transformer.save('transformer.hdf5')"
      ],
      "metadata": {
        "id": "dco-2a-QfMUS"
      },
      "execution_count": null,
      "outputs": []
    },
    {
      "cell_type": "markdown",
      "metadata": {
        "id": "MgsxM6FRu7Uy"
      },
      "source": [
        "# Testing and Evaluation"
      ]
    },
    {
      "cell_type": "markdown",
      "source": [
        "## Model loss and accuracy plots"
      ],
      "metadata": {
        "id": "a6RaruE8sDYa"
      }
    },
    {
      "cell_type": "code",
      "execution_count": 40,
      "metadata": {
        "id": "ne1Lhnn9mTPW",
        "colab": {
          "base_uri": "https://localhost:8080/",
          "height": 472
        },
        "outputId": "32944f89-0579-48b4-a5be-578f6f05fe40"
      },
      "outputs": [
        {
          "output_type": "display_data",
          "data": {
            "text/plain": [
              "<Figure size 640x480 with 1 Axes>"
            ],
            "image/png": "[encoded data removed]"
          },
          "metadata": {}
        }
      ],
      "source": [
        "plt.plot(history.history['loss'])\n",
        "plt.plot(history.history['val_loss'])\n",
        "plt.title('Model Loss and Validation Loss')\n",
        "plt.xlabel('Epoch')\n",
        "plt.ylabel('Loss')\n",
        "plt.legend(['Train', 'Val'])\n",
        "plt.show()\n"
      ]
    },
    {
      "cell_type": "code",
      "source": [
        "plt.plot(history.history['accuracy'])\n",
        "plt.plot(history.history['val_accuracy'])\n",
        "plt.title('Model Accuracy and Validation Accuracy')\n",
        "plt.xlabel('Epoch')\n",
        "plt.ylabel('Accuracu')\n",
        "plt.legend(['Train', 'Val'])\n",
        "plt.show()\n"
      ],
      "metadata": {
        "colab": {
          "base_uri": "https://localhost:8080/",
          "height": 472
        },
        "id": "nR7XhF9-VzEc",
        "outputId": "85da6da0-1927-479c-e2c9-b1723f7ea747"
      },
      "execution_count": 41,
      "outputs": [
        {
          "output_type": "display_data",
          "data": {
            "text/plain": [
              "<Figure size 640x480 with 1 Axes>"
            ],
            "image/png": "[encoded data removed]"
          },
          "metadata": {}
        }
      ]
    },
    {
      "cell_type": "markdown",
      "source": [
        "##Evaluation"
      ],
      "metadata": {
        "id": "0K4qP_j2sHVQ"
      }
    },
    {
      "cell_type": "code",
      "source": [
        "test_dataset=test_ds.map(vectorizer) # vectorizing\n",
        "test_dataset=test_dataset.batch(BATCH_SIZE) # batching\n",
        "sentiment_transformer.evaluate(test_dataset)"
      ],
      "metadata": {
        "id": "CzldWzDNsJ7a",
        "colab": {
          "base_uri": "https://localhost:8080/"
        },
        "outputId": "64962fda-f318-46c9-9fc6-f2396d1bf915"
      },
      "execution_count": 54,
      "outputs": [
        {
          "output_type": "stream",
          "name": "stdout",
          "text": [
            "196/196 [==============================] - 3s 16ms/step - loss: 0.3467 - accuracy: 0.8459\n"
          ]
        },
        {
          "output_type": "execute_result",
          "data": {
            "text/plain": [
              "[0.3466813564300537, 0.8459200263023376]"
            ]
          },
          "metadata": {},
          "execution_count": 54
        }
      ]
    },
    {
      "cell_type": "markdown",
      "source": [
        "***85% approx accuracy, given the training was just 10 epochs.***"
      ],
      "metadata": {
        "id": "WmYoM6LmgiSt"
      }
    },
    {
      "cell_type": "markdown",
      "source": [
        "# Testing"
      ],
      "metadata": {
        "id": "7abAsLb8WSPN"
      }
    },
    {
      "cell_type": "code",
      "source": [
        "test_data = tf.data.Dataset.from_tensor_slices([[\"this movie looks very interesting, i love the fact that the actors do a great job in showing how people lived in the 18th century, they lived in a hole \"],\n",
        "                                              [\"very good start, but movie started becoming uninteresting at some point though initially i thought it would have been much more fun. There was too much background noise, so in all i didn't like this movie \"],])\n"
      ],
      "metadata": {
        "id": "OmwR5gYwWL6I"
      },
      "execution_count": 49,
      "outputs": []
    },
    {
      "cell_type": "code",
      "source": [
        "def vectorizer_test(review):\n",
        "  return vectorize_layer(review)\n",
        "\n",
        "test_dataset = test_data.map(vectorizer_test)\n",
        "\n",
        "\n"
      ],
      "metadata": {
        "id": "lszAB9ElWVXQ"
      },
      "execution_count": 50,
      "outputs": []
    },
    {
      "cell_type": "code",
      "source": [
        "for review in test_dataset:\n",
        "  if sentiment_transformer.predict(review) > 0.6:\n",
        "    print(\"Positive\", sentiment_transformer.predict(review))\n",
        "  else:\n",
        "    print(\"Negative\", sentiment_transformer.predict(review))\n",
        "\n"
      ],
      "metadata": {
        "colab": {
          "base_uri": "https://localhost:8080/"
        },
        "id": "-1Uo1v8yWkHq",
        "outputId": "a025e539-5d36-49ee-95e7-7f82432a9c81"
      },
      "execution_count": 51,
      "outputs": [
        {
          "output_type": "stream",
          "name": "stdout",
          "text": [
            "1/1 [==============================] - 0s 21ms/step\n",
            "1/1 [==============================] - 0s 20ms/step\n",
            "Positive [[0.6181811]]\n",
            "1/1 [==============================] - 0s 19ms/step\n",
            "1/1 [==============================] - 0s 20ms/step\n",
            "Negative [[0.30539992]]\n"
          ]
        }
      ]
    },
    {
      "cell_type": "markdown",
      "source": [
        "# Evaluation Metrics"
      ],
      "metadata": {
        "id": "mbW-elmvYKC9"
      }
    },
    {
      "cell_type": "code",
      "source": [
        "y_true = []\n",
        "y_pred = []\n",
        "\n",
        "for X_batch, y_batch in test_dataset:\n",
        "    y_true.extend(y_batch)\n",
        "    y_pred_batch = sentiment_transformer.predict(X_batch)\n",
        "    y_pred.extend(np.round(y_pred_batch).flatten())\n",
        "\n",
        "y_true = np.array(y_true)\n",
        "y_pred = np.array(y_pred)"
      ],
      "metadata": {
        "id": "sdqrr_GgaTFv",
        "colab": {
          "base_uri": "https://localhost:8080/"
        },
        "outputId": "6edf0132-1924-453f-c3b6-0ace67e678e5"
      },
      "execution_count": 55,
      "outputs": [
        {
          "output_type": "stream",
          "name": "stdout",
          "text": [
            "2/2 [==============================] - 0s 9ms/step\n",
            "2/2 [==============================] - 0s 9ms/step\n",
            "2/2 [==============================] - 0s 9ms/step\n",
            "2/2 [==============================] - 0s 9ms/step\n",
            "2/2 [==============================] - 0s 8ms/step\n",
            "2/2 [==============================] - 0s 9ms/step\n",
            "2/2 [==============================] - 0s 9ms/step\n",
            "2/2 [==============================] - 0s 9ms/step\n",
            "2/2 [==============================] - 0s 9ms/step\n",
            "2/2 [==============================] - 0s 9ms/step\n",
            "2/2 [==============================] - 0s 9ms/step\n",
            "2/2 [==============================] - 0s 8ms/step\n",
            "2/2 [==============================] - 0s 9ms/step\n",
            "2/2 [==============================] - 0s 9ms/step\n",
            "2/2 [==============================] - 0s 9ms/step\n",
            "2/2 [==============================] - 0s 8ms/step\n",
            "2/2 [==============================] - 0s 9ms/step\n",
            "2/2 [==============================] - 0s 8ms/step\n",
            "2/2 [==============================] - 0s 9ms/step\n",
            "2/2 [==============================] - 0s 8ms/step\n",
            "2/2 [==============================] - 0s 9ms/step\n",
            "2/2 [==============================] - 0s 9ms/step\n",
            "2/2 [==============================] - 0s 9ms/step\n",
            "2/2 [==============================] - 0s 9ms/step\n",
            "2/2 [==============================] - 0s 9ms/step\n",
            "2/2 [==============================] - 0s 8ms/step\n",
            "2/2 [==============================] - 0s 9ms/step\n",
            "2/2 [==============================] - 0s 9ms/step\n",
            "2/2 [==============================] - 0s 8ms/step\n",
            "2/2 [==============================] - 0s 9ms/step\n",
            "2/2 [==============================] - 0s 8ms/step\n",
            "2/2 [==============================] - 0s 9ms/step\n",
            "2/2 [==============================] - 0s 9ms/step\n",
            "2/2 [==============================] - 0s 9ms/step\n",
            "2/2 [==============================] - 0s 9ms/step\n",
            "2/2 [==============================] - 0s 9ms/step\n",
            "2/2 [==============================] - 0s 9ms/step\n",
            "2/2 [==============================] - 0s 8ms/step\n",
            "2/2 [==============================] - 0s 8ms/step\n",
            "2/2 [==============================] - 0s 9ms/step\n",
            "2/2 [==============================] - 0s 9ms/step\n",
            "2/2 [==============================] - 0s 9ms/step\n",
            "2/2 [==============================] - 0s 9ms/step\n",
            "2/2 [==============================] - 0s 9ms/step\n",
            "2/2 [==============================] - 0s 9ms/step\n",
            "2/2 [==============================] - 0s 9ms/step\n",
            "2/2 [==============================] - 0s 9ms/step\n",
            "2/2 [==============================] - 0s 9ms/step\n",
            "2/2 [==============================] - 0s 9ms/step\n",
            "2/2 [==============================] - 0s 10ms/step\n",
            "2/2 [==============================] - 0s 9ms/step\n",
            "2/2 [==============================] - 0s 9ms/step\n",
            "2/2 [==============================] - 0s 9ms/step\n",
            "2/2 [==============================] - 0s 9ms/step\n",
            "2/2 [==============================] - 0s 9ms/step\n",
            "2/2 [==============================] - 0s 9ms/step\n",
            "2/2 [==============================] - 0s 9ms/step\n",
            "2/2 [==============================] - 0s 9ms/step\n",
            "2/2 [==============================] - 0s 9ms/step\n",
            "2/2 [==============================] - 0s 9ms/step\n",
            "2/2 [==============================] - 0s 10ms/step\n",
            "2/2 [==============================] - 0s 9ms/step\n",
            "2/2 [==============================] - 0s 9ms/step\n",
            "2/2 [==============================] - 0s 9ms/step\n",
            "2/2 [==============================] - 0s 10ms/step\n",
            "2/2 [==============================] - 0s 9ms/step\n",
            "2/2 [==============================] - 0s 9ms/step\n",
            "2/2 [==============================] - 0s 9ms/step\n",
            "2/2 [==============================] - 0s 9ms/step\n",
            "2/2 [==============================] - 0s 9ms/step\n",
            "2/2 [==============================] - 0s 9ms/step\n",
            "2/2 [==============================] - 0s 9ms/step\n",
            "2/2 [==============================] - 0s 8ms/step\n",
            "2/2 [==============================] - 0s 9ms/step\n",
            "2/2 [==============================] - 0s 9ms/step\n",
            "2/2 [==============================] - 0s 9ms/step\n",
            "2/2 [==============================] - 0s 9ms/step\n",
            "2/2 [==============================] - 0s 9ms/step\n",
            "2/2 [==============================] - 0s 9ms/step\n",
            "2/2 [==============================] - 0s 9ms/step\n",
            "2/2 [==============================] - 0s 9ms/step\n",
            "2/2 [==============================] - 0s 9ms/step\n",
            "2/2 [==============================] - 0s 9ms/step\n",
            "2/2 [==============================] - 0s 9ms/step\n",
            "2/2 [==============================] - 0s 9ms/step\n",
            "2/2 [==============================] - 0s 9ms/step\n",
            "2/2 [==============================] - 0s 9ms/step\n",
            "2/2 [==============================] - 0s 9ms/step\n",
            "2/2 [==============================] - 0s 9ms/step\n",
            "2/2 [==============================] - 0s 9ms/step\n",
            "2/2 [==============================] - 0s 9ms/step\n",
            "2/2 [==============================] - 0s 9ms/step\n",
            "2/2 [==============================] - 0s 9ms/step\n",
            "2/2 [==============================] - 0s 8ms/step\n",
            "2/2 [==============================] - 0s 9ms/step\n",
            "2/2 [==============================] - 0s 9ms/step\n",
            "2/2 [==============================] - 0s 9ms/step\n",
            "2/2 [==============================] - 0s 9ms/step\n",
            "2/2 [==============================] - 0s 9ms/step\n",
            "2/2 [==============================] - 0s 9ms/step\n",
            "2/2 [==============================] - 0s 9ms/step\n",
            "2/2 [==============================] - 0s 9ms/step\n",
            "2/2 [==============================] - 0s 9ms/step\n",
            "2/2 [==============================] - 0s 9ms/step\n",
            "2/2 [==============================] - 0s 8ms/step\n",
            "2/2 [==============================] - 0s 8ms/step\n",
            "2/2 [==============================] - 0s 8ms/step\n",
            "2/2 [==============================] - 0s 9ms/step\n",
            "2/2 [==============================] - 0s 9ms/step\n",
            "2/2 [==============================] - 0s 9ms/step\n",
            "2/2 [==============================] - 0s 10ms/step\n",
            "2/2 [==============================] - 0s 9ms/step\n",
            "2/2 [==============================] - 0s 8ms/step\n",
            "2/2 [==============================] - 0s 9ms/step\n",
            "2/2 [==============================] - 0s 9ms/step\n",
            "2/2 [==============================] - 0s 9ms/step\n",
            "2/2 [==============================] - 0s 9ms/step\n",
            "2/2 [==============================] - 0s 8ms/step\n",
            "2/2 [==============================] - 0s 9ms/step\n",
            "2/2 [==============================] - 0s 9ms/step\n",
            "2/2 [==============================] - 0s 9ms/step\n",
            "2/2 [==============================] - 0s 9ms/step\n",
            "2/2 [==============================] - 0s 9ms/step\n",
            "2/2 [==============================] - 0s 8ms/step\n",
            "2/2 [==============================] - 0s 8ms/step\n",
            "2/2 [==============================] - 0s 9ms/step\n",
            "2/2 [==============================] - 0s 8ms/step\n",
            "2/2 [==============================] - 0s 9ms/step\n",
            "2/2 [==============================] - 0s 8ms/step\n",
            "2/2 [==============================] - 0s 9ms/step\n",
            "2/2 [==============================] - 0s 9ms/step\n",
            "2/2 [==============================] - 0s 9ms/step\n",
            "2/2 [==============================] - 0s 9ms/step\n",
            "2/2 [==============================] - 0s 9ms/step\n",
            "2/2 [==============================] - 0s 9ms/step\n",
            "2/2 [==============================] - 0s 8ms/step\n",
            "2/2 [==============================] - 0s 10ms/step\n",
            "2/2 [==============================] - 0s 9ms/step\n",
            "2/2 [==============================] - 0s 9ms/step\n",
            "2/2 [==============================] - 0s 9ms/step\n",
            "2/2 [==============================] - 0s 9ms/step\n",
            "2/2 [==============================] - 0s 9ms/step\n",
            "2/2 [==============================] - 0s 8ms/step\n",
            "2/2 [==============================] - 0s 8ms/step\n",
            "2/2 [==============================] - 0s 8ms/step\n",
            "2/2 [==============================] - 0s 9ms/step\n",
            "2/2 [==============================] - 0s 9ms/step\n",
            "2/2 [==============================] - 0s 9ms/step\n",
            "2/2 [==============================] - 0s 9ms/step\n",
            "2/2 [==============================] - 0s 9ms/step\n",
            "2/2 [==============================] - 0s 9ms/step\n",
            "2/2 [==============================] - 0s 9ms/step\n",
            "2/2 [==============================] - 0s 9ms/step\n",
            "2/2 [==============================] - 0s 9ms/step\n",
            "2/2 [==============================] - 0s 9ms/step\n",
            "2/2 [==============================] - 0s 9ms/step\n",
            "2/2 [==============================] - 0s 9ms/step\n",
            "2/2 [==============================] - 0s 9ms/step\n",
            "2/2 [==============================] - 0s 9ms/step\n",
            "2/2 [==============================] - 0s 9ms/step\n",
            "2/2 [==============================] - 0s 8ms/step\n",
            "2/2 [==============================] - 0s 9ms/step\n",
            "2/2 [==============================] - 0s 8ms/step\n",
            "2/2 [==============================] - 0s 9ms/step\n",
            "2/2 [==============================] - 0s 9ms/step\n",
            "2/2 [==============================] - 0s 9ms/step\n",
            "2/2 [==============================] - 0s 9ms/step\n",
            "2/2 [==============================] - 0s 9ms/step\n",
            "2/2 [==============================] - 0s 8ms/step\n",
            "2/2 [==============================] - 0s 9ms/step\n",
            "2/2 [==============================] - 0s 9ms/step\n",
            "2/2 [==============================] - 0s 9ms/step\n",
            "2/2 [==============================] - 0s 8ms/step\n",
            "2/2 [==============================] - 0s 8ms/step\n",
            "2/2 [==============================] - 0s 9ms/step\n",
            "2/2 [==============================] - 0s 9ms/step\n",
            "2/2 [==============================] - 0s 9ms/step\n",
            "2/2 [==============================] - 0s 9ms/step\n",
            "2/2 [==============================] - 0s 9ms/step\n",
            "2/2 [==============================] - 0s 8ms/step\n",
            "2/2 [==============================] - 0s 9ms/step\n",
            "2/2 [==============================] - 0s 9ms/step\n",
            "2/2 [==============================] - 0s 9ms/step\n",
            "2/2 [==============================] - 0s 9ms/step\n",
            "2/2 [==============================] - 0s 9ms/step\n",
            "2/2 [==============================] - 0s 9ms/step\n",
            "2/2 [==============================] - 0s 9ms/step\n",
            "2/2 [==============================] - 0s 9ms/step\n",
            "2/2 [==============================] - 0s 9ms/step\n",
            "2/2 [==============================] - 0s 9ms/step\n",
            "2/2 [==============================] - 0s 9ms/step\n",
            "2/2 [==============================] - 0s 9ms/step\n",
            "2/2 [==============================] - 0s 10ms/step\n",
            "2/2 [==============================] - 0s 9ms/step\n",
            "2/2 [==============================] - 0s 8ms/step\n",
            "1/1 [==============================] - 0s 21ms/step\n"
          ]
        }
      ]
    },
    {
      "cell_type": "code",
      "source": [
        "from sklearn.metrics import confusion_matrix, classification_report\n",
        "import seaborn as sns\n",
        "import matplotlib.pyplot as plt\n",
        "\n",
        "cm = confusion_matrix(y_true, y_pred)\n",
        "\n",
        "plt.figure(figsize=(6,6))\n",
        "sns.heatmap(cm, annot=True, fmt=\"d\")\n",
        "plt.ylabel('True label')\n",
        "plt.xlabel('Predicted label')\n",
        "plt.show()\n"
      ],
      "metadata": {
        "colab": {
          "base_uri": "https://localhost:8080/",
          "height": 542
        },
        "id": "i1uRHyOXaZ9h",
        "outputId": "4940dd95-206b-420c-8f39-33766b96ea93"
      },
      "execution_count": 56,
      "outputs": [
        {
          "output_type": "display_data",
          "data": {
            "text/plain": [
              "<Figure size 600x600 with 2 Axes>"
            ],
            "image/png": "[encoded data removed]"
          },
          "metadata": {}
        }
      ]
    },
    {
      "cell_type": "code",
      "source": [
        "print(classification_report(y_true, y_pred))"
      ],
      "metadata": {
        "colab": {
          "base_uri": "https://localhost:8080/"
        },
        "id": "HRuSVo8Hajio",
        "outputId": "7556c52c-783f-4a5c-ba26-1a11460743c7"
      },
      "execution_count": 57,
      "outputs": [
        {
          "output_type": "stream",
          "name": "stdout",
          "text": [
            "              precision    recall  f1-score   support\n",
            "\n",
            "           0       0.83      0.86      0.85      6209\n",
            "           1       0.86      0.83      0.84      6291\n",
            "\n",
            "    accuracy                           0.85     12500\n",
            "   macro avg       0.85      0.85      0.85     12500\n",
            "weighted avg       0.85      0.85      0.85     12500\n",
            "\n"
          ]
        }
      ]
    },
    {
      "cell_type": "markdown",
      "source": [
        "***Very similar to other model's in accuracy, but the computation load is way lighter compared to a Traditional Transformer model.***"
      ],
      "metadata": {
        "id": "sUkZxcUxbDAs"
      }
    }
  ],
  "metadata": {
    "accelerator": "GPU",
    "colab": {
      "collapsed_sections": [
        "yHoYbLZ0Vd1Z"
      ],
      "machine_shape": "hm",
      "provenance": [],
      "gpuType": "T4",
      "mount_file_id": "1bU7GhF23xWvpCyve3p8sX7aqbg235nCJ",
      "authorship_tag": "ABX9TyNmwGmNIRLifg745XsfmbRi",
      "include_colab_link": true
    },
    "kernelspec": {
      "display_name": "Python 3",
      "name": "python3"
    },
    "language_info": {
      "name": "python"
    }
  },
  "nbformat": 4,
  "nbformat_minor": 0
}